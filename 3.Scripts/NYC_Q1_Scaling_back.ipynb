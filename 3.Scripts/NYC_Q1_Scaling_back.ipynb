{
 "cells": [
  {
   "cell_type": "markdown",
   "id": "f7d168d9-3241-40ba-9c6f-141005473de6",
   "metadata": {},
   "source": [
    "### How much would you recommend scaling bikes back between November and April?\n",
    "\n",
    "The dual line axis chart we created shows seasonal demand patterns overall, but not the operational ceiling we need to plan for. ***For scaling decisions, what matters is peak demand at busy hours***. So, what we need here is the peak load per month,not the daily or monthly average. We group our rides by month and hour of day to find the maximum hourly trips in each month. Then we can compare winter peaks as a percentage of summer peaks, and by applying a margin of 10-15%, we can answer the question of how much we could scale back while still covering demand safely."
   ]
  },
  {
   "cell_type": "code",
   "execution_count": 1,
   "id": "665c8389-5137-4faf-a93a-9a9246d6b67e",
   "metadata": {},
   "outputs": [
    {
     "name": "stdout",
     "output_type": "stream",
     "text": [
      "hours: 8759 | range: 2022-01-01 00:00:00 → 2022-12-31 23:00:00\n"
     ]
    }
   ],
   "source": [
    "import pandas as pd\n",
    "from pathlib import Path\n",
    "\n",
    "file_path = Path(r\"C:/Users/magia/OneDrive/Desktop/NY_Citi_Bike/2.Data/Prepared Data/nyc_2022_essential_data.csv\")\n",
    "\n",
    "hourly_counts = {}\n",
    "\n",
    "for chunk in pd.read_csv(\n",
    "    file_path,\n",
    "    usecols=[\"started_at\"],\n",
    "    chunksize=500_000,          # adjust up/down depending on your RAM\n",
    "    dtype=str,                  # avoid heavy date parsing while reading\n",
    "    on_bad_lines=\"skip\",        # skip any malformed rows\n",
    "    low_memory=True,\n",
    "    encoding_errors=\"ignore\"\n",
    "):\n",
    "    s = pd.to_datetime(chunk[\"started_at\"], errors=\"coerce\")\n",
    "    s = s[(s >= \"2022-01-01\") & (s < \"2023-01-01\")]\n",
    "    s_hour = s.dt.floor(\"H\").dropna()\n",
    "\n",
    "    vc = s_hour.value_counts()\n",
    "    for ts, cnt in vc.items():\n",
    "        hourly_counts[ts] = hourly_counts.get(ts, 0) + int(cnt)\n",
    "\n",
    "hourly = pd.Series(hourly_counts, dtype=\"int64\").sort_index()\n",
    "print(\"hours:\", len(hourly), \"| range:\", hourly.index.min(), \"→\", hourly.index.max())"
   ]
  },
  {
   "cell_type": "code",
   "execution_count": 2,
   "id": "f4705c03-aaff-4e28-a918-ce9ba0545b53",
   "metadata": {},
   "outputs": [
    {
     "name": "stdout",
     "output_type": "stream",
     "text": [
      "  month           peak_hour  trips  %_of_september_peak\n",
      "2022-01 2022-01-19 17:00:00   5134                 37.4\n",
      "2022-02 2022-02-23 17:00:00   7687                 55.9\n",
      "2022-03 2022-03-18 17:00:00   9981                 72.6\n",
      "2022-04 2022-04-12 17:00:00  11985                 87.2\n",
      "2022-05 2022-05-17 18:00:00  12366                 90.0\n",
      "2022-06 2022-06-14 18:00:00  12790                 93.1\n",
      "2022-07 2022-07-26 18:00:00  12623                 91.8\n",
      "2022-08 2022-08-24 18:00:00  12676                 92.2\n",
      "2022-09 2022-09-08 18:00:00  13745                100.0\n",
      "2022-10 2022-10-06 17:00:00  12701                 92.4\n",
      "2022-11 2022-11-02 17:00:00  12128                 88.2\n",
      "2022-12 2022-12-08 08:00:00   7761                 56.5\n"
     ]
    }
   ],
   "source": [
    "# 'find monthly peak-hour demand\n",
    "\n",
    "import pandas as pd\n",
    "\n",
    "hourly_df = hourly.rename(\"trips\").to_frame()\n",
    "hourly_df[\"month\"] = hourly_df.index.to_period(\"M\")\n",
    "\n",
    "# Find the hour with the max trips in each month\n",
    "peak_idx = hourly_df.groupby(\"month\")[\"trips\"].idxmax()\n",
    "peaks = hourly_df.loc[peak_idx].copy()\n",
    "\n",
    "# Tidy up\n",
    "peaks = peaks.reset_index().rename(columns={\"index\": \"peak_hour\"})\n",
    "peaks[\"month\"] = peaks[\"month\"].astype(str)\n",
    "\n",
    "# Use September as the baseline\n",
    "if (peaks[\"month\"] == \"2022-09\").any():\n",
    "    july_peak = int(peaks.loc[peaks[\"month\"] == \"2022-09\", \"trips\"].iloc[0])\n",
    "else:\n",
    "    july_peak = int(peaks[\"trips\"].max())\n",
    "\n",
    "peaks[\"%_of_september_peak\"] = (peaks[\"trips\"] / july_peak * 100).round(1)\n",
    "\n",
    "# Show results\n",
    "print(peaks[[\"month\", \"peak_hour\", \"trips\", \"%_of_september_peak\"]]\n",
    "      .sort_values(\"month\")\n",
    "      .to_string(index=False))"
   ]
  },
  {
   "cell_type": "code",
   "execution_count": 3,
   "id": "41e0b990-17f0-4181-83f4-10d0565c5bd4",
   "metadata": {},
   "outputs": [
    {
     "data": {
      "application/vnd.plotly.v1+json": {
       "config": {
        "plotlyServerURL": "https://plot.ly"
       },
       "data": [
        {
         "customdata": [
          [
           "2022-01-19 17:00",
           37.4
          ],
          [
           "2022-02-23 17:00",
           55.9
          ],
          [
           "2022-03-18 17:00",
           72.6
          ],
          [
           "2022-04-12 17:00",
           87.2
          ],
          [
           "2022-05-17 18:00",
           90
          ],
          [
           "2022-06-14 18:00",
           93.1
          ],
          [
           "2022-07-26 18:00",
           91.8
          ],
          [
           "2022-08-24 18:00",
           92.2
          ],
          [
           "2022-09-08 18:00",
           100
          ],
          [
           "2022-10-06 17:00",
           92.4
          ],
          [
           "2022-11-02 17:00",
           88.2
          ],
          [
           "2022-12-08 08:00",
           56.5
          ]
         ],
         "hovertemplate": "<b>%{x} 2022</b><br>Peak hour: %{customdata[0]}<br>Peak-hour trips: %{y:,}<br>% of Sept peak: %{customdata[1]:.1f}%<extra></extra>",
         "legendgroup": "",
         "marker": {
          "color": {
           "bdata": "DhQHHv0m0S5OMPYxTzGEMbE1nTFgL1Ee",
           "dtype": "i2"
          },
          "coloraxis": "coloraxis",
          "pattern": {
           "shape": ""
          }
         },
         "name": "",
         "orientation": "v",
         "showlegend": false,
         "textposition": "auto",
         "type": "bar",
         "x": [
          "Jan",
          "Feb",
          "Mar",
          "Apr",
          "May",
          "Jun",
          "Jul",
          "Aug",
          "Sep",
          "Oct",
          "Nov",
          "Dec"
         ],
         "xaxis": "x",
         "y": {
          "bdata": "DhQHHv0m0S5OMPYxTzGEMbE1nTFgL1Ee",
          "dtype": "i2"
         },
         "yaxis": "y"
        }
       ],
       "layout": {
        "annotations": [
         {
          "showarrow": false,
          "text": "Sept peak = 13,745 trips",
          "x": 0,
          "xanchor": "left",
          "xref": "x domain",
          "y": 13745,
          "yanchor": "bottom",
          "yref": "y"
         }
        ],
        "barmode": "relative",
        "coloraxis": {
         "colorbar": {
          "title": {
           "text": "Trips"
          }
         },
         "colorscale": [
          [
           0,
           "rgb(235,155,116)"
          ],
          [
           0.1,
           "rgb(233,135,104)"
          ],
          [
           0.2,
           "rgb(229,113,94)"
          ],
          [
           0.3,
           "rgb(222,93,92)"
          ],
          [
           0.4,
           "rgb(211,76,96)"
          ],
          [
           0.5,
           "rgb(193,65,104)"
          ],
          [
           0.6,
           "rgb(174,59,109)"
          ],
          [
           0.7,
           "rgb(154,54,112)"
          ],
          [
           0.8,
           "rgb(134,48,113)"
          ],
          [
           0.9,
           "rgb(114,44,110)"
          ],
          [
           1,
           "rgb(94,40,104)"
          ]
         ]
        },
        "legend": {
         "tracegroupgap": 0
        },
        "margin": {
         "b": 60,
         "l": 40,
         "r": 20,
         "t": 60
        },
        "shapes": [
         {
          "line": {
           "color": "red",
           "dash": "dash"
          },
          "type": "line",
          "x0": 0,
          "x1": 1,
          "xref": "x domain",
          "y0": 13745,
          "y1": 13745,
          "yref": "y"
         }
        ],
        "template": {
         "data": {
          "bar": [
           {
            "error_x": {
             "color": "#2a3f5f"
            },
            "error_y": {
             "color": "#2a3f5f"
            },
            "marker": {
             "line": {
              "color": "#E5ECF6",
              "width": 0.5
             },
             "pattern": {
              "fillmode": "overlay",
              "size": 10,
              "solidity": 0.2
             }
            },
            "type": "bar"
           }
          ],
          "barpolar": [
           {
            "marker": {
             "line": {
              "color": "#E5ECF6",
              "width": 0.5
             },
             "pattern": {
              "fillmode": "overlay",
              "size": 10,
              "solidity": 0.2
             }
            },
            "type": "barpolar"
           }
          ],
          "carpet": [
           {
            "aaxis": {
             "endlinecolor": "#2a3f5f",
             "gridcolor": "white",
             "linecolor": "white",
             "minorgridcolor": "white",
             "startlinecolor": "#2a3f5f"
            },
            "baxis": {
             "endlinecolor": "#2a3f5f",
             "gridcolor": "white",
             "linecolor": "white",
             "minorgridcolor": "white",
             "startlinecolor": "#2a3f5f"
            },
            "type": "carpet"
           }
          ],
          "choropleth": [
           {
            "colorbar": {
             "outlinewidth": 0,
             "ticks": ""
            },
            "type": "choropleth"
           }
          ],
          "contour": [
           {
            "colorbar": {
             "outlinewidth": 0,
             "ticks": ""
            },
            "colorscale": [
             [
              0,
              "#0d0887"
             ],
             [
              0.1111111111111111,
              "#46039f"
             ],
             [
              0.2222222222222222,
              "#7201a8"
             ],
             [
              0.3333333333333333,
              "#9c179e"
             ],
             [
              0.4444444444444444,
              "#bd3786"
             ],
             [
              0.5555555555555556,
              "#d8576b"
             ],
             [
              0.6666666666666666,
              "#ed7953"
             ],
             [
              0.7777777777777778,
              "#fb9f3a"
             ],
             [
              0.8888888888888888,
              "#fdca26"
             ],
             [
              1,
              "#f0f921"
             ]
            ],
            "type": "contour"
           }
          ],
          "contourcarpet": [
           {
            "colorbar": {
             "outlinewidth": 0,
             "ticks": ""
            },
            "type": "contourcarpet"
           }
          ],
          "heatmap": [
           {
            "colorbar": {
             "outlinewidth": 0,
             "ticks": ""
            },
            "colorscale": [
             [
              0,
              "#0d0887"
             ],
             [
              0.1111111111111111,
              "#46039f"
             ],
             [
              0.2222222222222222,
              "#7201a8"
             ],
             [
              0.3333333333333333,
              "#9c179e"
             ],
             [
              0.4444444444444444,
              "#bd3786"
             ],
             [
              0.5555555555555556,
              "#d8576b"
             ],
             [
              0.6666666666666666,
              "#ed7953"
             ],
             [
              0.7777777777777778,
              "#fb9f3a"
             ],
             [
              0.8888888888888888,
              "#fdca26"
             ],
             [
              1,
              "#f0f921"
             ]
            ],
            "type": "heatmap"
           }
          ],
          "histogram": [
           {
            "marker": {
             "pattern": {
              "fillmode": "overlay",
              "size": 10,
              "solidity": 0.2
             }
            },
            "type": "histogram"
           }
          ],
          "histogram2d": [
           {
            "colorbar": {
             "outlinewidth": 0,
             "ticks": ""
            },
            "colorscale": [
             [
              0,
              "#0d0887"
             ],
             [
              0.1111111111111111,
              "#46039f"
             ],
             [
              0.2222222222222222,
              "#7201a8"
             ],
             [
              0.3333333333333333,
              "#9c179e"
             ],
             [
              0.4444444444444444,
              "#bd3786"
             ],
             [
              0.5555555555555556,
              "#d8576b"
             ],
             [
              0.6666666666666666,
              "#ed7953"
             ],
             [
              0.7777777777777778,
              "#fb9f3a"
             ],
             [
              0.8888888888888888,
              "#fdca26"
             ],
             [
              1,
              "#f0f921"
             ]
            ],
            "type": "histogram2d"
           }
          ],
          "histogram2dcontour": [
           {
            "colorbar": {
             "outlinewidth": 0,
             "ticks": ""
            },
            "colorscale": [
             [
              0,
              "#0d0887"
             ],
             [
              0.1111111111111111,
              "#46039f"
             ],
             [
              0.2222222222222222,
              "#7201a8"
             ],
             [
              0.3333333333333333,
              "#9c179e"
             ],
             [
              0.4444444444444444,
              "#bd3786"
             ],
             [
              0.5555555555555556,
              "#d8576b"
             ],
             [
              0.6666666666666666,
              "#ed7953"
             ],
             [
              0.7777777777777778,
              "#fb9f3a"
             ],
             [
              0.8888888888888888,
              "#fdca26"
             ],
             [
              1,
              "#f0f921"
             ]
            ],
            "type": "histogram2dcontour"
           }
          ],
          "mesh3d": [
           {
            "colorbar": {
             "outlinewidth": 0,
             "ticks": ""
            },
            "type": "mesh3d"
           }
          ],
          "parcoords": [
           {
            "line": {
             "colorbar": {
              "outlinewidth": 0,
              "ticks": ""
             }
            },
            "type": "parcoords"
           }
          ],
          "pie": [
           {
            "automargin": true,
            "type": "pie"
           }
          ],
          "scatter": [
           {
            "fillpattern": {
             "fillmode": "overlay",
             "size": 10,
             "solidity": 0.2
            },
            "type": "scatter"
           }
          ],
          "scatter3d": [
           {
            "line": {
             "colorbar": {
              "outlinewidth": 0,
              "ticks": ""
             }
            },
            "marker": {
             "colorbar": {
              "outlinewidth": 0,
              "ticks": ""
             }
            },
            "type": "scatter3d"
           }
          ],
          "scattercarpet": [
           {
            "marker": {
             "colorbar": {
              "outlinewidth": 0,
              "ticks": ""
             }
            },
            "type": "scattercarpet"
           }
          ],
          "scattergeo": [
           {
            "marker": {
             "colorbar": {
              "outlinewidth": 0,
              "ticks": ""
             }
            },
            "type": "scattergeo"
           }
          ],
          "scattergl": [
           {
            "marker": {
             "colorbar": {
              "outlinewidth": 0,
              "ticks": ""
             }
            },
            "type": "scattergl"
           }
          ],
          "scattermap": [
           {
            "marker": {
             "colorbar": {
              "outlinewidth": 0,
              "ticks": ""
             }
            },
            "type": "scattermap"
           }
          ],
          "scattermapbox": [
           {
            "marker": {
             "colorbar": {
              "outlinewidth": 0,
              "ticks": ""
             }
            },
            "type": "scattermapbox"
           }
          ],
          "scatterpolar": [
           {
            "marker": {
             "colorbar": {
              "outlinewidth": 0,
              "ticks": ""
             }
            },
            "type": "scatterpolar"
           }
          ],
          "scatterpolargl": [
           {
            "marker": {
             "colorbar": {
              "outlinewidth": 0,
              "ticks": ""
             }
            },
            "type": "scatterpolargl"
           }
          ],
          "scatterternary": [
           {
            "marker": {
             "colorbar": {
              "outlinewidth": 0,
              "ticks": ""
             }
            },
            "type": "scatterternary"
           }
          ],
          "surface": [
           {
            "colorbar": {
             "outlinewidth": 0,
             "ticks": ""
            },
            "colorscale": [
             [
              0,
              "#0d0887"
             ],
             [
              0.1111111111111111,
              "#46039f"
             ],
             [
              0.2222222222222222,
              "#7201a8"
             ],
             [
              0.3333333333333333,
              "#9c179e"
             ],
             [
              0.4444444444444444,
              "#bd3786"
             ],
             [
              0.5555555555555556,
              "#d8576b"
             ],
             [
              0.6666666666666666,
              "#ed7953"
             ],
             [
              0.7777777777777778,
              "#fb9f3a"
             ],
             [
              0.8888888888888888,
              "#fdca26"
             ],
             [
              1,
              "#f0f921"
             ]
            ],
            "type": "surface"
           }
          ],
          "table": [
           {
            "cells": {
             "fill": {
              "color": "#EBF0F8"
             },
             "line": {
              "color": "white"
             }
            },
            "header": {
             "fill": {
              "color": "#C8D4E3"
             },
             "line": {
              "color": "white"
             }
            },
            "type": "table"
           }
          ]
         },
         "layout": {
          "annotationdefaults": {
           "arrowcolor": "#2a3f5f",
           "arrowhead": 0,
           "arrowwidth": 1
          },
          "autotypenumbers": "strict",
          "coloraxis": {
           "colorbar": {
            "outlinewidth": 0,
            "ticks": ""
           }
          },
          "colorscale": {
           "diverging": [
            [
             0,
             "#8e0152"
            ],
            [
             0.1,
             "#c51b7d"
            ],
            [
             0.2,
             "#de77ae"
            ],
            [
             0.3,
             "#f1b6da"
            ],
            [
             0.4,
             "#fde0ef"
            ],
            [
             0.5,
             "#f7f7f7"
            ],
            [
             0.6,
             "#e6f5d0"
            ],
            [
             0.7,
             "#b8e186"
            ],
            [
             0.8,
             "#7fbc41"
            ],
            [
             0.9,
             "#4d9221"
            ],
            [
             1,
             "#276419"
            ]
           ],
           "sequential": [
            [
             0,
             "#0d0887"
            ],
            [
             0.1111111111111111,
             "#46039f"
            ],
            [
             0.2222222222222222,
             "#7201a8"
            ],
            [
             0.3333333333333333,
             "#9c179e"
            ],
            [
             0.4444444444444444,
             "#bd3786"
            ],
            [
             0.5555555555555556,
             "#d8576b"
            ],
            [
             0.6666666666666666,
             "#ed7953"
            ],
            [
             0.7777777777777778,
             "#fb9f3a"
            ],
            [
             0.8888888888888888,
             "#fdca26"
            ],
            [
             1,
             "#f0f921"
            ]
           ],
           "sequentialminus": [
            [
             0,
             "#0d0887"
            ],
            [
             0.1111111111111111,
             "#46039f"
            ],
            [
             0.2222222222222222,
             "#7201a8"
            ],
            [
             0.3333333333333333,
             "#9c179e"
            ],
            [
             0.4444444444444444,
             "#bd3786"
            ],
            [
             0.5555555555555556,
             "#d8576b"
            ],
            [
             0.6666666666666666,
             "#ed7953"
            ],
            [
             0.7777777777777778,
             "#fb9f3a"
            ],
            [
             0.8888888888888888,
             "#fdca26"
            ],
            [
             1,
             "#f0f921"
            ]
           ]
          },
          "colorway": [
           "#636efa",
           "#EF553B",
           "#00cc96",
           "#ab63fa",
           "#FFA15A",
           "#19d3f3",
           "#FF6692",
           "#B6E880",
           "#FF97FF",
           "#FECB52"
          ],
          "font": {
           "color": "#2a3f5f"
          },
          "geo": {
           "bgcolor": "white",
           "lakecolor": "white",
           "landcolor": "#E5ECF6",
           "showlakes": true,
           "showland": true,
           "subunitcolor": "white"
          },
          "hoverlabel": {
           "align": "left"
          },
          "hovermode": "closest",
          "mapbox": {
           "style": "light"
          },
          "paper_bgcolor": "white",
          "plot_bgcolor": "#E5ECF6",
          "polar": {
           "angularaxis": {
            "gridcolor": "white",
            "linecolor": "white",
            "ticks": ""
           },
           "bgcolor": "#E5ECF6",
           "radialaxis": {
            "gridcolor": "white",
            "linecolor": "white",
            "ticks": ""
           }
          },
          "scene": {
           "xaxis": {
            "backgroundcolor": "#E5ECF6",
            "gridcolor": "white",
            "gridwidth": 2,
            "linecolor": "white",
            "showbackground": true,
            "ticks": "",
            "zerolinecolor": "white"
           },
           "yaxis": {
            "backgroundcolor": "#E5ECF6",
            "gridcolor": "white",
            "gridwidth": 2,
            "linecolor": "white",
            "showbackground": true,
            "ticks": "",
            "zerolinecolor": "white"
           },
           "zaxis": {
            "backgroundcolor": "#E5ECF6",
            "gridcolor": "white",
            "gridwidth": 2,
            "linecolor": "white",
            "showbackground": true,
            "ticks": "",
            "zerolinecolor": "white"
           }
          },
          "shapedefaults": {
           "line": {
            "color": "#2a3f5f"
           }
          },
          "ternary": {
           "aaxis": {
            "gridcolor": "white",
            "linecolor": "white",
            "ticks": ""
           },
           "baxis": {
            "gridcolor": "white",
            "linecolor": "white",
            "ticks": ""
           },
           "bgcolor": "#E5ECF6",
           "caxis": {
            "gridcolor": "white",
            "linecolor": "white",
            "ticks": ""
           }
          },
          "title": {
           "x": 0.05
          },
          "xaxis": {
           "automargin": true,
           "gridcolor": "white",
           "linecolor": "white",
           "ticks": "",
           "title": {
            "standoff": 15
           },
           "zerolinecolor": "white",
           "zerolinewidth": 2
          },
          "yaxis": {
           "automargin": true,
           "gridcolor": "white",
           "linecolor": "white",
           "ticks": "",
           "title": {
            "standoff": 15
           },
           "zerolinecolor": "white",
           "zerolinewidth": 2
          }
         }
        },
        "title": {
         "text": "Monthly Peak-Hour - CitiBike NYC 2022"
        },
        "xaxis": {
         "anchor": "y",
         "domain": [
          0,
          1
         ],
         "tickangle": -45,
         "title": {
          "text": "Month"
         }
        },
        "yaxis": {
         "anchor": "x",
         "domain": [
          0,
          1
         ],
         "title": {
          "text": "Peak-hour trips"
         }
        }
       }
      }
     },
     "metadata": {},
     "output_type": "display_data"
    }
   ],
   "source": [
    "import plotly.express as px\n",
    "import numpy as np\n",
    "import seaborn as sns\n",
    "\n",
    "# --- Prep data ---\n",
    "# Ensure chronological months and friendly month labels on X (no fake '1st' date)\n",
    "peaks = peaks.sort_values(\"month\").copy()\n",
    "peaks[\"month_label\"] = pd.to_datetime(peaks[\"month\"].astype(str) + \"-01\").dt.strftime(\"%b\")\n",
    "\n",
    "# September peak (for baseline line in *trips*, not %)\n",
    "sept_trips = int(peaks.loc[peaks[\"month\"] == \"2022-09\", \"trips\"].iloc[0])\n",
    "\n",
    "# String version of the actual peak hour for clean hover text\n",
    "peaks[\"peak_hour_str\"] = pd.to_datetime(peaks[\"peak_hour\"]).dt.strftime(\"%Y-%m-%d %H:%M\")\n",
    "\n",
    "# --- Exact Flare colorscale from seaborn ---\n",
    "palette = sns.color_palette(\"flare\", 11)  # smooth warm scale\n",
    "def rgb_tuple_to_str(t):\n",
    "    r, g, b = (int(round(255*x)) for x in t)\n",
    "    return f\"rgb({r},{g},{b})\"\n",
    "colorscale = [[i/(len(palette)-1), rgb_tuple_to_str(c)] for i, c in enumerate(palette)]\n",
    "\n",
    "# --- Plotly interactive bar chart (color by trips) ---\n",
    "fig = px.bar(\n",
    "    peaks,\n",
    "    x=\"month_label\",\n",
    "    y=\"trips\",\n",
    "    color=\"trips\",\n",
    "    color_continuous_scale=colorscale,\n",
    "    labels={\"month_label\": \"Month\", \"trips\": \"Peak-hour trips\"},\n",
    ")\n",
    "\n",
    "# % of September peak for hover\n",
    "peaks[\"pct_of_sept\"] = (peaks[\"trips\"] / sept_trips * 100).round(1)\n",
    "\n",
    "fig.update_traces(\n",
    "    hovertemplate=(\n",
    "        \"<b>%{x} 2022</b>\"\n",
    "        \"<br>Peak hour: %{customdata[0]}\"\n",
    "        \"<br>Peak-hour trips: %{y:,}\"\n",
    "        \"<br>% of Sept peak: %{customdata[1]:.1f}%<extra></extra>\"\n",
    "    ),\n",
    "    customdata=np.c_[peaks[\"peak_hour_str\"], peaks[\"pct_of_sept\"]],\n",
    ")\n",
    "\n",
    "# Baseline at September's peak (in trips)\n",
    "fig.add_hline(\n",
    "    y=sept_trips,\n",
    "    line_dash=\"dash\",\n",
    "    line_color=\"red\",\n",
    "    annotation_text=f\"Sept peak = {sept_trips:,} trips\",\n",
    "    annotation_position=\"top left\"\n",
    ")\n",
    "\n",
    "# Tidy layout\n",
    "fig.update_layout(\n",
    "    title=\"Monthly Peak-Hour - CitiBike NYC 2022\",\n",
    "    xaxis_title=\"Month\",\n",
    "    yaxis_title=\"Peak-hour trips\",\n",
    "    xaxis_tickangle=-45,\n",
    "    margin=dict(l=40, r=20, t=60, b=60),\n",
    "    coloraxis_colorbar_title=\"Trips\"\n",
    ")\n",
    "\n",
    "fig.write_html(r\"C:\\Users\\magia\\OneDrive\\Desktop\\NY_Citi_Bike\\4.Visualizations\\monthly_peak_hour_demand.html\", include_plotlyjs=\"cdn\")\n",
    "\n",
    "fig.show()"
   ]
  },
  {
   "cell_type": "markdown",
   "id": "59f2c53d-55bc-4b1e-ab3d-dd73faed378a",
   "metadata": {},
   "source": [
    "Our analysis gives us these results:\n",
    "\n",
    "- Nov: Still strong peaks (~88%), so no meaningful scale-back until December.\n",
    "- Dec: Sharp drop (~55%) → clear opportunity to scale down fleet ~30–40%.\n",
    "- Jan: Peak demand drops to less than 40% of September → fleet can be scaled back by about half.\n",
    "- Feb: Demand grows to ~55%, so getting it back to ~70% is recommended\n",
    "- Mar: Growth continues with demand over 70%, so fleet at 80-85% should be fine\n",
    "- Apr: At almost 90%, demand reaches peak heights, so full fleet capacity is needed hereafter.\n",
    "\n",
    "Overall: A month-by-month approach is more practical than a blanket seasonal strategy, since peak demand varies widely(from ~37% to ~72% of maximum, and that is excluding Novemeber and April). This supports targeted winter scaling rather than uniform reductions."
   ]
  },
  {
   "cell_type": "code",
   "execution_count": 4,
   "id": "d7e9cedb-f513-4232-8a76-0cc484d13847",
   "metadata": {},
   "outputs": [],
   "source": [
    "peaks.to_csv(r\"C:\\Users\\magia\\OneDrive\\Desktop\\NY_Citi_Bike\\2.Data\\Prepared Data\\aggregated\\peaks.csv\", index=False)"
   ]
  }
 ],
 "metadata": {
  "kernelspec": {
   "display_name": "Python (CB22)",
   "language": "python",
   "name": "cb22"
  },
  "language_info": {
   "codemirror_mode": {
    "name": "ipython",
    "version": 3
   },
   "file_extension": ".py",
   "mimetype": "text/x-python",
   "name": "python",
   "nbconvert_exporter": "python",
   "pygments_lexer": "ipython3",
   "version": "3.10.18"
  }
 },
 "nbformat": 4,
 "nbformat_minor": 5
}
