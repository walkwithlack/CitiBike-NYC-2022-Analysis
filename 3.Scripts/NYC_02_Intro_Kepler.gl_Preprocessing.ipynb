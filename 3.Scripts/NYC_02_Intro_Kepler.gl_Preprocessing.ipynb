{
 "cells": [
  {
   "cell_type": "markdown",
   "id": "4610c53d-2674-42f1-9b61-36dd0b7ac37a",
   "metadata": {},
   "source": [
    "# Geospatial plotting with Kepler.gl"
   ]
  },
  {
   "cell_type": "markdown",
   "id": "c5a71ad4-071d-441e-b6a8-45291cd88c52",
   "metadata": {},
   "source": [
    "#### 1. Import libraries & data"
   ]
  },
  {
   "cell_type": "code",
   "execution_count": 1,
   "id": "29165bf8",
   "metadata": {
    "tags": []
   },
   "outputs": [],
   "source": [
    "# Import libraries\n",
    "\n",
    "import pandas as pd\n",
    "import os\n",
    "from keplergl import KeplerGl\n"
   ]
  },
  {
   "cell_type": "code",
   "execution_count": 2,
   "id": "3213e9de-424a-4251-a102-7d99d25325da",
   "metadata": {},
   "outputs": [
    {
     "name": "stdout",
     "output_type": "stream",
     "text": [
      "File size: 4.30 GB\n"
     ]
    }
   ],
   "source": [
    "# Quick file check\n",
    "file_size = os.path.getsize(r\"C:\\Users\\magia\\OneDrive\\Desktop\\NY_Citi_Bike\\2.Data\\Prepared Data\\nyc_2022_essential_data.csv\") # Streamlit-Access: Check Google Drive Link for file\n",
    "print(f\"File size: {file_size / 1024**3:.2f} GB\")"
   ]
  },
  {
   "cell_type": "code",
   "execution_count": 3,
   "id": "06154e1a-b4e1-4cb3-b393-211532f2b182",
   "metadata": {},
   "outputs": [],
   "source": [
    "# Load only the essential columns for Kepler OD map\n",
    "essential_cols = ['start_station_name', 'end_station_name', 'start_lat', 'start_lng', 'end_lat', 'end_lng']\n",
    "\n",
    "df = pd.read_csv(r\"C:\\Users\\magia\\OneDrive\\Desktop\\NY_Citi_Bike\\2.Data\\Prepared Data\\nyc_2022_essential_data.csv\",\n",
    "                 usecols=essential_cols,\n",
    "                 low_memory=False)"
   ]
  },
  {
   "cell_type": "markdown",
   "id": "068fbca1-8036-41b5-ae4a-df7dddc5560c",
   "metadata": {
    "tags": []
   },
   "source": [
    "#### 2. Data Preparation – aggregate trips into start–end flows and station usage"
   ]
  },
  {
   "cell_type": "code",
   "execution_count": 4,
   "id": "7d7ddefb-60ec-4807-bb8c-719dbbff1fc6",
   "metadata": {},
   "outputs": [],
   "source": [
    "#Get station counts and find stations for 90% coverage\n",
    "start_counts = df['start_station_name'].value_counts()\n",
    "end_counts = df['end_station_name'].value_counts()\n",
    "total_trips = len(df)\n",
    "\n",
    "# Find how many stations needed for 90% coverage\n",
    "cumsum_start = start_counts.cumsum() / total_trips\n",
    "cumsum_end = end_counts.cumsum() / total_trips\n",
    "\n",
    "stations_for_90_start = (cumsum_start <= 0.9).sum()\n",
    "stations_for_90_end = (cumsum_end <= 0.9).sum()"
   ]
  },
  {
   "cell_type": "code",
   "execution_count": 5,
   "id": "4d9c7c1b-fe44-417e-8833-ca7a48f09b8f",
   "metadata": {},
   "outputs": [
    {
     "name": "stdout",
     "output_type": "stream",
     "text": [
      "Using 871 start stations and 876 end stations for 90% coverage\n"
     ]
    }
   ],
   "source": [
    "# Get the actual station names for top 90% coverage\n",
    "top_90_start = start_counts.head(stations_for_90_start).index.tolist()\n",
    "top_90_end = end_counts.head(stations_for_90_end).index.tolist()\n",
    "\n",
    "print(f\"Using {stations_for_90_start} start stations and {stations_for_90_end} end stations for 90% coverage\")"
   ]
  },
  {
   "cell_type": "code",
   "execution_count": 6,
   "id": "67a82b25-d707-4ad2-93b2-8a75495ad656",
   "metadata": {},
   "outputs": [
    {
     "name": "stdout",
     "output_type": "stream",
     "text": [
      "Filtered from 29,838,166 to 25,469,099 trips (85.4%)\n"
     ]
    }
   ],
   "source": [
    "# Filter dataframe to only include these stations\n",
    "df_filtered = df[\n",
    "    (df['start_station_name'].isin(top_90_start)) & \n",
    "    (df['end_station_name'].isin(top_90_end))\n",
    "]\n",
    "\n",
    "print(f\"Filtered from {len(df):,} to {len(df_filtered):,} trips ({len(df_filtered)/len(df)*100:.1f}%)\")\n"
   ]
  },
  {
   "cell_type": "code",
   "execution_count": 7,
   "id": "987c07cc-7629-479d-8b66-a49827bf21a4",
   "metadata": {},
   "outputs": [],
   "source": [
    "# Process the groupby in chunks to avoid memory issues\n",
    "def create_od_chunked(df, chunk_size=5_000_000):\n",
    "    od_list = []\n",
    "    for i in range(0, len(df), chunk_size):\n",
    "        chunk = df.iloc[i:i+chunk_size]\n",
    "        od_chunk = (\n",
    "            chunk\n",
    "            .groupby(['start_station_name','end_station_name'])\n",
    "            .size()                                  # counts rows\n",
    "        )\n",
    "        od_list.append(od_chunk)\n",
    "    return pd.concat(od_list).groupby(level=[0,1]).sum()"
   ]
  },
  {
   "cell_type": "code",
   "execution_count": 8,
   "id": "eb6acb45-9a1d-44c2-a5ef-b207bf351d51",
   "metadata": {},
   "outputs": [
    {
     "name": "stdout",
     "output_type": "stream",
     "text": [
      "Creating OD matrix in chunks...\n",
      "OD matrix created with 543,555 origin-destination pairs\n"
     ]
    },
    {
     "data": {
      "text/html": [
       "<div>\n",
       "<style scoped>\n",
       "    .dataframe tbody tr th:only-of-type {\n",
       "        vertical-align: middle;\n",
       "    }\n",
       "\n",
       "    .dataframe tbody tr th {\n",
       "        vertical-align: top;\n",
       "    }\n",
       "\n",
       "    .dataframe thead th {\n",
       "        text-align: right;\n",
       "    }\n",
       "</style>\n",
       "<table border=\"1\" class=\"dataframe\">\n",
       "  <thead>\n",
       "    <tr style=\"text-align: right;\">\n",
       "      <th></th>\n",
       "      <th>start_station_name</th>\n",
       "      <th>end_station_name</th>\n",
       "      <th>trip_count</th>\n",
       "    </tr>\n",
       "  </thead>\n",
       "  <tbody>\n",
       "    <tr>\n",
       "      <th>132390</th>\n",
       "      <td>Central Park S &amp; 6 Ave</td>\n",
       "      <td>Central Park S &amp; 6 Ave</td>\n",
       "      <td>12041</td>\n",
       "    </tr>\n",
       "    <tr>\n",
       "      <th>53800</th>\n",
       "      <td>7 Ave &amp; Central Park South</td>\n",
       "      <td>7 Ave &amp; Central Park South</td>\n",
       "      <td>8541</td>\n",
       "    </tr>\n",
       "    <tr>\n",
       "      <th>408924</th>\n",
       "      <td>Roosevelt Island Tramway</td>\n",
       "      <td>Roosevelt Island Tramway</td>\n",
       "      <td>8213</td>\n",
       "    </tr>\n",
       "    <tr>\n",
       "      <th>286778</th>\n",
       "      <td>Grand Army Plaza &amp; Central Park S</td>\n",
       "      <td>Grand Army Plaza &amp; Central Park S</td>\n",
       "      <td>7287</td>\n",
       "    </tr>\n",
       "    <tr>\n",
       "      <th>418206</th>\n",
       "      <td>Soissons Landing</td>\n",
       "      <td>Soissons Landing</td>\n",
       "      <td>7275</td>\n",
       "    </tr>\n",
       "    <tr>\n",
       "      <th>466976</th>\n",
       "      <td>W 21 St &amp; 6 Ave</td>\n",
       "      <td>9 Ave &amp; W 22 St</td>\n",
       "      <td>6345</td>\n",
       "    </tr>\n",
       "    <tr>\n",
       "      <th>43490</th>\n",
       "      <td>5 Ave &amp; E 72 St</td>\n",
       "      <td>5 Ave &amp; E 72 St</td>\n",
       "      <td>6037</td>\n",
       "    </tr>\n",
       "    <tr>\n",
       "      <th>5043</th>\n",
       "      <td>1 Ave &amp; E 62 St</td>\n",
       "      <td>1 Ave &amp; E 68 St</td>\n",
       "      <td>5826</td>\n",
       "    </tr>\n",
       "    <tr>\n",
       "      <th>543554</th>\n",
       "      <td>Yankee Ferry Terminal</td>\n",
       "      <td>Yankee Ferry Terminal</td>\n",
       "      <td>5759</td>\n",
       "    </tr>\n",
       "    <tr>\n",
       "      <th>114959</th>\n",
       "      <td>Broadway &amp; W 58 St</td>\n",
       "      <td>Broadway &amp; W 58 St</td>\n",
       "      <td>5509</td>\n",
       "    </tr>\n",
       "  </tbody>\n",
       "</table>\n",
       "</div>"
      ],
      "text/plain": [
       "                       start_station_name                   end_station_name  \\\n",
       "132390             Central Park S & 6 Ave             Central Park S & 6 Ave   \n",
       "53800          7 Ave & Central Park South         7 Ave & Central Park South   \n",
       "408924           Roosevelt Island Tramway           Roosevelt Island Tramway   \n",
       "286778  Grand Army Plaza & Central Park S  Grand Army Plaza & Central Park S   \n",
       "418206                   Soissons Landing                   Soissons Landing   \n",
       "466976                    W 21 St & 6 Ave                    9 Ave & W 22 St   \n",
       "43490                     5 Ave & E 72 St                    5 Ave & E 72 St   \n",
       "5043                      1 Ave & E 62 St                    1 Ave & E 68 St   \n",
       "543554              Yankee Ferry Terminal              Yankee Ferry Terminal   \n",
       "114959                 Broadway & W 58 St                 Broadway & W 58 St   \n",
       "\n",
       "        trip_count  \n",
       "132390       12041  \n",
       "53800         8541  \n",
       "408924        8213  \n",
       "286778        7287  \n",
       "418206        7275  \n",
       "466976        6345  \n",
       "43490         6037  \n",
       "5043          5826  \n",
       "543554        5759  \n",
       "114959        5509  "
      ]
     },
     "execution_count": 8,
     "metadata": {},
     "output_type": "execute_result"
    }
   ],
   "source": [
    "# Create Origin-Destination(OD) matrix with filtered data\n",
    "print(\"Creating OD matrix in chunks...\")\n",
    "od_series = create_od_chunked(df_filtered)\n",
    "\n",
    "# Convert to DataFrame and sort\n",
    "df_od = od_series.reset_index(name=\"trip_count\").sort_values(\"trip_count\", ascending=False)\n",
    "\n",
    "print(f\"OD matrix created with {len(df_od):,} origin-destination pairs\")\n",
    "df_od.head(10)"
   ]
  },
  {
   "cell_type": "code",
   "execution_count": 9,
   "id": "2d49add5-3b7d-488e-9a83-41b0a3bc8c4a",
   "metadata": {},
   "outputs": [],
   "source": [
    "# Get unique coordinates per station\n",
    "start_coords = df_filtered[['start_station_name', 'start_lat', 'start_lng']].drop_duplicates('start_station_name')\n",
    "end_coords = df_filtered[['end_station_name', 'end_lat', 'end_lng']].drop_duplicates('end_station_name')\n",
    "\n",
    "# Add coordinates to df_od\n",
    "df_od = df_od.merge(start_coords, on='start_station_name', how='left')\n",
    "df_od = df_od.merge(end_coords, on='end_station_name', how='left')"
   ]
  },
  {
   "cell_type": "code",
   "execution_count": 10,
   "id": "ee1bef82-21f0-4927-95b7-31c88b716677",
   "metadata": {},
   "outputs": [],
   "source": [
    "# rename for Kepler flows\n",
    "df_flows = df_od.rename(columns={'trip_count': 'trips'})"
   ]
  },
  {
   "cell_type": "code",
   "execution_count": 11,
   "id": "a3d231a6-7351-4a3f-a102-90f71ecfb38f",
   "metadata": {},
   "outputs": [],
   "source": [
    "# Create stations data directly from df_filtered\n",
    "stations = (\n",
    "    df_filtered.groupby(['start_station_name', 'start_lat', 'start_lng'])\n",
    "    .size()\n",
    "    .reset_index(name='starts')\n",
    "    .rename(columns={'start_station_name': 'station', 'start_lat': 'lat', 'start_lng': 'lng'})\n",
    ")\n",
    "\n",
    "ends_data = (\n",
    "    df_filtered.groupby(['end_station_name', 'end_lat', 'end_lng'])\n",
    "    .size()\n",
    "    .reset_index(name='ends') \n",
    "    .rename(columns={'end_station_name': 'station', 'end_lat': 'lat', 'end_lng': 'lng'})\n",
    ")\n",
    "\n",
    "stations = stations.merge(ends_data, on=['station', 'lat', 'lng'], how='outer').fillna(0)\n",
    "stations['total_trips'] = stations['starts'] + stations['ends']"
   ]
  },
  {
   "cell_type": "code",
   "execution_count": 12,
   "id": "0b6b3c0c-d217-44f8-8048-338cedd03d0b",
   "metadata": {},
   "outputs": [],
   "source": [
    "stations[['starts','ends']] = stations[['starts','ends']].astype('int64')\n",
    "stations['total_trips'] = stations['total_trips'].astype('int64')"
   ]
  },
  {
   "cell_type": "markdown",
   "id": "d5a470a0-a7cb-4d5e-a50b-006af6df95a9",
   "metadata": {},
   "source": [
    "### 3. Kepler Map"
   ]
  },
  {
   "cell_type": "code",
   "execution_count": 13,
   "id": "ead2ee35-370d-4e51-89d2-6914f7fa6d60",
   "metadata": {},
   "outputs": [
    {
     "name": "stdout",
     "output_type": "stream",
     "text": [
      "count    543555.000000\n",
      "mean         46.856526\n",
      "std         129.937788\n",
      "min           1.000000\n",
      "25%           2.000000\n",
      "50%           8.000000\n",
      "75%          36.000000\n",
      "max       12041.000000\n",
      "Name: trip_count, dtype: float64\n"
     ]
    }
   ],
   "source": [
    "# See the distribution of flows\n",
    "print(df_od['trip_count'].describe())"
   ]
  },
  {
   "cell_type": "markdown",
   "id": "ab55bd99-d602-45f6-afed-e4b905aad7b2",
   "metadata": {},
   "source": [
    "- On average, OD flows have 47 trips, with a max over 12,000 and min of 1. This explains the high standard deviation of 130. If we put every flow on the map, the result would not be intelligible.\n",
    "- Over half of flows consist of 8 trips or less, so we can confidently filter these out and still capture the important OD patterns."
   ]
  },
  {
   "cell_type": "code",
   "execution_count": 14,
   "id": "2e9c4dc9-2d6d-41e2-a717-5122664edc08",
   "metadata": {},
   "outputs": [
    {
     "name": "stdout",
     "output_type": "stream",
     "text": [
      "Flows with 500+ trips: 6776\n",
      "Flows with 1000+ trips: 1466\n",
      "Flows with 1500+ trips: 499\n",
      "Flows with 2000+ trips: 226\n"
     ]
    }
   ],
   "source": [
    "print(f\"Flows with 500+ trips: {(df_od['trip_count'] >= 500).sum()}\")\n",
    "print(f\"Flows with 1000+ trips: {(df_od['trip_count'] >= 1000).sum()}\")\n",
    "print(f\"Flows with 1500+ trips: {(df_od['trip_count'] >= 1500).sum()}\")\n",
    "print(f\"Flows with 2000+ trips: {(df_od['trip_count'] >= 2000).sum()}\")"
   ]
  },
  {
   "cell_type": "markdown",
   "id": "55e6a16f-dd23-4e7d-ae37-65104569151a",
   "metadata": {},
   "source": [
    "- After testing various filters, we set the threshold to include only ***flows with 1500+ trips***. This filters our data down to ***499 flows***, which creates a more readable visualization."
   ]
  },
  {
   "cell_type": "code",
   "execution_count": 15,
   "id": "bee3c64b-5e59-4f2a-b0b0-f983d4671150",
   "metadata": {},
   "outputs": [],
   "source": [
    "# center map on data coordinates\n",
    "center_lat = stations['lat'].mean()\n",
    "center_lon = stations['lng'].mean()\n",
    "\n",
    "# color scheme (flare-like palette)\n",
    "flare_like = {\n",
    "    \"name\": \"flare_like\",\n",
    "    \"type\": \"sequential\",\n",
    "    \"category\": \"Uber\",\n",
    "    \"colors\": [\"#2D1E3E\", \"#6B1F73\", \"#A22C7E\", \"#D6456C\", \"#F77C48\", \"#FDBD3C\"]\n",
    "}\n",
    "\n",
    "# Kepler config\n",
    "cfg = {\n",
    "    \"version\": \"v1\",\n",
    "    \"config\": {\n",
    "        \"visState\": {\n",
    "            \"filters\": [\n",
    "                {\n",
    "                    \"dataId\": \"Flows\",\n",
    "                    \"id\": \"trips_filter\",\n",
    "                    \"name\": [\"trips\"],\n",
    "                    \"type\": \"range\",\n",
    "                    \"value\": [1500, int(df_flows[\"trips\"].max())],\n",
    "                    \"enlarged\": True\n",
    "                }\n",
    "            ],\n",
    "            \"layers\": [\n",
    "                {\n",
    "                    \"id\": \"stations-point\",\n",
    "                    \"type\": \"point\",\n",
    "                    \"config\": {\n",
    "                        \"dataId\": \"Stations\",\n",
    "                        \"label\": \"Stations\",\n",
    "                        \"columns\": {\"lat\": \"lat\", \"lng\": \"lng\"},\n",
    "                        \"isVisible\": True,\n",
    "                        \"visConfig\": {\n",
    "                            \"radius\": 4,\n",
    "                            \"colorRange\": flare_like\n",
    "                        }\n",
    "                    },\n",
    "                    \"visualChannels\": {\n",
    "                        \"colorField\": {\"name\": \"total_trips\", \"type\": \"integer\"},\n",
    "                        \"colorScale\": \"quantile\",\n",
    "                        \"sizeField\": {\"name\": \"total_trips\", \"type\": \"integer\"},\n",
    "                        \"sizeScale\": \"sqrt\"\n",
    "                    }\n",
    "                },\n",
    "                {\n",
    "                    \"id\": \"flows-arc\",\n",
    "                    \"type\": \"arc\",\n",
    "                    \"config\": {\n",
    "                        \"dataId\": \"Flows\",\n",
    "                        \"label\": \"OD Flows\",\n",
    "                        \"columns\": {\n",
    "                            \"lat0\": \"start_lat\", \"lng0\": \"start_lng\",\n",
    "                            \"lat1\": \"end_lat\", \"lng1\": \"end_lng\"\n",
    "                        },\n",
    "                        \"isVisible\": True,\n",
    "                        \"visConfig\": {\n",
    "                            \"thickness\": 4,\n",
    "                            \"opacity\": 0.7,\n",
    "                            \"colorRange\": flare_like\n",
    "                        }\n",
    "                    },\n",
    "                    \"visualChannels\": {\n",
    "                        \"sizeField\": {\"name\": \"trips\", \"type\": \"integer\"},\n",
    "                        \"sizeScale\": \"sqrt\",\n",
    "                        \"colorField\": {\"name\": \"trips\", \"type\": \"integer\"},\n",
    "                        \"colorScale\": \"quantile\"\n",
    "                    }\n",
    "                }\n",
    "            ]\n",
    "        },\n",
    "        \"mapState\": {\n",
    "            \"latitude\": float(center_lat),\n",
    "            \"longitude\": float(center_lon),\n",
    "            \"zoom\": 12\n",
    "        }\n",
    "    }\n",
    "}"
   ]
  },
  {
   "cell_type": "code",
   "execution_count": 16,
   "id": "fd6c37c7-4932-4cdf-aaba-9c3238a63f0b",
   "metadata": {},
   "outputs": [
    {
     "name": "stdout",
     "output_type": "stream",
     "text": [
      "User Guide: https://docs.kepler.gl/docs/keplergl-jupyter\n",
      "Map saved to new_york_citi_bike_map.html!\n"
     ]
    }
   ],
   "source": [
    "import json\n",
    "\n",
    "m = KeplerGl(height=650, config=cfg)\n",
    "m.add_data(stations, \"Stations\")\n",
    "m.add_data(df_flows, \"Flows\")\n",
    "m.save_to_html(file_name=\"new_york_citi_bike_map.html\", config=cfg, read_only=False)\n",
    "\n",
    "# Just save the complete map\n",
    "full_map_data = {\n",
    "    'version': 'v1',\n",
    "    'config': m.config,\n",
    "    'data': m.data\n",
    "}\n",
    "\n",
    "with open(\"kepler_map_with_data.json\", \"w\") as f:\n",
    "    json.dump(full_map_data, f)"
   ]
  },
  {
   "cell_type": "markdown",
   "id": "5a7aaa3a-fd3d-46de-a212-6ec05a054074",
   "metadata": {},
   "source": [
    "***I used a warm sequential palette (dark→light, close to the flare palette used in the previous task) for both stations and arcs so that higher volumes stand out intuitively. Station size & color encode total trips, while arc thickness & color encode trip counts between station pairs. I added a range filter on trips (default ≥ 1500) so the initial view isn’t cluttered. The map centers over the mean lat/lon of all stations***."
   ]
  },
  {
   "cell_type": "code",
   "execution_count": 17,
   "id": "3b1d31e6-3d42-4f2c-a8d8-31ae36594654",
   "metadata": {},
   "outputs": [
    {
     "name": "stdout",
     "output_type": "stream",
     "text": [
      "Filtered flows: 499 rows (from 543,555)\n",
      "Filtered stations: 845,119 rows (from 1,873,598)\n",
      "Unique stations in flows: 277\n"
     ]
    }
   ],
   "source": [
    "# Filter df_flows to only flows with 1500+ trips\n",
    "df_flows_filtered = df_flows[df_flows['trips'] >= 1500].copy()\n",
    "\n",
    "# Get unique stations that appear in the filtered flows\n",
    "stations_in_flows = set(df_flows_filtered['start_station_name'].unique()) | set(df_flows_filtered['end_station_name'].unique())\n",
    "\n",
    "# Filter stations to only those that appear in the filtered flows\n",
    "stations_filtered = stations[stations['station'].isin(stations_in_flows)].copy()\n",
    "\n",
    "# Save the filtered versions\n",
    "stations_filtered.to_csv(\n",
    "    r\"C:\\Users\\magia\\OneDrive\\Desktop\\NY_Citi_Bike\\2.Data\\Prepared Data\\citibike_2022_stations_high_flow.csv\",\n",
    "    index=False\n",
    ")\n",
    "\n",
    "df_flows_filtered.to_csv(\n",
    "    r\"C:\\Users\\magia\\OneDrive\\Desktop\\NY_Citi_Bike\\2.Data\\Prepared Data\\citibike_2022_flows_1500plus.csv\",\n",
    "    index=False\n",
    ")\n",
    "\n",
    "print(f\"Filtered flows: {len(df_flows_filtered):,} rows (from {len(df_flows):,})\")\n",
    "print(f\"Filtered stations: {len(stations_filtered):,} rows (from {len(stations):,})\")\n",
    "print(f\"Unique stations in flows: {len(stations_in_flows)}\")"
   ]
  }
 ],
 "metadata": {
  "kernelspec": {
   "display_name": "Python (CB22)",
   "language": "python",
   "name": "cb22"
  },
  "language_info": {
   "codemirror_mode": {
    "name": "ipython",
    "version": 3
   },
   "file_extension": ".py",
   "mimetype": "text/x-python",
   "name": "python",
   "nbconvert_exporter": "python",
   "pygments_lexer": "ipython3",
   "version": "3.10.18"
  }
 },
 "nbformat": 4,
 "nbformat_minor": 5
}
