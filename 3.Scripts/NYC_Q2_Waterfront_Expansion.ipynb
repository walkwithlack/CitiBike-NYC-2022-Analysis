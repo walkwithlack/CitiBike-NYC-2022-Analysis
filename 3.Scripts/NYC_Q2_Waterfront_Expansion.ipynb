{
 "cells": [
  {
   "cell_type": "markdown",
   "id": "1eefe4fb-ccc1-44bf-a485-cf71045ea6dc",
   "metadata": {},
   "source": [
    "### Q2: How could you determine how many more stations to add along the water?"
   ]
  },
  {
   "cell_type": "markdown",
   "id": "86ce2d61-1f09-4a73-b4ee-3167cf55b8d7",
   "metadata": {},
   "source": [
    "We can frame this as a capacity planning question by comparing supply to demand. The analysis ***compares the share of stations located within a waterfront buffer (e.g., 300m from water) to the share of trips that either start or end in the same area***.\n",
    "\n",
    "If waterfront-related trips account for a greater proportion of system usage than waterfront stations represent of total system capacity, this indicates the waterfront is under-served relative to demand. ***The gap between these two proportions provides a quantitative estimate of the capacity shortfall***.This approach uses revealed demand (actual trips taken) as the baseline, which ***may underestimate true demand if potential users were deterred by bike shortages or full docking stations*** at waterfront locations. However, the demonstrated demand patterns provide a conservative foundation for capacity planning decisions."
   ]
  },
  {
   "cell_type": "markdown",
   "id": "e354542c-a506-406c-b2b7-6631b75bad4d",
   "metadata": {},
   "source": [
    "#### Load libraries and data"
   ]
  },
  {
   "cell_type": "code",
   "execution_count": 1,
   "id": "3c4679aa-f69d-4071-aca4-9d8da8053620",
   "metadata": {},
   "outputs": [],
   "source": [
    "import pandas as pd\n",
    "import osmnx as ox\n",
    "import geopandas as gpd\n",
    "import matplotlib.pyplot as plt\n",
    "import plotly.graph_objects as go"
   ]
  },
  {
   "cell_type": "code",
   "execution_count": 2,
   "id": "9be3e2e5-cb6c-4a42-986c-9d1b1a96773e",
   "metadata": {},
   "outputs": [],
   "source": [
    "# Load the CSV with stations already matched to NTAs\n",
    "station_to_nta = pd.read_csv(r\"C:\\Users\\magia\\OneDrive\\Desktop\\NY_Citi_Bike\\2.Data\\Prepared Data\\station_to_nta.csv\")\n",
    "\n",
    "# Convert to GeoDataFrame\n",
    "stations = gpd.GeoDataFrame(\n",
    "    station_to_nta,\n",
    "    geometry=gpd.points_from_xy(station_to_nta.lng, station_to_nta.lat),\n",
    "    crs=\"EPSG:4326\"\n",
    ")"
   ]
  },
  {
   "cell_type": "code",
   "execution_count": 3,
   "id": "c4a959fe-7b90-4e16-87a0-4810bda98df5",
   "metadata": {},
   "outputs": [
    {
     "data": {
      "text/html": [
       "<div>\n",
       "<style scoped>\n",
       "    .dataframe tbody tr th:only-of-type {\n",
       "        vertical-align: middle;\n",
       "    }\n",
       "\n",
       "    .dataframe tbody tr th {\n",
       "        vertical-align: top;\n",
       "    }\n",
       "\n",
       "    .dataframe thead th {\n",
       "        text-align: right;\n",
       "    }\n",
       "</style>\n",
       "<table border=\"1\" class=\"dataframe\">\n",
       "  <thead>\n",
       "    <tr style=\"text-align: right;\">\n",
       "      <th></th>\n",
       "      <th>Unnamed: 0</th>\n",
       "      <th>station_name</th>\n",
       "      <th>lat</th>\n",
       "      <th>lng</th>\n",
       "      <th>nta_code</th>\n",
       "      <th>nta_name</th>\n",
       "      <th>borough</th>\n",
       "    </tr>\n",
       "  </thead>\n",
       "  <tbody>\n",
       "    <tr>\n",
       "      <th>0</th>\n",
       "      <td>0</td>\n",
       "      <td>1 Ave &amp; E 110 St</td>\n",
       "      <td>40.792328</td>\n",
       "      <td>-73.938300</td>\n",
       "      <td>MN1102</td>\n",
       "      <td>East Harlem (North)</td>\n",
       "      <td>Manhattan</td>\n",
       "    </tr>\n",
       "    <tr>\n",
       "      <th>1</th>\n",
       "      <td>1</td>\n",
       "      <td>1 Ave &amp; E 110 St</td>\n",
       "      <td>40.792480</td>\n",
       "      <td>-73.938190</td>\n",
       "      <td>MN1102</td>\n",
       "      <td>East Harlem (North)</td>\n",
       "      <td>Manhattan</td>\n",
       "    </tr>\n",
       "    <tr>\n",
       "      <th>2</th>\n",
       "      <td>2</td>\n",
       "      <td>1 Ave &amp; E 110 St</td>\n",
       "      <td>40.792427</td>\n",
       "      <td>-73.938390</td>\n",
       "      <td>MN1102</td>\n",
       "      <td>East Harlem (North)</td>\n",
       "      <td>Manhattan</td>\n",
       "    </tr>\n",
       "    <tr>\n",
       "      <th>3</th>\n",
       "      <td>3</td>\n",
       "      <td>1 Ave &amp; E 110 St</td>\n",
       "      <td>40.792152</td>\n",
       "      <td>-73.937744</td>\n",
       "      <td>MN1101</td>\n",
       "      <td>East Harlem (South)</td>\n",
       "      <td>Manhattan</td>\n",
       "    </tr>\n",
       "    <tr>\n",
       "      <th>4</th>\n",
       "      <td>4</td>\n",
       "      <td>1 Ave &amp; E 110 St</td>\n",
       "      <td>40.792347</td>\n",
       "      <td>-73.937870</td>\n",
       "      <td>MN1101</td>\n",
       "      <td>East Harlem (South)</td>\n",
       "      <td>Manhattan</td>\n",
       "    </tr>\n",
       "  </tbody>\n",
       "</table>\n",
       "</div>"
      ],
      "text/plain": [
       "   Unnamed: 0      station_name        lat        lng nta_code  \\\n",
       "0           0  1 Ave & E 110 St  40.792328 -73.938300   MN1102   \n",
       "1           1  1 Ave & E 110 St  40.792480 -73.938190   MN1102   \n",
       "2           2  1 Ave & E 110 St  40.792427 -73.938390   MN1102   \n",
       "3           3  1 Ave & E 110 St  40.792152 -73.937744   MN1101   \n",
       "4           4  1 Ave & E 110 St  40.792347 -73.937870   MN1101   \n",
       "\n",
       "              nta_name    borough  \n",
       "0  East Harlem (North)  Manhattan  \n",
       "1  East Harlem (North)  Manhattan  \n",
       "2  East Harlem (North)  Manhattan  \n",
       "3  East Harlem (South)  Manhattan  \n",
       "4  East Harlem (South)  Manhattan  "
      ]
     },
     "execution_count": 3,
     "metadata": {},
     "output_type": "execute_result"
    }
   ],
   "source": [
    "station_to_nta.head()"
   ]
  },
  {
   "cell_type": "markdown",
   "id": "64867714-9031-41cf-815b-d5060ae9a7a5",
   "metadata": {},
   "source": [
    "#### Pull geographic data on water bodies in NYC"
   ]
  },
  {
   "cell_type": "code",
   "execution_count": 4,
   "id": "e7b501ab-f3c6-459e-be11-bac915c0542c",
   "metadata": {},
   "outputs": [],
   "source": [
    "import warnings\n",
    "warnings.filterwarnings(\"ignore\", category=FutureWarning, module=r\"osmnx\\.features\")"
   ]
  },
  {
   "cell_type": "code",
   "execution_count": 5,
   "id": "71a84af2-a4a1-41df-9e96-f535768d0034",
   "metadata": {},
   "outputs": [
    {
     "name": "stdout",
     "output_type": "stream",
     "text": [
      "Land-side ribbon area (km²): 256.9\n",
      "Implied shoreline length (km): 856\n"
     ]
    }
   ],
   "source": [
    "METRIC = \"EPSG:26918\"  # meters (UTM 18N)\n",
    "\n",
    "# --- NYC polygon\n",
    "nyc_4326 = ox.geocode_to_gdf(\"New York City, New York, USA\").to_crs(4326)\n",
    "poly_4326 = nyc_4326.geometry.iloc[0]\n",
    "nyc_m = nyc_4326.to_crs(METRIC)\n",
    "nyc_poly_m = nyc_m.geometry.iloc[0]\n",
    "\n",
    "def safe_features_m(poly_4326, tags):\n",
    "    try:\n",
    "        g = ox.features_from_polygon(poly_4326, tags)\n",
    "        if g.empty:\n",
    "            return gpd.GeoDataFrame(geometry=[], crs=METRIC)\n",
    "        return g.to_crs(METRIC)\n",
    "    except Exception:\n",
    "        return gpd.GeoDataFrame(geometry=[], crs=METRIC)\n",
    "\n",
    "# --- Fetch only what’s reliable: water polygons + coastline\n",
    "water_poly_m = safe_features_m(poly_4326, {\"natural\": \"water\"})\n",
    "coastline_m  = safe_features_m(poly_4326, {\"natural\": \"coastline\"})\n",
    "\n",
    "# --- Keep big/tidal features; drop tiny ponds\n",
    "keep_types = {\"river\",\"sea\",\"bay\",\"harbour\",\"estuary\",\"tidal_channel\"}\n",
    "if not water_poly_m.empty:\n",
    "    water_poly_m[\"area_m2\"] = water_poly_m.geometry.area\n",
    "    wtype = water_poly_m.get(\"water\").fillna(\"\")\n",
    "    mask_type = wtype.isin(keep_types)\n",
    "    mask_area = water_poly_m[\"area_m2\"] >= 1e5  # ≥ 0.1 km²\n",
    "    water_big = water_poly_m[mask_type | mask_area][[\"geometry\"]].copy()\n",
    "else:\n",
    "    water_big = gpd.GeoDataFrame(geometry=[], crs=METRIC)\n",
    "\n",
    "layers = []\n",
    "if not water_big.empty:\n",
    "    layers.append(water_big)\n",
    "if not coastline_m.empty:\n",
    "    coast = coastline_m.copy()\n",
    "    coast[\"geometry\"] = coast.buffer(10)  # 10 m ribbon so coastline behaves like a polygon\n",
    "    layers.append(coast[[\"geometry\"]])\n",
    "\n",
    "if not layers:\n",
    "    raise RuntimeError(\"No suitable water features returned from OSM.\")\n",
    "\n",
    "water_m_filt = pd.concat(layers, ignore_index=True)\n",
    "water_union  = water_m_filt.union_all()  # Shapely 2.x\n",
    "\n",
    "# --- Land-side 300 m ribbon\n",
    "land = nyc_poly_m.difference(water_union.buffer(1))       # land mask (avoid slivers)\n",
    "ribbon_land = water_union.buffer(300).intersection(land)  # keep land-side only\n",
    "\n",
    "# --- Sanity check\n",
    "area_km2 = gpd.GeoSeries([ribbon_land], crs=METRIC).area.iloc[0] / 1e6\n",
    "L_km = area_km2 / 0.3\n",
    "print(f\"Land-side ribbon area (km²): {area_km2:,.1f}\")\n",
    "print(f\"Implied shoreline length (km): {L_km:,.0f}\")"
   ]
  },
  {
   "cell_type": "markdown",
   "id": "a6eed969-a096-4de0-86dc-18c2b35d4a9d",
   "metadata": {},
   "source": [
    "#### Define waterfront stations"
   ]
  },
  {
   "cell_type": "code",
   "execution_count": 6,
   "id": "8ced1025-2b8c-46cb-8ee9-9b2d3dcdce48",
   "metadata": {},
   "outputs": [
    {
     "data": {
      "text/html": [
       "<div>\n",
       "<style scoped>\n",
       "    .dataframe tbody tr th:only-of-type {\n",
       "        vertical-align: middle;\n",
       "    }\n",
       "\n",
       "    .dataframe tbody tr th {\n",
       "        vertical-align: top;\n",
       "    }\n",
       "\n",
       "    .dataframe thead th {\n",
       "        text-align: right;\n",
       "    }\n",
       "</style>\n",
       "<table border=\"1\" class=\"dataframe\">\n",
       "  <thead>\n",
       "    <tr style=\"text-align: right;\">\n",
       "      <th></th>\n",
       "      <th>station_key</th>\n",
       "      <th>station_name</th>\n",
       "      <th>lat</th>\n",
       "      <th>lng</th>\n",
       "      <th>borough</th>\n",
       "      <th>nta_name</th>\n",
       "      <th>nta_code</th>\n",
       "      <th>geometry</th>\n",
       "    </tr>\n",
       "  </thead>\n",
       "  <tbody>\n",
       "    <tr>\n",
       "      <th>0</th>\n",
       "      <td>1 ave &amp; e 110 st</td>\n",
       "      <td>1 Ave &amp; E 110 St</td>\n",
       "      <td>40.792380</td>\n",
       "      <td>-73.938160</td>\n",
       "      <td>Manhattan</td>\n",
       "      <td>East Harlem (North)</td>\n",
       "      <td>MN1102</td>\n",
       "      <td>POINT (-73.938 40.792)</td>\n",
       "    </tr>\n",
       "    <tr>\n",
       "      <th>1</th>\n",
       "      <td>1 ave &amp; e 16 st</td>\n",
       "      <td>1 Ave &amp; E 16 St</td>\n",
       "      <td>40.732246</td>\n",
       "      <td>-73.981670</td>\n",
       "      <td>Manhattan</td>\n",
       "      <td>Stuyvesant Town-Peter Cooper Village</td>\n",
       "      <td>MN0601</td>\n",
       "      <td>POINT (-73.982 40.732)</td>\n",
       "    </tr>\n",
       "    <tr>\n",
       "      <th>2</th>\n",
       "      <td>1 ave &amp; e 18 st</td>\n",
       "      <td>1 Ave &amp; E 18 St</td>\n",
       "      <td>40.734062</td>\n",
       "      <td>-73.980415</td>\n",
       "      <td>Manhattan</td>\n",
       "      <td>Stuyvesant Town-Peter Cooper Village</td>\n",
       "      <td>MN0601</td>\n",
       "      <td>POINT (-73.98 40.734)</td>\n",
       "    </tr>\n",
       "    <tr>\n",
       "      <th>3</th>\n",
       "      <td>1 ave &amp; e 30 st</td>\n",
       "      <td>1 Ave &amp; E 30 St</td>\n",
       "      <td>40.741547</td>\n",
       "      <td>-73.975300</td>\n",
       "      <td>Manhattan</td>\n",
       "      <td>Murray Hill-Kips Bay</td>\n",
       "      <td>MN0603</td>\n",
       "      <td>POINT (-73.975 40.742)</td>\n",
       "    </tr>\n",
       "    <tr>\n",
       "      <th>4</th>\n",
       "      <td>1 ave &amp; e 39 st</td>\n",
       "      <td>1 Ave &amp; E 39 St</td>\n",
       "      <td>40.747300</td>\n",
       "      <td>-73.971040</td>\n",
       "      <td>Manhattan</td>\n",
       "      <td>Murray Hill-Kips Bay</td>\n",
       "      <td>MN0603</td>\n",
       "      <td>POINT (-73.971 40.747)</td>\n",
       "    </tr>\n",
       "  </tbody>\n",
       "</table>\n",
       "</div>"
      ],
      "text/plain": [
       "        station_key      station_name        lat        lng    borough  \\\n",
       "0  1 ave & e 110 st  1 Ave & E 110 St  40.792380 -73.938160  Manhattan   \n",
       "1   1 ave & e 16 st   1 Ave & E 16 St  40.732246 -73.981670  Manhattan   \n",
       "2   1 ave & e 18 st   1 Ave & E 18 St  40.734062 -73.980415  Manhattan   \n",
       "3   1 ave & e 30 st   1 Ave & E 30 St  40.741547 -73.975300  Manhattan   \n",
       "4   1 ave & e 39 st   1 Ave & E 39 St  40.747300 -73.971040  Manhattan   \n",
       "\n",
       "                               nta_name nta_code                geometry  \n",
       "0                   East Harlem (North)   MN1102  POINT (-73.938 40.792)  \n",
       "1  Stuyvesant Town-Peter Cooper Village   MN0601  POINT (-73.982 40.732)  \n",
       "2  Stuyvesant Town-Peter Cooper Village   MN0601   POINT (-73.98 40.734)  \n",
       "3                  Murray Hill-Kips Bay   MN0603  POINT (-73.975 40.742)  \n",
       "4                  Murray Hill-Kips Bay   MN0603  POINT (-73.971 40.747)  "
      ]
     },
     "execution_count": 6,
     "metadata": {},
     "output_type": "execute_result"
    }
   ],
   "source": [
    "# 1) normalize names to avoid whitespace/case dupes\n",
    "s = stations.copy()\n",
    "s[\"station_key\"] = s[\"station_name\"].str.strip().str.lower()\n",
    "\n",
    "# helper to pick the most common value\n",
    "def _mode(x):\n",
    "    m = x.mode()\n",
    "    return m.iloc[0] if not m.empty else x.iloc[0]\n",
    "\n",
    "# 2) collapse duplicates by name; use median coords\n",
    "unique = (s.groupby(\"station_key\", as_index=False)\n",
    "           .agg(station_name=(\"station_name\",\"first\"),\n",
    "                lat=(\"lat\",\"median\"),\n",
    "                lng=(\"lng\",\"median\"),\n",
    "                borough=(\"borough\", _mode),\n",
    "                nta_name=(\"nta_name\", _mode),\n",
    "                nta_code=(\"nta_code\", _mode)))\n",
    "\n",
    "# 3) back to GeoDataFrame\n",
    "stations_u = gpd.GeoDataFrame(\n",
    "    unique,\n",
    "    geometry=gpd.points_from_xy(unique[\"lng\"], unique[\"lat\"]),\n",
    "    crs=\"EPSG:4326\"\n",
    ")\n",
    "\n",
    "stations_u.head()"
   ]
  },
  {
   "cell_type": "markdown",
   "id": "2ce02d1f-bc7d-4424-a53f-8fbea4532b21",
   "metadata": {},
   "source": [
    "#### Calculate station ratio"
   ]
  },
  {
   "cell_type": "code",
   "execution_count": 7,
   "id": "416155f5-a86a-4215-b7d3-f2832bf7d562",
   "metadata": {},
   "outputs": [
    {
     "name": "stdout",
     "output_type": "stream",
     "text": [
      "Supply share (stations near water): 0.148\n",
      "False    1569\n",
      "True      273\n",
      "Name: near_water, dtype: int64\n"
     ]
    }
   ],
   "source": [
    "# Tag stations within the 300 m land-side ribbon and compute supply share\n",
    "METRIC = \"EPSG:26918\"  # meters\n",
    "\n",
    "stations_m = stations_u.to_crs(METRIC).copy()\n",
    "stations_m[\"near_water\"] = stations_m.within(ribbon_land)  # use .intersects(...) if you want boundary-inclusive\n",
    "\n",
    "stations_flagged = stations_m.to_crs(4326).drop(columns=\"geometry\")\n",
    "print(\"Supply share (stations near water):\", round(stations_flagged[\"near_water\"].mean(), 3))\n",
    "print(stations_flagged[\"near_water\"].value_counts())"
   ]
  },
  {
   "cell_type": "markdown",
   "id": "17ea6ea8-0ddc-4308-9113-39081e895bea",
   "metadata": {},
   "source": [
    "#### Calculate trip ratio (only starts)"
   ]
  },
  {
   "cell_type": "code",
   "execution_count": 8,
   "id": "e20ad7b0-559a-4ae9-8163-92f49dfa6dba",
   "metadata": {},
   "outputs": [
    {
     "name": "stdout",
     "output_type": "stream",
     "text": [
      "Matched starts to stations: 100.0%\n",
      "Demand share (starts near waterfront): 0.124\n",
      "Supply share (stations on waterfront): 0.148\n",
      "Implied station shortfall: 0\n"
     ]
    }
   ],
   "source": [
    "# 1) Lookup: station_name -> near_water\n",
    "flags = stations_flagged[[\"station_name\",\"near_water\"]].copy()\n",
    "flags[\"station_key\"] = flags[\"station_name\"].str.strip().str.lower()\n",
    "flags = flags.drop_duplicates(subset=\"station_key\")[[\"station_key\",\"near_water\"]]\n",
    "\n",
    "# 2) Tag each trip-start row as waterfront or not\n",
    "t = station_to_nta.copy()\n",
    "t[\"station_key\"] = t[\"station_name\"].astype(str).str.strip().str.lower()\n",
    "t = t.merge(flags, on=\"station_key\", how=\"left\")\n",
    "\n",
    "# check match rate\n",
    "matched = t[\"near_water\"].notna().mean()\n",
    "print(f\"Matched starts to stations: {matched:.1%}\")\n",
    "\n",
    "# 3) Demand share (starts-only), compare to supply, and estimate shortfall\n",
    "demand_share = t[\"near_water\"].fillna(False).mean()  # treat unmatched as non-waterfront\n",
    "supply_share = stations_flagged[\"near_water\"].mean()\n",
    "total_stations = len(stations_flagged)\n",
    "missing_stations = max(0, int(round((demand_share - supply_share) * total_stations)))\n",
    "\n",
    "print(f\"Demand share (starts near waterfront): {demand_share:.3f}\")\n",
    "print(f\"Supply share (stations on waterfront): {supply_share:.3f}\")\n",
    "print(f\"Implied station shortfall: {missing_stations}\")"
   ]
  },
  {
   "cell_type": "markdown",
   "id": "c04b7fe8-c8f6-4814-8d7d-f3cafbda3231",
   "metadata": {},
   "source": [
    "#### Loading our 2022 NYC file that has all trips (both starts and ends)"
   ]
  },
  {
   "cell_type": "code",
   "execution_count": 9,
   "id": "f8bb96c7-6eee-409f-80f3-a37769fa569b",
   "metadata": {},
   "outputs": [
    {
     "name": "stdout",
     "output_type": "stream",
     "text": [
      "Rows processed: 29,838,166\n",
      "Demand share (start OR end near waterfront): 0.243\n",
      "Supply share (stations on waterfront):       0.148\n",
      "Implied station shortfall:                    175\n"
     ]
    }
   ],
   "source": [
    "import os\n",
    "\n",
    "TRIPS_PATH = r\"C:\\Users\\magia\\OneDrive\\Desktop\\NY_Citi_Bike\\2.Data\\Prepared Data\\nyc_2022_essential_data.csv\" \n",
    "\n",
    "assert isinstance(TRIPS_PATH, (str, os.PathLike)) and os.path.exists(TRIPS_PATH), \"TRIPS_PATH must be a valid file path.\"\n",
    "\n",
    "# 3) Build lookup once\n",
    "flags = stations_flagged[[\"station_name\",\"near_water\"]].copy()\n",
    "flags[\"station_key\"] = flags[\"station_name\"].astype(str).str.strip().str.lower()\n",
    "flag_map = dict(zip(flags[\"station_key\"], flags[\"near_water\"]))\n",
    "\n",
    "supply_share   = stations_flagged[\"near_water\"].mean()\n",
    "total_stations = len(stations_flagged)\n",
    "\n",
    "# 4) Stream + compute demand share (start OR end near water)\n",
    "touches = 0\n",
    "total   = 0\n",
    "CHUNK   = 500_000\n",
    "\n",
    "usecols = [\"start_station_name\",\"end_station_name\"]\n",
    "dtype   = {\"start_station_name\":\"string\",\"end_station_name\":\"string\"}\n",
    "\n",
    "for chunk in pd.read_csv(TRIPS_PATH, usecols=usecols, dtype=dtype, chunksize=CHUNK, low_memory=False):\n",
    "    s = chunk[\"start_station_name\"].str.strip().str.lower()\n",
    "    e = chunk[\"end_station_name\"].str.strip().str.lower()\n",
    "    start_flag = s.map(flag_map).fillna(False)\n",
    "    end_flag   = e.map(flag_map).fillna(False)\n",
    "    touches += int((start_flag | end_flag).sum())\n",
    "    total   += len(chunk)\n",
    "\n",
    "demand_share = touches / total if total else 0.0\n",
    "missing_stations = max(0, int(round((demand_share - supply_share) * total_stations)))\n",
    "\n",
    "print(f\"Rows processed: {total:,}\")\n",
    "print(f\"Demand share (start OR end near waterfront): {demand_share:.3f}\")\n",
    "print(f\"Supply share (stations on waterfront):       {supply_share:.3f}\")\n",
    "print(f\"Implied station shortfall:                    {missing_stations}\")"
   ]
  },
  {
   "cell_type": "markdown",
   "id": "cfc0fdb0-dbce-4e95-a70c-96d80930cb53",
   "metadata": {},
   "source": [
    "- So we have ~15% share of the physical infrastucture be waterfront-close, and ~24% of usage share be waterfront-related (whether as a start or end point). So waterfront stations are already generating about 64% more trips per station than the system average (24.3% ÷ 14.8% = 1.64x).\n",
    "- This translates  to roughly 175 stations on the waterfront (if we reallocate) and 230 new stations if we go for expanding the number of total NYC stations.\n",
    "- This whopping numbers give us opportunity to pause and check if the approach we chose is right to begin with."
   ]
  },
  {
   "cell_type": "markdown",
   "id": "17c1fa55-79b9-48fb-890a-200f5c7f3599",
   "metadata": {},
   "source": [
    "#### The Pitfall: Mixing Apples and Oranges (or Conflating Endpoints with Trips)\n",
    "We realize a fundamental flaw in our initial approach. The 24.3% \"waterfront demand\" includes two types of trips out of the three that exist:\n",
    "\n",
    "- a) Pure waterfront trips: Both start AND end at waterfront stations (4.1%)\n",
    "- b) Mixed trips: One end waterfront, one end inland (20.2%)\n",
    "- c) Pure inland trips: Neither end waterfront (75.7%)\n",
    "  \n",
    "The critical issue: ***Mixed trips use both waterfront AND inland infrastructure, yet the original method attributed 100% of their demand to \"waterfront need\".***\n",
    "\n",
    "Consider a trip from Brooklyn Heights (waterfront) to Midtown (inland). This trip:\n",
    "- Counts toward the 24.3% \"waterfront demand\"\n",
    "- But actually it requires 50% waterfront capacity and 50% inland capacity\n",
    "- The calculation incorrectly assumed we'd need pure waterfront stations to serve this demand\n",
    "\n",
    "This ***double-counting inflated the apparent need for waterfront stations***.\n",
    "\n",
    "***Refined Approach: Apples-to-Apples Comparison***\n",
    "\n",
    "The solution is to measure ***what fraction of all trip endpoints occur at waterfront stations***, creating a direct comparison with the fraction of stations that are waterfront.\n",
    "\n",
    "***Methodology***\n",
    "\n",
    "Instead of counting trips that \"touch\" waterfront (OR logic), we now ***count individual endpoints***:\n",
    "- Each trip generates 2 endpoints (1 start + 1 end)\n",
    "- Count how many endpoints occur at waterfront stations\n",
    "- Calculate: (waterfront endpoints) / (total endpoints)"
   ]
  },
  {
   "cell_type": "code",
   "execution_count": 10,
   "id": "e3353c93-3cf9-4e3c-8ec1-41421ec63270",
   "metadata": {},
   "outputs": [
    {
     "name": "stdout",
     "output_type": "stream",
     "text": [
      "Rows processed: 29,838,166\n",
      "Endpoint share (fraction of all endpoints near water): 0.142\n",
      "Supply share (stations on waterfront):                 0.148\n",
      "Implied station shortfall (reallocate existing):       0\n"
     ]
    }
   ],
   "source": [
    "CHUNK = 500_000\n",
    "usecols = [\"start_station_name\",\"end_station_name\"]\n",
    "dtype   = {\"start_station_name\":\"string\",\"end_station_name\":\"string\"}\n",
    "\n",
    "total = 0\n",
    "endpoints_water = 0  # counts waterfront endpoints (start + end)\n",
    "\n",
    "for chunk in pd.read_csv(TRIPS_PATH, usecols=usecols, dtype=dtype, chunksize=CHUNK, low_memory=False):\n",
    "    s = chunk[\"start_station_name\"].str.strip().str.lower().map(flag_map).fillna(False)\n",
    "    e = chunk[\"end_station_name\"].str.strip().str.lower().map(flag_map).fillna(False)\n",
    "    endpoints_water += int(s.sum() + e.sum())\n",
    "    total += len(chunk)\n",
    "\n",
    "d_endpoints = endpoints_water / (2 * total) if total else 0.0\n",
    "shortfall_reallocate = max(0, int(round((d_endpoints - supply_share) * total_stations)))\n",
    "\n",
    "print(f\"Rows processed: {total:,}\")\n",
    "print(f\"Endpoint share (fraction of all endpoints near water): {d_endpoints:.3f}\")\n",
    "print(f\"Supply share (stations on waterfront):                 {supply_share:.3f}\")\n",
    "print(f\"Implied station shortfall (reallocate existing):       {shortfall_reallocate}\")"
   ]
  },
  {
   "cell_type": "markdown",
   "id": "0adc18bd-9ca2-4b5d-8966-c203505ecc91",
   "metadata": {},
   "source": [
    "#### Endpoint distribution among waterfront stations"
   ]
  },
  {
   "cell_type": "code",
   "execution_count": 11,
   "id": "5f85d6ba-8aa9-4708-b37e-1aed53e5c2fc",
   "metadata": {
    "scrolled": true
   },
   "outputs": [
    {
     "name": "stdout",
     "output_type": "stream",
     "text": [
      "Waterfront stations counted: 273\n",
      "Total waterfront endpoints:  8,452,183\n",
      "Percentiles (endpoints): {0.5: 16860, 0.75: 42906, 0.9: 82467, 0.95: 113757, 0.99: 156255}\n",
      "Gini (endpoint concentration across waterfront stations): 0.58\n"
     ]
    },
    {
     "data": {
      "text/html": [
       "<div>\n",
       "<style scoped>\n",
       "    .dataframe tbody tr th:only-of-type {\n",
       "        vertical-align: middle;\n",
       "    }\n",
       "\n",
       "    .dataframe tbody tr th {\n",
       "        vertical-align: top;\n",
       "    }\n",
       "\n",
       "    .dataframe thead th {\n",
       "        text-align: right;\n",
       "    }\n",
       "</style>\n",
       "<table border=\"1\" class=\"dataframe\">\n",
       "  <thead>\n",
       "    <tr style=\"text-align: right;\">\n",
       "      <th></th>\n",
       "      <th>station_name</th>\n",
       "      <th>borough</th>\n",
       "      <th>endpoints</th>\n",
       "      <th>share_of_water_endpoints</th>\n",
       "    </tr>\n",
       "  </thead>\n",
       "  <tbody>\n",
       "    <tr>\n",
       "      <th>1</th>\n",
       "      <td>West St &amp; Chambers St</td>\n",
       "      <td>Manhattan</td>\n",
       "      <td>247625</td>\n",
       "      <td>0.029297</td>\n",
       "    </tr>\n",
       "    <tr>\n",
       "      <th>0</th>\n",
       "      <td>E 33 St &amp; 1 Ave</td>\n",
       "      <td>Manhattan</td>\n",
       "      <td>181674</td>\n",
       "      <td>0.021494</td>\n",
       "    </tr>\n",
       "    <tr>\n",
       "      <th>2</th>\n",
       "      <td>West St &amp; Liberty St</td>\n",
       "      <td>Manhattan</td>\n",
       "      <td>175364</td>\n",
       "      <td>0.020748</td>\n",
       "    </tr>\n",
       "    <tr>\n",
       "      <th>47</th>\n",
       "      <td>10 Ave &amp; W 14 St</td>\n",
       "      <td>Manhattan</td>\n",
       "      <td>148824</td>\n",
       "      <td>0.017608</td>\n",
       "    </tr>\n",
       "    <tr>\n",
       "      <th>3</th>\n",
       "      <td>Wythe Ave &amp; Metropolitan Ave</td>\n",
       "      <td>Brooklyn</td>\n",
       "      <td>133592</td>\n",
       "      <td>0.015806</td>\n",
       "    </tr>\n",
       "    <tr>\n",
       "      <th>9</th>\n",
       "      <td>Washington St &amp; Gansevoort St</td>\n",
       "      <td>Manhattan</td>\n",
       "      <td>131235</td>\n",
       "      <td>0.015527</td>\n",
       "    </tr>\n",
       "    <tr>\n",
       "      <th>15</th>\n",
       "      <td>Pier 40 - Hudson River Park</td>\n",
       "      <td>Manhattan</td>\n",
       "      <td>129231</td>\n",
       "      <td>0.015290</td>\n",
       "    </tr>\n",
       "    <tr>\n",
       "      <th>17</th>\n",
       "      <td>Vesey Pl &amp; River Terrace</td>\n",
       "      <td>Manhattan</td>\n",
       "      <td>126607</td>\n",
       "      <td>0.014979</td>\n",
       "    </tr>\n",
       "    <tr>\n",
       "      <th>4</th>\n",
       "      <td>W 44 St &amp; 11 Ave</td>\n",
       "      <td>Manhattan</td>\n",
       "      <td>126360</td>\n",
       "      <td>0.014950</td>\n",
       "    </tr>\n",
       "    <tr>\n",
       "      <th>6</th>\n",
       "      <td>Kent Ave &amp; N 7 St</td>\n",
       "      <td>Brooklyn</td>\n",
       "      <td>121713</td>\n",
       "      <td>0.014400</td>\n",
       "    </tr>\n",
       "    <tr>\n",
       "      <th>29</th>\n",
       "      <td>North Moore St &amp; Greenwich St</td>\n",
       "      <td>Manhattan</td>\n",
       "      <td>117097</td>\n",
       "      <td>0.013854</td>\n",
       "    </tr>\n",
       "    <tr>\n",
       "      <th>20</th>\n",
       "      <td>11 Ave &amp; W 27 St</td>\n",
       "      <td>Manhattan</td>\n",
       "      <td>116327</td>\n",
       "      <td>0.013763</td>\n",
       "    </tr>\n",
       "    <tr>\n",
       "      <th>22</th>\n",
       "      <td>S 4 St &amp; Wythe Ave</td>\n",
       "      <td>Brooklyn</td>\n",
       "      <td>116041</td>\n",
       "      <td>0.013729</td>\n",
       "    </tr>\n",
       "    <tr>\n",
       "      <th>26</th>\n",
       "      <td>W 16 St &amp; The High Line</td>\n",
       "      <td>Manhattan</td>\n",
       "      <td>115804</td>\n",
       "      <td>0.013701</td>\n",
       "    </tr>\n",
       "    <tr>\n",
       "      <th>27</th>\n",
       "      <td>5 Ave &amp; E 87 St</td>\n",
       "      <td>Manhattan</td>\n",
       "      <td>112393</td>\n",
       "      <td>0.013298</td>\n",
       "    </tr>\n",
       "    <tr>\n",
       "      <th>5</th>\n",
       "      <td>E 72 St &amp; York Ave</td>\n",
       "      <td>Manhattan</td>\n",
       "      <td>111764</td>\n",
       "      <td>0.013223</td>\n",
       "    </tr>\n",
       "    <tr>\n",
       "      <th>8</th>\n",
       "      <td>1 Ave &amp; E 39 St</td>\n",
       "      <td>Manhattan</td>\n",
       "      <td>105066</td>\n",
       "      <td>0.012431</td>\n",
       "    </tr>\n",
       "    <tr>\n",
       "      <th>12</th>\n",
       "      <td>Central Park West &amp; W 85 St</td>\n",
       "      <td>Manhattan</td>\n",
       "      <td>104700</td>\n",
       "      <td>0.012387</td>\n",
       "    </tr>\n",
       "    <tr>\n",
       "      <th>18</th>\n",
       "      <td>W 34 St &amp; 11 Ave</td>\n",
       "      <td>Manhattan</td>\n",
       "      <td>104627</td>\n",
       "      <td>0.012379</td>\n",
       "    </tr>\n",
       "    <tr>\n",
       "      <th>40</th>\n",
       "      <td>Riverside Blvd &amp; W 67 St</td>\n",
       "      <td>Manhattan</td>\n",
       "      <td>103217</td>\n",
       "      <td>0.012212</td>\n",
       "    </tr>\n",
       "  </tbody>\n",
       "</table>\n",
       "</div>"
      ],
      "text/plain": [
       "                     station_name    borough  endpoints  \\\n",
       "1           West St & Chambers St  Manhattan     247625   \n",
       "0                 E 33 St & 1 Ave  Manhattan     181674   \n",
       "2            West St & Liberty St  Manhattan     175364   \n",
       "47               10 Ave & W 14 St  Manhattan     148824   \n",
       "3    Wythe Ave & Metropolitan Ave   Brooklyn     133592   \n",
       "9   Washington St & Gansevoort St  Manhattan     131235   \n",
       "15    Pier 40 - Hudson River Park  Manhattan     129231   \n",
       "17       Vesey Pl & River Terrace  Manhattan     126607   \n",
       "4                W 44 St & 11 Ave  Manhattan     126360   \n",
       "6               Kent Ave & N 7 St   Brooklyn     121713   \n",
       "29  North Moore St & Greenwich St  Manhattan     117097   \n",
       "20               11 Ave & W 27 St  Manhattan     116327   \n",
       "22             S 4 St & Wythe Ave   Brooklyn     116041   \n",
       "26        W 16 St & The High Line  Manhattan     115804   \n",
       "27                5 Ave & E 87 St  Manhattan     112393   \n",
       "5              E 72 St & York Ave  Manhattan     111764   \n",
       "8                 1 Ave & E 39 St  Manhattan     105066   \n",
       "12    Central Park West & W 85 St  Manhattan     104700   \n",
       "18               W 34 St & 11 Ave  Manhattan     104627   \n",
       "40       Riverside Blvd & W 67 St  Manhattan     103217   \n",
       "\n",
       "    share_of_water_endpoints  \n",
       "1                   0.029297  \n",
       "0                   0.021494  \n",
       "2                   0.020748  \n",
       "47                  0.017608  \n",
       "3                   0.015806  \n",
       "9                   0.015527  \n",
       "15                  0.015290  \n",
       "17                  0.014979  \n",
       "4                   0.014950  \n",
       "6                   0.014400  \n",
       "29                  0.013854  \n",
       "20                  0.013763  \n",
       "22                  0.013729  \n",
       "26                  0.013701  \n",
       "27                  0.013298  \n",
       "5                   0.013223  \n",
       "8                   0.012431  \n",
       "12                  0.012387  \n",
       "18                  0.012379  \n",
       "40                  0.012212  "
      ]
     },
     "metadata": {},
     "output_type": "display_data"
    },
    {
     "data": {
      "text/html": [
       "<div>\n",
       "<style scoped>\n",
       "    .dataframe tbody tr th:only-of-type {\n",
       "        vertical-align: middle;\n",
       "    }\n",
       "\n",
       "    .dataframe tbody tr th {\n",
       "        vertical-align: top;\n",
       "    }\n",
       "\n",
       "    .dataframe thead th {\n",
       "        text-align: right;\n",
       "    }\n",
       "</style>\n",
       "<table border=\"1\" class=\"dataframe\">\n",
       "  <thead>\n",
       "    <tr style=\"text-align: right;\">\n",
       "      <th></th>\n",
       "      <th>station_name</th>\n",
       "      <th>borough</th>\n",
       "      <th>endpoints</th>\n",
       "      <th>share_of_water_endpoints</th>\n",
       "    </tr>\n",
       "  </thead>\n",
       "  <tbody>\n",
       "    <tr>\n",
       "      <th>117</th>\n",
       "      <td>Vernon Blvd &amp; 30 Rd</td>\n",
       "      <td>Queens</td>\n",
       "      <td>1159</td>\n",
       "      <td>1.371243e-04</td>\n",
       "    </tr>\n",
       "    <tr>\n",
       "      <th>246</th>\n",
       "      <td>Pier 40 Dock Station</td>\n",
       "      <td>Manhattan</td>\n",
       "      <td>1139</td>\n",
       "      <td>1.347581e-04</td>\n",
       "    </tr>\n",
       "    <tr>\n",
       "      <th>233</th>\n",
       "      <td>West Farms Rd &amp; Boone Ave</td>\n",
       "      <td>Bronx</td>\n",
       "      <td>1073</td>\n",
       "      <td>1.269495e-04</td>\n",
       "    </tr>\n",
       "    <tr>\n",
       "      <th>243</th>\n",
       "      <td>Sedgwick Ave &amp; Hall of Fame Tce</td>\n",
       "      <td>Bronx</td>\n",
       "      <td>775</td>\n",
       "      <td>9.169229e-05</td>\n",
       "    </tr>\n",
       "    <tr>\n",
       "      <th>224</th>\n",
       "      <td>9 Ave &amp; W 206 St</td>\n",
       "      <td>Manhattan</td>\n",
       "      <td>760</td>\n",
       "      <td>8.991760e-05</td>\n",
       "    </tr>\n",
       "    <tr>\n",
       "      <th>203</th>\n",
       "      <td>57 St &amp; 1 Ave - Brooklyn Army Terminal Vaccina...</td>\n",
       "      <td>Brooklyn</td>\n",
       "      <td>757</td>\n",
       "      <td>8.956266e-05</td>\n",
       "    </tr>\n",
       "    <tr>\n",
       "      <th>271</th>\n",
       "      <td>Vernon Blvd &amp; Queens Plaza S</td>\n",
       "      <td>Queens</td>\n",
       "      <td>756</td>\n",
       "      <td>8.944435e-05</td>\n",
       "    </tr>\n",
       "    <tr>\n",
       "      <th>242</th>\n",
       "      <td>9 Ave &amp; W 219 St</td>\n",
       "      <td>Manhattan</td>\n",
       "      <td>562</td>\n",
       "      <td>6.649170e-05</td>\n",
       "    </tr>\n",
       "    <tr>\n",
       "      <th>272</th>\n",
       "      <td>E 85 St &amp; East End Ave</td>\n",
       "      <td>Manhattan</td>\n",
       "      <td>538</td>\n",
       "      <td>6.365219e-05</td>\n",
       "    </tr>\n",
       "    <tr>\n",
       "      <th>190</th>\n",
       "      <td>20 Ave &amp; 33 St</td>\n",
       "      <td>Queens</td>\n",
       "      <td>532</td>\n",
       "      <td>6.294232e-05</td>\n",
       "    </tr>\n",
       "    <tr>\n",
       "      <th>247</th>\n",
       "      <td>Morgan Loading Docks</td>\n",
       "      <td>Brooklyn</td>\n",
       "      <td>503</td>\n",
       "      <td>5.951125e-05</td>\n",
       "    </tr>\n",
       "    <tr>\n",
       "      <th>267</th>\n",
       "      <td>Keegan Rd &amp; 2 Ave</td>\n",
       "      <td>Brooklyn</td>\n",
       "      <td>458</td>\n",
       "      <td>5.418718e-05</td>\n",
       "    </tr>\n",
       "    <tr>\n",
       "      <th>265</th>\n",
       "      <td>9 Ave &amp; W 204 St</td>\n",
       "      <td>Manhattan</td>\n",
       "      <td>393</td>\n",
       "      <td>4.649686e-05</td>\n",
       "    </tr>\n",
       "    <tr>\n",
       "      <th>244</th>\n",
       "      <td>Morgan WH station</td>\n",
       "      <td>Brooklyn</td>\n",
       "      <td>296</td>\n",
       "      <td>3.502054e-05</td>\n",
       "    </tr>\n",
       "    <tr>\n",
       "      <th>156</th>\n",
       "      <td>Broad St &amp; Water St</td>\n",
       "      <td>Manhattan</td>\n",
       "      <td>266</td>\n",
       "      <td>3.147116e-05</td>\n",
       "    </tr>\n",
       "    <tr>\n",
       "      <th>260</th>\n",
       "      <td>Van Dam St &amp; Review Ave</td>\n",
       "      <td>Queens</td>\n",
       "      <td>109</td>\n",
       "      <td>1.289608e-05</td>\n",
       "    </tr>\n",
       "    <tr>\n",
       "      <th>262</th>\n",
       "      <td>Amsterdam Ave &amp; W 189 St new</td>\n",
       "      <td>Manhattan</td>\n",
       "      <td>102</td>\n",
       "      <td>1.206789e-05</td>\n",
       "    </tr>\n",
       "    <tr>\n",
       "      <th>252</th>\n",
       "      <td>Morgan Bike Mechanics</td>\n",
       "      <td>Brooklyn</td>\n",
       "      <td>48</td>\n",
       "      <td>5.679006e-06</td>\n",
       "    </tr>\n",
       "    <tr>\n",
       "      <th>250</th>\n",
       "      <td>Pier 40 X2</td>\n",
       "      <td>Manhattan</td>\n",
       "      <td>29</td>\n",
       "      <td>3.431066e-06</td>\n",
       "    </tr>\n",
       "    <tr>\n",
       "      <th>268</th>\n",
       "      <td>Sedgwick Ave &amp; W Tremont Ave - new</td>\n",
       "      <td>Bronx</td>\n",
       "      <td>1</td>\n",
       "      <td>1.183126e-07</td>\n",
       "    </tr>\n",
       "  </tbody>\n",
       "</table>\n",
       "</div>"
      ],
      "text/plain": [
       "                                          station_name    borough  endpoints  \\\n",
       "117                                Vernon Blvd & 30 Rd     Queens       1159   \n",
       "246                               Pier 40 Dock Station  Manhattan       1139   \n",
       "233                          West Farms Rd & Boone Ave      Bronx       1073   \n",
       "243                    Sedgwick Ave & Hall of Fame Tce      Bronx        775   \n",
       "224                                   9 Ave & W 206 St  Manhattan        760   \n",
       "203  57 St & 1 Ave - Brooklyn Army Terminal Vaccina...   Brooklyn        757   \n",
       "271                       Vernon Blvd & Queens Plaza S     Queens        756   \n",
       "242                                   9 Ave & W 219 St  Manhattan        562   \n",
       "272                             E 85 St & East End Ave  Manhattan        538   \n",
       "190                                     20 Ave & 33 St     Queens        532   \n",
       "247                               Morgan Loading Docks   Brooklyn        503   \n",
       "267                                  Keegan Rd & 2 Ave   Brooklyn        458   \n",
       "265                                   9 Ave & W 204 St  Manhattan        393   \n",
       "244                                  Morgan WH station   Brooklyn        296   \n",
       "156                                Broad St & Water St  Manhattan        266   \n",
       "260                            Van Dam St & Review Ave     Queens        109   \n",
       "262                       Amsterdam Ave & W 189 St new  Manhattan        102   \n",
       "252                              Morgan Bike Mechanics   Brooklyn         48   \n",
       "250                                         Pier 40 X2  Manhattan         29   \n",
       "268                 Sedgwick Ave & W Tremont Ave - new      Bronx          1   \n",
       "\n",
       "     share_of_water_endpoints  \n",
       "117              1.371243e-04  \n",
       "246              1.347581e-04  \n",
       "233              1.269495e-04  \n",
       "243              9.169229e-05  \n",
       "224              8.991760e-05  \n",
       "203              8.956266e-05  \n",
       "271              8.944435e-05  \n",
       "242              6.649170e-05  \n",
       "272              6.365219e-05  \n",
       "190              6.294232e-05  \n",
       "247              5.951125e-05  \n",
       "267              5.418718e-05  \n",
       "265              4.649686e-05  \n",
       "244              3.502054e-05  \n",
       "156              3.147116e-05  \n",
       "260              1.289608e-05  \n",
       "262              1.206789e-05  \n",
       "252              5.679006e-06  \n",
       "250              3.431066e-06  \n",
       "268              1.183126e-07  "
      ]
     },
     "metadata": {},
     "output_type": "display_data"
    }
   ],
   "source": [
    "import numpy as np\n",
    "from collections import Counter\n",
    "\n",
    "# --- lookups ---\n",
    "f = stations_flagged[[\"station_name\",\"near_water\"]].copy()\n",
    "f[\"station_key\"] = f[\"station_name\"].astype(str).str.strip().str.lower()\n",
    "water_keys = set(f.loc[f[\"near_water\"], \"station_key\"])\n",
    "\n",
    "meta = stations_u.copy()\n",
    "meta[\"station_key\"] = meta[\"station_name\"].astype(str).str.strip().str.lower()\n",
    "meta = meta.drop_duplicates(\"station_key\")[[\"station_key\",\"station_name\",\"borough\",\"lat\",\"lng\"]]\n",
    "\n",
    "# --- stream & count endpoints at waterfront stations ---\n",
    "counts = Counter()\n",
    "CHUNK = 500_000\n",
    "usecols = [\"start_station_name\",\"end_station_name\"]\n",
    "dtype   = {\"start_station_name\":\"string\",\"end_station_name\":\"string\"}\n",
    "\n",
    "for chunk in pd.read_csv(TRIPS_PATH, usecols=usecols, dtype=dtype, chunksize=CHUNK, low_memory=False):\n",
    "    s = chunk[\"start_station_name\"].str.strip().str.lower()\n",
    "    e = chunk[\"end_station_name\"].str.strip().str.lower()\n",
    "    counts.update(s[s.isin(water_keys)].value_counts().to_dict())\n",
    "    counts.update(e[e.isin(water_keys)].value_counts().to_dict())\n",
    "\n",
    "wf_counts = pd.DataFrame({\"station_key\": list(counts.keys()), \"endpoints\": list(counts.values())})\n",
    "wf_counts = wf_counts.merge(meta, on=\"station_key\", how=\"left\").sort_values(\"endpoints\", ascending=False)\n",
    "wf_counts[\"share_of_water_endpoints\"] = wf_counts[\"endpoints\"] / wf_counts[\"endpoints\"].sum()\n",
    "\n",
    "# --- quick distribution stats ---\n",
    "q = wf_counts[\"endpoints\"].quantile([0.5,0.75,0.9,0.95,0.99]).round(0).astype(int)\n",
    "n = len(wf_counts); x = np.sort(wf_counts[\"endpoints\"].values.astype(float)); \n",
    "gini = (2*np.sum((np.arange(1, n+1) * x)))/(n*x.sum()) - (n+1)/n\n",
    "\n",
    "print(f\"Waterfront stations counted: {len(wf_counts)}\")\n",
    "print(f\"Total waterfront endpoints:  {int(wf_counts['endpoints'].sum()):,}\")\n",
    "print(\"Percentiles (endpoints):\", q.to_dict())\n",
    "print(f\"Gini (endpoint concentration across waterfront stations): {gini:.2f}\")\n",
    "\n",
    "# peek: top/bottom stations\n",
    "display(wf_counts.head(20)[[\"station_name\",\"borough\",\"endpoints\",\"share_of_water_endpoints\"]])\n",
    "display(wf_counts.tail(20)[[\"station_name\",\"borough\",\"endpoints\",\"share_of_water_endpoints\"]])"
   ]
  },
  {
   "cell_type": "markdown",
   "id": "ae35b760-bfbc-4dba-9d6d-6ffe2dc4c683",
   "metadata": {},
   "source": [
    "### Top waterfront hotspot and time-concentration metrics for these"
   ]
  },
  {
   "cell_type": "code",
   "execution_count": 12,
   "id": "63f4572b-1326-4698-acb8-c9e13e9ee220",
   "metadata": {
    "scrolled": true
   },
   "outputs": [
    {
     "name": "stdout",
     "output_type": "stream",
     "text": [
      "Top 10 stations share of waterfront endpoints: 18.01%\n",
      "Top 10% stations (27) share:         38.83%\n",
      "Bottom 50% stations share:                     10.11%\n",
      "Hotspot count (to reach 50% of endpoints):     40\n"
     ]
    },
    {
     "data": {
      "text/html": [
       "<div>\n",
       "<style scoped>\n",
       "    .dataframe tbody tr th:only-of-type {\n",
       "        vertical-align: middle;\n",
       "    }\n",
       "\n",
       "    .dataframe tbody tr th {\n",
       "        vertical-align: top;\n",
       "    }\n",
       "\n",
       "    .dataframe thead th {\n",
       "        text-align: right;\n",
       "    }\n",
       "</style>\n",
       "<table border=\"1\" class=\"dataframe\">\n",
       "  <thead>\n",
       "    <tr style=\"text-align: right;\">\n",
       "      <th></th>\n",
       "      <th>station_name</th>\n",
       "      <th>borough</th>\n",
       "      <th>endpoints</th>\n",
       "      <th>share_of_water_endpoints</th>\n",
       "      <th>cum_share</th>\n",
       "    </tr>\n",
       "  </thead>\n",
       "  <tbody>\n",
       "    <tr>\n",
       "      <th>0</th>\n",
       "      <td>West St &amp; Chambers St</td>\n",
       "      <td>Manhattan</td>\n",
       "      <td>247625</td>\n",
       "      <td>0.029297</td>\n",
       "      <td>0.029297</td>\n",
       "    </tr>\n",
       "    <tr>\n",
       "      <th>1</th>\n",
       "      <td>E 33 St &amp; 1 Ave</td>\n",
       "      <td>Manhattan</td>\n",
       "      <td>181674</td>\n",
       "      <td>0.021494</td>\n",
       "      <td>0.050791</td>\n",
       "    </tr>\n",
       "    <tr>\n",
       "      <th>2</th>\n",
       "      <td>West St &amp; Liberty St</td>\n",
       "      <td>Manhattan</td>\n",
       "      <td>175364</td>\n",
       "      <td>0.020748</td>\n",
       "      <td>0.071539</td>\n",
       "    </tr>\n",
       "    <tr>\n",
       "      <th>3</th>\n",
       "      <td>10 Ave &amp; W 14 St</td>\n",
       "      <td>Manhattan</td>\n",
       "      <td>148824</td>\n",
       "      <td>0.017608</td>\n",
       "      <td>0.089147</td>\n",
       "    </tr>\n",
       "    <tr>\n",
       "      <th>4</th>\n",
       "      <td>Wythe Ave &amp; Metropolitan Ave</td>\n",
       "      <td>Brooklyn</td>\n",
       "      <td>133592</td>\n",
       "      <td>0.015806</td>\n",
       "      <td>0.104953</td>\n",
       "    </tr>\n",
       "    <tr>\n",
       "      <th>5</th>\n",
       "      <td>Washington St &amp; Gansevoort St</td>\n",
       "      <td>Manhattan</td>\n",
       "      <td>131235</td>\n",
       "      <td>0.015527</td>\n",
       "      <td>0.120479</td>\n",
       "    </tr>\n",
       "    <tr>\n",
       "      <th>6</th>\n",
       "      <td>Pier 40 - Hudson River Park</td>\n",
       "      <td>Manhattan</td>\n",
       "      <td>129231</td>\n",
       "      <td>0.015290</td>\n",
       "      <td>0.135769</td>\n",
       "    </tr>\n",
       "    <tr>\n",
       "      <th>7</th>\n",
       "      <td>Vesey Pl &amp; River Terrace</td>\n",
       "      <td>Manhattan</td>\n",
       "      <td>126607</td>\n",
       "      <td>0.014979</td>\n",
       "      <td>0.150748</td>\n",
       "    </tr>\n",
       "    <tr>\n",
       "      <th>8</th>\n",
       "      <td>W 44 St &amp; 11 Ave</td>\n",
       "      <td>Manhattan</td>\n",
       "      <td>126360</td>\n",
       "      <td>0.014950</td>\n",
       "      <td>0.165698</td>\n",
       "    </tr>\n",
       "    <tr>\n",
       "      <th>9</th>\n",
       "      <td>Kent Ave &amp; N 7 St</td>\n",
       "      <td>Brooklyn</td>\n",
       "      <td>121713</td>\n",
       "      <td>0.014400</td>\n",
       "      <td>0.180098</td>\n",
       "    </tr>\n",
       "    <tr>\n",
       "      <th>10</th>\n",
       "      <td>North Moore St &amp; Greenwich St</td>\n",
       "      <td>Manhattan</td>\n",
       "      <td>117097</td>\n",
       "      <td>0.013854</td>\n",
       "      <td>0.193952</td>\n",
       "    </tr>\n",
       "    <tr>\n",
       "      <th>11</th>\n",
       "      <td>11 Ave &amp; W 27 St</td>\n",
       "      <td>Manhattan</td>\n",
       "      <td>116327</td>\n",
       "      <td>0.013763</td>\n",
       "      <td>0.207715</td>\n",
       "    </tr>\n",
       "    <tr>\n",
       "      <th>12</th>\n",
       "      <td>S 4 St &amp; Wythe Ave</td>\n",
       "      <td>Brooklyn</td>\n",
       "      <td>116041</td>\n",
       "      <td>0.013729</td>\n",
       "      <td>0.221445</td>\n",
       "    </tr>\n",
       "    <tr>\n",
       "      <th>13</th>\n",
       "      <td>W 16 St &amp; The High Line</td>\n",
       "      <td>Manhattan</td>\n",
       "      <td>115804</td>\n",
       "      <td>0.013701</td>\n",
       "      <td>0.235146</td>\n",
       "    </tr>\n",
       "    <tr>\n",
       "      <th>14</th>\n",
       "      <td>5 Ave &amp; E 87 St</td>\n",
       "      <td>Manhattan</td>\n",
       "      <td>112393</td>\n",
       "      <td>0.013298</td>\n",
       "      <td>0.248443</td>\n",
       "    </tr>\n",
       "    <tr>\n",
       "      <th>15</th>\n",
       "      <td>E 72 St &amp; York Ave</td>\n",
       "      <td>Manhattan</td>\n",
       "      <td>111764</td>\n",
       "      <td>0.013223</td>\n",
       "      <td>0.261666</td>\n",
       "    </tr>\n",
       "    <tr>\n",
       "      <th>16</th>\n",
       "      <td>1 Ave &amp; E 39 St</td>\n",
       "      <td>Manhattan</td>\n",
       "      <td>105066</td>\n",
       "      <td>0.012431</td>\n",
       "      <td>0.274097</td>\n",
       "    </tr>\n",
       "    <tr>\n",
       "      <th>17</th>\n",
       "      <td>Central Park West &amp; W 85 St</td>\n",
       "      <td>Manhattan</td>\n",
       "      <td>104700</td>\n",
       "      <td>0.012387</td>\n",
       "      <td>0.286484</td>\n",
       "    </tr>\n",
       "    <tr>\n",
       "      <th>18</th>\n",
       "      <td>W 34 St &amp; 11 Ave</td>\n",
       "      <td>Manhattan</td>\n",
       "      <td>104627</td>\n",
       "      <td>0.012379</td>\n",
       "      <td>0.298863</td>\n",
       "    </tr>\n",
       "    <tr>\n",
       "      <th>19</th>\n",
       "      <td>Riverside Blvd &amp; W 67 St</td>\n",
       "      <td>Manhattan</td>\n",
       "      <td>103217</td>\n",
       "      <td>0.012212</td>\n",
       "      <td>0.311075</td>\n",
       "    </tr>\n",
       "  </tbody>\n",
       "</table>\n",
       "</div>"
      ],
      "text/plain": [
       "                     station_name    borough  endpoints  \\\n",
       "0           West St & Chambers St  Manhattan     247625   \n",
       "1                 E 33 St & 1 Ave  Manhattan     181674   \n",
       "2            West St & Liberty St  Manhattan     175364   \n",
       "3                10 Ave & W 14 St  Manhattan     148824   \n",
       "4    Wythe Ave & Metropolitan Ave   Brooklyn     133592   \n",
       "5   Washington St & Gansevoort St  Manhattan     131235   \n",
       "6     Pier 40 - Hudson River Park  Manhattan     129231   \n",
       "7        Vesey Pl & River Terrace  Manhattan     126607   \n",
       "8                W 44 St & 11 Ave  Manhattan     126360   \n",
       "9               Kent Ave & N 7 St   Brooklyn     121713   \n",
       "10  North Moore St & Greenwich St  Manhattan     117097   \n",
       "11               11 Ave & W 27 St  Manhattan     116327   \n",
       "12             S 4 St & Wythe Ave   Brooklyn     116041   \n",
       "13        W 16 St & The High Line  Manhattan     115804   \n",
       "14                5 Ave & E 87 St  Manhattan     112393   \n",
       "15             E 72 St & York Ave  Manhattan     111764   \n",
       "16                1 Ave & E 39 St  Manhattan     105066   \n",
       "17    Central Park West & W 85 St  Manhattan     104700   \n",
       "18               W 34 St & 11 Ave  Manhattan     104627   \n",
       "19       Riverside Blvd & W 67 St  Manhattan     103217   \n",
       "\n",
       "    share_of_water_endpoints  cum_share  \n",
       "0                   0.029297   0.029297  \n",
       "1                   0.021494   0.050791  \n",
       "2                   0.020748   0.071539  \n",
       "3                   0.017608   0.089147  \n",
       "4                   0.015806   0.104953  \n",
       "5                   0.015527   0.120479  \n",
       "6                   0.015290   0.135769  \n",
       "7                   0.014979   0.150748  \n",
       "8                   0.014950   0.165698  \n",
       "9                   0.014400   0.180098  \n",
       "10                  0.013854   0.193952  \n",
       "11                  0.013763   0.207715  \n",
       "12                  0.013729   0.221445  \n",
       "13                  0.013701   0.235146  \n",
       "14                  0.013298   0.248443  \n",
       "15                  0.013223   0.261666  \n",
       "16                  0.012431   0.274097  \n",
       "17                  0.012387   0.286484  \n",
       "18                  0.012379   0.298863  \n",
       "19                  0.012212   0.311075  "
      ]
     },
     "execution_count": 12,
     "metadata": {},
     "output_type": "execute_result"
    }
   ],
   "source": [
    "# 1) How dominant are top nodes? and 2) concrete hospot list for siting focus\n",
    "\n",
    "wf = wf_counts.sort_values(\"endpoints\", ascending=False).reset_index(drop=True)\n",
    "wf[\"cum_share\"] = wf[\"share_of_water_endpoints\"].cumsum()\n",
    "\n",
    "top10_share      = wf[\"share_of_water_endpoints\"].head(10).sum()\n",
    "top10pct_n       = max(1, int(round(0.10 * len(wf))))\n",
    "top10pct_share   = wf[\"share_of_water_endpoints\"].head(top10pct_n).sum()\n",
    "bottom50pct_n    = int(round(0.50 * len(wf)))\n",
    "bottom50pct_share= wf[\"share_of_water_endpoints\"].tail(bottom50pct_n).sum()\n",
    "\n",
    "hotspots = wf.loc[wf[\"cum_share\"] <= 0.50, [\"station_name\",\"borough\",\"endpoints\",\"share_of_water_endpoints\",\"cum_share\"]]\n",
    "\n",
    "print(f\"Top 10 stations share of waterfront endpoints: {top10_share:.2%}\")\n",
    "print(f\"Top 10% stations ({top10pct_n}) share:         {top10pct_share:.2%}\")\n",
    "print(f\"Bottom 50% stations share:                     {bottom50pct_share:.2%}\")\n",
    "print(f\"Hotspot count (to reach 50% of endpoints):     {len(hotspots)}\")\n",
    "\n",
    "hotspots.head(20)"
   ]
  },
  {
   "cell_type": "markdown",
   "id": "392ecf85-5225-405a-af6e-36d8565802cb",
   "metadata": {},
   "source": [
    "These numbers show ***great concentration***:\n",
    "\n",
    "- Top 10 stations = 18% of waterfront endpoints.\n",
    "- Top 10% (27 stations) = 38.8%\n",
    "- ***Just 40 out of the 273 stations deliver 50% of all waterfront endpoints***.\n",
    "- Gini 0.58 ⇒ demand is very uneven across waterfront stations.\n",
    "\n",
    "But concentration alone doesn’t prove we need new stations. If those stations’ trips are spread across the day, ops can usually cope without extra hardware. ***If, however, a large share clusters in a few hours*** (e.g., peak_hour ≳ 12% or top-3 hours ≳ 30% with span50 ≤ 6), ***then adding small satellites nearby can reasonably target latent demand that was previously constrained by full/empty conditions***."
   ]
  },
  {
   "cell_type": "code",
   "execution_count": 13,
   "id": "96c5c434-eb9b-4c25-9723-2efe899f97b5",
   "metadata": {
    "scrolled": true
   },
   "outputs": [
    {
     "data": {
      "text/html": [
       "<div>\n",
       "<style scoped>\n",
       "    .dataframe tbody tr th:only-of-type {\n",
       "        vertical-align: middle;\n",
       "    }\n",
       "\n",
       "    .dataframe tbody tr th {\n",
       "        vertical-align: top;\n",
       "    }\n",
       "\n",
       "    .dataframe thead th {\n",
       "        text-align: right;\n",
       "    }\n",
       "</style>\n",
       "<table border=\"1\" class=\"dataframe\">\n",
       "  <thead>\n",
       "    <tr style=\"text-align: right;\">\n",
       "      <th></th>\n",
       "      <th>station_name</th>\n",
       "      <th>borough</th>\n",
       "      <th>endpoints</th>\n",
       "      <th>share_of_water_endpoints</th>\n",
       "      <th>hotspot_index</th>\n",
       "    </tr>\n",
       "  </thead>\n",
       "  <tbody>\n",
       "    <tr>\n",
       "      <th>1</th>\n",
       "      <td>West St &amp; Chambers St</td>\n",
       "      <td>Manhattan</td>\n",
       "      <td>247625</td>\n",
       "      <td>0.029297</td>\n",
       "      <td>7.998126</td>\n",
       "    </tr>\n",
       "    <tr>\n",
       "      <th>0</th>\n",
       "      <td>E 33 St &amp; 1 Ave</td>\n",
       "      <td>Manhattan</td>\n",
       "      <td>181674</td>\n",
       "      <td>0.021494</td>\n",
       "      <td>5.867952</td>\n",
       "    </tr>\n",
       "    <tr>\n",
       "      <th>2</th>\n",
       "      <td>West St &amp; Liberty St</td>\n",
       "      <td>Manhattan</td>\n",
       "      <td>175364</td>\n",
       "      <td>0.020748</td>\n",
       "      <td>5.664143</td>\n",
       "    </tr>\n",
       "    <tr>\n",
       "      <th>47</th>\n",
       "      <td>10 Ave &amp; W 14 St</td>\n",
       "      <td>Manhattan</td>\n",
       "      <td>148824</td>\n",
       "      <td>0.017608</td>\n",
       "      <td>4.806918</td>\n",
       "    </tr>\n",
       "    <tr>\n",
       "      <th>3</th>\n",
       "      <td>Wythe Ave &amp; Metropolitan Ave</td>\n",
       "      <td>Brooklyn</td>\n",
       "      <td>133592</td>\n",
       "      <td>0.015806</td>\n",
       "      <td>4.314934</td>\n",
       "    </tr>\n",
       "    <tr>\n",
       "      <th>9</th>\n",
       "      <td>Washington St &amp; Gansevoort St</td>\n",
       "      <td>Manhattan</td>\n",
       "      <td>131235</td>\n",
       "      <td>0.015527</td>\n",
       "      <td>4.238805</td>\n",
       "    </tr>\n",
       "    <tr>\n",
       "      <th>15</th>\n",
       "      <td>Pier 40 - Hudson River Park</td>\n",
       "      <td>Manhattan</td>\n",
       "      <td>129231</td>\n",
       "      <td>0.015290</td>\n",
       "      <td>4.174077</td>\n",
       "    </tr>\n",
       "    <tr>\n",
       "      <th>17</th>\n",
       "      <td>Vesey Pl &amp; River Terrace</td>\n",
       "      <td>Manhattan</td>\n",
       "      <td>126607</td>\n",
       "      <td>0.014979</td>\n",
       "      <td>4.089324</td>\n",
       "    </tr>\n",
       "    <tr>\n",
       "      <th>4</th>\n",
       "      <td>W 44 St &amp; 11 Ave</td>\n",
       "      <td>Manhattan</td>\n",
       "      <td>126360</td>\n",
       "      <td>0.014950</td>\n",
       "      <td>4.081346</td>\n",
       "    </tr>\n",
       "    <tr>\n",
       "      <th>6</th>\n",
       "      <td>Kent Ave &amp; N 7 St</td>\n",
       "      <td>Brooklyn</td>\n",
       "      <td>121713</td>\n",
       "      <td>0.014400</td>\n",
       "      <td>3.931251</td>\n",
       "    </tr>\n",
       "    <tr>\n",
       "      <th>29</th>\n",
       "      <td>North Moore St &amp; Greenwich St</td>\n",
       "      <td>Manhattan</td>\n",
       "      <td>117097</td>\n",
       "      <td>0.013854</td>\n",
       "      <td>3.782157</td>\n",
       "    </tr>\n",
       "    <tr>\n",
       "      <th>20</th>\n",
       "      <td>11 Ave &amp; W 27 St</td>\n",
       "      <td>Manhattan</td>\n",
       "      <td>116327</td>\n",
       "      <td>0.013763</td>\n",
       "      <td>3.757286</td>\n",
       "    </tr>\n",
       "    <tr>\n",
       "      <th>22</th>\n",
       "      <td>S 4 St &amp; Wythe Ave</td>\n",
       "      <td>Brooklyn</td>\n",
       "      <td>116041</td>\n",
       "      <td>0.013729</td>\n",
       "      <td>3.748049</td>\n",
       "    </tr>\n",
       "    <tr>\n",
       "      <th>26</th>\n",
       "      <td>W 16 St &amp; The High Line</td>\n",
       "      <td>Manhattan</td>\n",
       "      <td>115804</td>\n",
       "      <td>0.013701</td>\n",
       "      <td>3.740394</td>\n",
       "    </tr>\n",
       "    <tr>\n",
       "      <th>27</th>\n",
       "      <td>5 Ave &amp; E 87 St</td>\n",
       "      <td>Manhattan</td>\n",
       "      <td>112393</td>\n",
       "      <td>0.013298</td>\n",
       "      <td>3.630221</td>\n",
       "    </tr>\n",
       "    <tr>\n",
       "      <th>5</th>\n",
       "      <td>E 72 St &amp; York Ave</td>\n",
       "      <td>Manhattan</td>\n",
       "      <td>111764</td>\n",
       "      <td>0.013223</td>\n",
       "      <td>3.609904</td>\n",
       "    </tr>\n",
       "    <tr>\n",
       "      <th>8</th>\n",
       "      <td>1 Ave &amp; E 39 St</td>\n",
       "      <td>Manhattan</td>\n",
       "      <td>105066</td>\n",
       "      <td>0.012431</td>\n",
       "      <td>3.393563</td>\n",
       "    </tr>\n",
       "    <tr>\n",
       "      <th>12</th>\n",
       "      <td>Central Park West &amp; W 85 St</td>\n",
       "      <td>Manhattan</td>\n",
       "      <td>104700</td>\n",
       "      <td>0.012387</td>\n",
       "      <td>3.381742</td>\n",
       "    </tr>\n",
       "    <tr>\n",
       "      <th>18</th>\n",
       "      <td>W 34 St &amp; 11 Ave</td>\n",
       "      <td>Manhattan</td>\n",
       "      <td>104627</td>\n",
       "      <td>0.012379</td>\n",
       "      <td>3.379384</td>\n",
       "    </tr>\n",
       "    <tr>\n",
       "      <th>40</th>\n",
       "      <td>Riverside Blvd &amp; W 67 St</td>\n",
       "      <td>Manhattan</td>\n",
       "      <td>103217</td>\n",
       "      <td>0.012212</td>\n",
       "      <td>3.333842</td>\n",
       "    </tr>\n",
       "  </tbody>\n",
       "</table>\n",
       "</div>"
      ],
      "text/plain": [
       "                     station_name    borough  endpoints  \\\n",
       "1           West St & Chambers St  Manhattan     247625   \n",
       "0                 E 33 St & 1 Ave  Manhattan     181674   \n",
       "2            West St & Liberty St  Manhattan     175364   \n",
       "47               10 Ave & W 14 St  Manhattan     148824   \n",
       "3    Wythe Ave & Metropolitan Ave   Brooklyn     133592   \n",
       "9   Washington St & Gansevoort St  Manhattan     131235   \n",
       "15    Pier 40 - Hudson River Park  Manhattan     129231   \n",
       "17       Vesey Pl & River Terrace  Manhattan     126607   \n",
       "4                W 44 St & 11 Ave  Manhattan     126360   \n",
       "6               Kent Ave & N 7 St   Brooklyn     121713   \n",
       "29  North Moore St & Greenwich St  Manhattan     117097   \n",
       "20               11 Ave & W 27 St  Manhattan     116327   \n",
       "22             S 4 St & Wythe Ave   Brooklyn     116041   \n",
       "26        W 16 St & The High Line  Manhattan     115804   \n",
       "27                5 Ave & E 87 St  Manhattan     112393   \n",
       "5              E 72 St & York Ave  Manhattan     111764   \n",
       "8                 1 Ave & E 39 St  Manhattan     105066   \n",
       "12    Central Park West & W 85 St  Manhattan     104700   \n",
       "18               W 34 St & 11 Ave  Manhattan     104627   \n",
       "40       Riverside Blvd & W 67 St  Manhattan     103217   \n",
       "\n",
       "    share_of_water_endpoints  hotspot_index  \n",
       "1                   0.029297       7.998126  \n",
       "0                   0.021494       5.867952  \n",
       "2                   0.020748       5.664143  \n",
       "47                  0.017608       4.806918  \n",
       "3                   0.015806       4.314934  \n",
       "9                   0.015527       4.238805  \n",
       "15                  0.015290       4.174077  \n",
       "17                  0.014979       4.089324  \n",
       "4                   0.014950       4.081346  \n",
       "6                   0.014400       3.931251  \n",
       "29                  0.013854       3.782157  \n",
       "20                  0.013763       3.757286  \n",
       "22                  0.013729       3.748049  \n",
       "26                  0.013701       3.740394  \n",
       "27                  0.013298       3.630221  \n",
       "5                   0.013223       3.609904  \n",
       "8                   0.012431       3.393563  \n",
       "12                  0.012387       3.381742  \n",
       "18                  0.012379       3.379384  \n",
       "40                  0.012212       3.333842  "
      ]
     },
     "execution_count": 13,
     "metadata": {},
     "output_type": "execute_result"
    }
   ],
   "source": [
    "# add a hotspot index per station\n",
    "\n",
    "baseline = 1 / len(wf_counts)  # equal share if demand were uniform\n",
    "wf_counts[\"hotspot_index\"] = wf_counts[\"share_of_water_endpoints\"] / baseline\n",
    "wf_counts.sort_values(\"hotspot_index\", ascending=False).head(20)[\n",
    "    [\"station_name\",\"borough\",\"endpoints\",\"share_of_water_endpoints\",\"hotspot_index\"]\n",
    "]"
   ]
  },
  {
   "cell_type": "code",
   "execution_count": 14,
   "id": "3239f485-ea93-49ea-bd95-43b3d52d8417",
   "metadata": {
    "scrolled": true
   },
   "outputs": [
    {
     "data": {
      "text/html": [
       "<div>\n",
       "<style scoped>\n",
       "    .dataframe tbody tr th:only-of-type {\n",
       "        vertical-align: middle;\n",
       "    }\n",
       "\n",
       "    .dataframe tbody tr th {\n",
       "        vertical-align: top;\n",
       "    }\n",
       "\n",
       "    .dataframe thead th {\n",
       "        text-align: right;\n",
       "    }\n",
       "</style>\n",
       "<table border=\"1\" class=\"dataframe\">\n",
       "  <thead>\n",
       "    <tr style=\"text-align: right;\">\n",
       "      <th></th>\n",
       "      <th>station_name</th>\n",
       "      <th>total_trips</th>\n",
       "      <th>peak_hour</th>\n",
       "      <th>peak_share</th>\n",
       "      <th>top3_share</th>\n",
       "      <th>span50_hours</th>\n",
       "      <th>hhi_norm</th>\n",
       "    </tr>\n",
       "  </thead>\n",
       "  <tbody>\n",
       "    <tr>\n",
       "      <th>20</th>\n",
       "      <td>North Moore St &amp; Greenwich St</td>\n",
       "      <td>115933</td>\n",
       "      <td>17</td>\n",
       "      <td>0.148</td>\n",
       "      <td>0.358</td>\n",
       "      <td>5</td>\n",
       "      <td>0.035</td>\n",
       "    </tr>\n",
       "    <tr>\n",
       "      <th>13</th>\n",
       "      <td>Vesey Pl &amp; River Terrace</td>\n",
       "      <td>124450</td>\n",
       "      <td>17</td>\n",
       "      <td>0.121</td>\n",
       "      <td>0.317</td>\n",
       "      <td>6</td>\n",
       "      <td>0.028</td>\n",
       "    </tr>\n",
       "    <tr>\n",
       "      <th>4</th>\n",
       "      <td>West St &amp; Chambers St</td>\n",
       "      <td>242857</td>\n",
       "      <td>18</td>\n",
       "      <td>0.120</td>\n",
       "      <td>0.320</td>\n",
       "      <td>6</td>\n",
       "      <td>0.029</td>\n",
       "    </tr>\n",
       "    <tr>\n",
       "      <th>19</th>\n",
       "      <td>W 15 St &amp; 10 Ave</td>\n",
       "      <td>69650</td>\n",
       "      <td>17</td>\n",
       "      <td>0.113</td>\n",
       "      <td>0.309</td>\n",
       "      <td>6</td>\n",
       "      <td>0.031</td>\n",
       "    </tr>\n",
       "    <tr>\n",
       "      <th>38</th>\n",
       "      <td>1 Ave &amp; E 44 St</td>\n",
       "      <td>61150</td>\n",
       "      <td>9</td>\n",
       "      <td>0.109</td>\n",
       "      <td>0.312</td>\n",
       "      <td>6</td>\n",
       "      <td>0.027</td>\n",
       "    </tr>\n",
       "    <tr>\n",
       "      <th>36</th>\n",
       "      <td>5 Ave &amp; E 87 St</td>\n",
       "      <td>107822</td>\n",
       "      <td>15</td>\n",
       "      <td>0.108</td>\n",
       "      <td>0.316</td>\n",
       "      <td>5</td>\n",
       "      <td>0.038</td>\n",
       "    </tr>\n",
       "    <tr>\n",
       "      <th>16</th>\n",
       "      <td>E 25 St &amp; 1 Ave</td>\n",
       "      <td>74600</td>\n",
       "      <td>8</td>\n",
       "      <td>0.107</td>\n",
       "      <td>0.247</td>\n",
       "      <td>7</td>\n",
       "      <td>0.018</td>\n",
       "    </tr>\n",
       "    <tr>\n",
       "      <th>9</th>\n",
       "      <td>West St &amp; Liberty St</td>\n",
       "      <td>172193</td>\n",
       "      <td>17</td>\n",
       "      <td>0.105</td>\n",
       "      <td>0.288</td>\n",
       "      <td>6</td>\n",
       "      <td>0.025</td>\n",
       "    </tr>\n",
       "    <tr>\n",
       "      <th>2</th>\n",
       "      <td>10 Ave &amp; W 14 St</td>\n",
       "      <td>146098</td>\n",
       "      <td>17</td>\n",
       "      <td>0.105</td>\n",
       "      <td>0.305</td>\n",
       "      <td>6</td>\n",
       "      <td>0.031</td>\n",
       "    </tr>\n",
       "    <tr>\n",
       "      <th>35</th>\n",
       "      <td>11 Ave &amp; W 27 St</td>\n",
       "      <td>114843</td>\n",
       "      <td>17</td>\n",
       "      <td>0.103</td>\n",
       "      <td>0.284</td>\n",
       "      <td>7</td>\n",
       "      <td>0.021</td>\n",
       "    </tr>\n",
       "    <tr>\n",
       "      <th>22</th>\n",
       "      <td>Riverside Blvd &amp; W 67 St</td>\n",
       "      <td>100467</td>\n",
       "      <td>18</td>\n",
       "      <td>0.103</td>\n",
       "      <td>0.286</td>\n",
       "      <td>6</td>\n",
       "      <td>0.023</td>\n",
       "    </tr>\n",
       "    <tr>\n",
       "      <th>14</th>\n",
       "      <td>Milton St &amp; Franklin St</td>\n",
       "      <td>81200</td>\n",
       "      <td>18</td>\n",
       "      <td>0.103</td>\n",
       "      <td>0.274</td>\n",
       "      <td>7</td>\n",
       "      <td>0.020</td>\n",
       "    </tr>\n",
       "    <tr>\n",
       "      <th>26</th>\n",
       "      <td>5 Ave &amp; E 93 St</td>\n",
       "      <td>72222</td>\n",
       "      <td>15</td>\n",
       "      <td>0.103</td>\n",
       "      <td>0.294</td>\n",
       "      <td>6</td>\n",
       "      <td>0.030</td>\n",
       "    </tr>\n",
       "    <tr>\n",
       "      <th>11</th>\n",
       "      <td>Vernon Blvd &amp; 50 Ave</td>\n",
       "      <td>62648</td>\n",
       "      <td>18</td>\n",
       "      <td>0.103</td>\n",
       "      <td>0.279</td>\n",
       "      <td>7</td>\n",
       "      <td>0.021</td>\n",
       "    </tr>\n",
       "    <tr>\n",
       "      <th>10</th>\n",
       "      <td>Kent Ave &amp; N 7 St</td>\n",
       "      <td>119708</td>\n",
       "      <td>18</td>\n",
       "      <td>0.102</td>\n",
       "      <td>0.277</td>\n",
       "      <td>7</td>\n",
       "      <td>0.022</td>\n",
       "    </tr>\n",
       "    <tr>\n",
       "      <th>6</th>\n",
       "      <td>W 34 St &amp; 11 Ave</td>\n",
       "      <td>103000</td>\n",
       "      <td>17</td>\n",
       "      <td>0.101</td>\n",
       "      <td>0.281</td>\n",
       "      <td>7</td>\n",
       "      <td>0.026</td>\n",
       "    </tr>\n",
       "    <tr>\n",
       "      <th>24</th>\n",
       "      <td>Wythe Ave &amp; Metropolitan Ave</td>\n",
       "      <td>131949</td>\n",
       "      <td>18</td>\n",
       "      <td>0.100</td>\n",
       "      <td>0.277</td>\n",
       "      <td>7</td>\n",
       "      <td>0.022</td>\n",
       "    </tr>\n",
       "    <tr>\n",
       "      <th>3</th>\n",
       "      <td>W 64 St &amp; Thelonious Monk Circle</td>\n",
       "      <td>86696</td>\n",
       "      <td>17</td>\n",
       "      <td>0.099</td>\n",
       "      <td>0.269</td>\n",
       "      <td>7</td>\n",
       "      <td>0.019</td>\n",
       "    </tr>\n",
       "    <tr>\n",
       "      <th>15</th>\n",
       "      <td>E 20 St &amp; FDR Dr</td>\n",
       "      <td>93193</td>\n",
       "      <td>18</td>\n",
       "      <td>0.098</td>\n",
       "      <td>0.269</td>\n",
       "      <td>7</td>\n",
       "      <td>0.019</td>\n",
       "    </tr>\n",
       "    <tr>\n",
       "      <th>17</th>\n",
       "      <td>West Thames St</td>\n",
       "      <td>84428</td>\n",
       "      <td>17</td>\n",
       "      <td>0.098</td>\n",
       "      <td>0.263</td>\n",
       "      <td>7</td>\n",
       "      <td>0.022</td>\n",
       "    </tr>\n",
       "  </tbody>\n",
       "</table>\n",
       "</div>"
      ],
      "text/plain": [
       "                        station_name  total_trips  peak_hour  peak_share  \\\n",
       "20     North Moore St & Greenwich St       115933         17       0.148   \n",
       "13          Vesey Pl & River Terrace       124450         17       0.121   \n",
       "4              West St & Chambers St       242857         18       0.120   \n",
       "19                  W 15 St & 10 Ave        69650         17       0.113   \n",
       "38                   1 Ave & E 44 St        61150          9       0.109   \n",
       "36                   5 Ave & E 87 St       107822         15       0.108   \n",
       "16                   E 25 St & 1 Ave        74600          8       0.107   \n",
       "9               West St & Liberty St       172193         17       0.105   \n",
       "2                   10 Ave & W 14 St       146098         17       0.105   \n",
       "35                  11 Ave & W 27 St       114843         17       0.103   \n",
       "22          Riverside Blvd & W 67 St       100467         18       0.103   \n",
       "14           Milton St & Franklin St        81200         18       0.103   \n",
       "26                   5 Ave & E 93 St        72222         15       0.103   \n",
       "11              Vernon Blvd & 50 Ave        62648         18       0.103   \n",
       "10                 Kent Ave & N 7 St       119708         18       0.102   \n",
       "6                   W 34 St & 11 Ave       103000         17       0.101   \n",
       "24      Wythe Ave & Metropolitan Ave       131949         18       0.100   \n",
       "3   W 64 St & Thelonious Monk Circle        86696         17       0.099   \n",
       "15                  E 20 St & FDR Dr        93193         18       0.098   \n",
       "17                    West Thames St        84428         17       0.098   \n",
       "\n",
       "    top3_share  span50_hours  hhi_norm  \n",
       "20       0.358             5     0.035  \n",
       "13       0.317             6     0.028  \n",
       "4        0.320             6     0.029  \n",
       "19       0.309             6     0.031  \n",
       "38       0.312             6     0.027  \n",
       "36       0.316             5     0.038  \n",
       "16       0.247             7     0.018  \n",
       "9        0.288             6     0.025  \n",
       "2        0.305             6     0.031  \n",
       "35       0.284             7     0.021  \n",
       "22       0.286             6     0.023  \n",
       "14       0.274             7     0.020  \n",
       "26       0.294             6     0.030  \n",
       "11       0.279             7     0.021  \n",
       "10       0.277             7     0.022  \n",
       "6        0.281             7     0.026  \n",
       "24       0.277             7     0.022  \n",
       "3        0.269             7     0.019  \n",
       "15       0.269             7     0.019  \n",
       "17       0.263             7     0.022  "
      ]
     },
     "execution_count": 14,
     "metadata": {},
     "output_type": "execute_result"
    }
   ],
   "source": [
    "# Trips per hotspot station by hour-of_day\n",
    "\n",
    "from collections import defaultdict\n",
    "\n",
    "hs = hotspots.copy()\n",
    "hs[\"station_key\"] = hs[\"station_name\"].astype(str).str.strip().str.lower()\n",
    "hotspot_keys = set(hs[\"station_key\"])\n",
    "key_to_name   = dict(zip(hs[\"station_key\"], hs[\"station_name\"]))\n",
    "\n",
    "# 24-hour counters per hotspot\n",
    "hour_counts = {k: np.zeros(24, dtype=np.int64) for k in hotspot_keys}\n",
    "trip_totals = defaultdict(int)\n",
    "\n",
    "CHUNK = 500_000\n",
    "usecols = [\"start_station_name\",\"end_station_name\",\"started_at\",\"ended_at\"]\n",
    "dtype   = {\"start_station_name\":\"string\",\"end_station_name\":\"string\"}\n",
    "\n",
    "for chunk in pd.read_csv(TRIPS_PATH, usecols=usecols, dtype=dtype, chunksize=CHUNK, low_memory=False):\n",
    "    s_key = chunk[\"start_station_name\"].str.strip().str.lower()\n",
    "    e_key = chunk[\"end_station_name\"].str.strip().str.lower()\n",
    "    mask_hot = s_key.isin(hotspot_keys) | e_key.isin(hotspot_keys)\n",
    "    if not mask_hot.any():\n",
    "        continue\n",
    "\n",
    "    sub   = chunk.loc[mask_hot]\n",
    "    s_key = s_key[mask_hot]; e_key = e_key[mask_hot]\n",
    "    s_hr  = pd.to_datetime(sub[\"started_at\"], errors=\"coerce\").dt.hour\n",
    "    e_hr  = pd.to_datetime(sub[\"ended_at\"],   errors=\"coerce\").dt.hour\n",
    "\n",
    "    involved = pd.Index(s_key[s_key.isin(hotspot_keys)].unique()).union(\n",
    "               pd.Index(e_key[e_key.isin(hotspot_keys)].unique()))\n",
    "    for k in involved:\n",
    "        ms = (s_key == k)\n",
    "        me = (e_key == k) & (~ms)  # avoid double-counting round-trips to same station\n",
    "\n",
    "        if ms.any():\n",
    "            hour_counts[k] += np.bincount(s_hr[ms].dropna().astype(int), minlength=24)\n",
    "        if me.any():\n",
    "            hour_counts[k] += np.bincount(e_hr[me].dropna().astype(int), minlength=24)\n",
    "\n",
    "        trip_totals[k] += int(ms.sum() + me.sum())\n",
    "\n",
    "# Summaries per hotspot\n",
    "rows = []\n",
    "for k, counts in hour_counts.items():\n",
    "    total = counts.sum()\n",
    "    if total == 0:\n",
    "        rows.append({\"station_name\": key_to_name.get(k,k), \"total_trips\": 0,\n",
    "                     \"peak_hour\": None, \"peak_share\": np.nan,\n",
    "                     \"top3_share\": np.nan, \"span50_hours\": np.nan, \"hhi_norm\": np.nan})\n",
    "        continue\n",
    "    p = counts / total\n",
    "    peak_hour   = int(np.argmax(counts))\n",
    "    peak_share  = float(counts.max() / total)\n",
    "    top3_share  = float(np.sort(p)[-3:].sum())\n",
    "    span50      = int((np.sort(p)[::-1].cumsum() <= 0.5).sum() + 1)\n",
    "    hhi         = float((p**2).sum())\n",
    "    hhi_norm    = (hhi - 1/24) / (1 - 1/24)  # 0=flat, 1=all in one hour\n",
    "    rows.append({\n",
    "        \"station_name\": key_to_name.get(k, k),\n",
    "        \"total_trips\": int(total),\n",
    "        \"peak_hour\": peak_hour,\n",
    "        \"peak_share\": round(peak_share, 3),\n",
    "        \"top3_share\": round(top3_share, 3),\n",
    "        \"span50_hours\": span50,\n",
    "        \"hhi_norm\": round(hhi_norm, 3),\n",
    "    })\n",
    "\n",
    "hotspot_hourly_summary = pd.DataFrame(rows).sort_values([\"peak_share\",\"total_trips\"], ascending=[False,False])\n",
    "hotspot_hourly_summary.head(20)"
   ]
  },
  {
   "cell_type": "markdown",
   "id": "7446d3b2-6ada-419a-99aa-8c6161d02740",
   "metadata": {},
   "source": [
    "***Recap — time-concentration metrics for the 40 waterfront hotspots (~50% of all waterfront endpoints)***\n",
    "1. ***Peak hour (which hour peaks?)*** Five distinct peak hours, heavily PM-skewed: ***17:00 (18 stations, 45%)***, ***18:00 (16, 40%)***, then ***08:00 (3)***, ***15:00 (2)***, ***09:00 (1)***.\n",
    "2. ***span50*** (hours needed to reach 50% of a station's daily trips, taking hours from highest to lowest) Mostly ***5–7 hours*** → half the day's volume happens in about a quarter of the day.\n",
    "3. ***peak_share*** (single busiest hour's share) We flag ***≥12%*** because with ~17 \"active\" hours, an even hour ≈ ***5.9%***; 12% is ~***2×*** even. Typical range is ***10–15%***, so a few stations are clearly above baseline.\n",
    "4. ***top3_share*** (busiest three hours combined) We flag ***≥30%***. On an even 17-hour day, three hours ≈ ***17.6%***; 30% is approx.***1.7×*** even. Observed values are ***~27–36%***, with several at/above 30% (e.g., ***35.8%, 32.0%, 31.7%, 30.9%, 31.2%, 31.6%, 30.5%***).\n",
    "5. ***HHI_norm*** (0 = flat across hours; 1 = all demand in one hour) Values are low (***~0.02–0.04***) → meaningful peaks, but not extreme."
   ]
  },
  {
   "cell_type": "markdown",
   "id": "9fcb435d-ca7c-4923-83fe-ef483be0c35a",
   "metadata": {},
   "source": [
    "#### Candidate stations"
   ]
  },
  {
   "cell_type": "code",
   "execution_count": 15,
   "id": "5956fdf8-03b6-4a86-96a4-7099f9f74cbe",
   "metadata": {},
   "outputs": [
    {
     "data": {
      "text/html": [
       "<div>\n",
       "<style scoped>\n",
       "    .dataframe tbody tr th:only-of-type {\n",
       "        vertical-align: middle;\n",
       "    }\n",
       "\n",
       "    .dataframe tbody tr th {\n",
       "        vertical-align: top;\n",
       "    }\n",
       "\n",
       "    .dataframe thead th {\n",
       "        text-align: right;\n",
       "    }\n",
       "</style>\n",
       "<table border=\"1\" class=\"dataframe\">\n",
       "  <thead>\n",
       "    <tr style=\"text-align: right;\">\n",
       "      <th></th>\n",
       "      <th>station_name</th>\n",
       "      <th>total_trips</th>\n",
       "      <th>peak_hour</th>\n",
       "      <th>peak_share</th>\n",
       "      <th>top3_share</th>\n",
       "      <th>span50_hours</th>\n",
       "      <th>hhi_norm</th>\n",
       "      <th>suggestion</th>\n",
       "    </tr>\n",
       "  </thead>\n",
       "  <tbody>\n",
       "    <tr>\n",
       "      <th>20</th>\n",
       "      <td>North Moore St &amp; Greenwich St</td>\n",
       "      <td>115933</td>\n",
       "      <td>17</td>\n",
       "      <td>0.148</td>\n",
       "      <td>0.358</td>\n",
       "      <td>5</td>\n",
       "      <td>0.035</td>\n",
       "      <td>consider docks nearby</td>\n",
       "    </tr>\n",
       "    <tr>\n",
       "      <th>13</th>\n",
       "      <td>Vesey Pl &amp; River Terrace</td>\n",
       "      <td>124450</td>\n",
       "      <td>17</td>\n",
       "      <td>0.121</td>\n",
       "      <td>0.317</td>\n",
       "      <td>6</td>\n",
       "      <td>0.028</td>\n",
       "      <td>consider docks nearby</td>\n",
       "    </tr>\n",
       "    <tr>\n",
       "      <th>4</th>\n",
       "      <td>West St &amp; Chambers St</td>\n",
       "      <td>242857</td>\n",
       "      <td>18</td>\n",
       "      <td>0.120</td>\n",
       "      <td>0.320</td>\n",
       "      <td>6</td>\n",
       "      <td>0.029</td>\n",
       "      <td>consider docks nearby</td>\n",
       "    </tr>\n",
       "    <tr>\n",
       "      <th>19</th>\n",
       "      <td>W 15 St &amp; 10 Ave</td>\n",
       "      <td>69650</td>\n",
       "      <td>17</td>\n",
       "      <td>0.113</td>\n",
       "      <td>0.309</td>\n",
       "      <td>6</td>\n",
       "      <td>0.031</td>\n",
       "      <td>prioritize valet/flex ops at peak</td>\n",
       "    </tr>\n",
       "    <tr>\n",
       "      <th>38</th>\n",
       "      <td>1 Ave &amp; E 44 St</td>\n",
       "      <td>61150</td>\n",
       "      <td>9</td>\n",
       "      <td>0.109</td>\n",
       "      <td>0.312</td>\n",
       "      <td>6</td>\n",
       "      <td>0.027</td>\n",
       "      <td>prioritize valet/flex ops at peak</td>\n",
       "    </tr>\n",
       "    <tr>\n",
       "      <th>36</th>\n",
       "      <td>5 Ave &amp; E 87 St</td>\n",
       "      <td>107822</td>\n",
       "      <td>15</td>\n",
       "      <td>0.108</td>\n",
       "      <td>0.316</td>\n",
       "      <td>5</td>\n",
       "      <td>0.038</td>\n",
       "      <td>prioritize valet/flex ops at peak</td>\n",
       "    </tr>\n",
       "    <tr>\n",
       "      <th>2</th>\n",
       "      <td>10 Ave &amp; W 14 St</td>\n",
       "      <td>146098</td>\n",
       "      <td>17</td>\n",
       "      <td>0.105</td>\n",
       "      <td>0.305</td>\n",
       "      <td>6</td>\n",
       "      <td>0.031</td>\n",
       "      <td>prioritize valet/flex ops at peak</td>\n",
       "    </tr>\n",
       "  </tbody>\n",
       "</table>\n",
       "</div>"
      ],
      "text/plain": [
       "                     station_name  total_trips  peak_hour  peak_share  \\\n",
       "20  North Moore St & Greenwich St       115933         17       0.148   \n",
       "13       Vesey Pl & River Terrace       124450         17       0.121   \n",
       "4           West St & Chambers St       242857         18       0.120   \n",
       "19               W 15 St & 10 Ave        69650         17       0.113   \n",
       "38                1 Ave & E 44 St        61150          9       0.109   \n",
       "36                5 Ave & E 87 St       107822         15       0.108   \n",
       "2                10 Ave & W 14 St       146098         17       0.105   \n",
       "\n",
       "    top3_share  span50_hours  hhi_norm                         suggestion  \n",
       "20       0.358             5     0.035              consider docks nearby  \n",
       "13       0.317             6     0.028              consider docks nearby  \n",
       "4        0.320             6     0.029              consider docks nearby  \n",
       "19       0.309             6     0.031  prioritize valet/flex ops at peak  \n",
       "38       0.312             6     0.027  prioritize valet/flex ops at peak  \n",
       "36       0.316             5     0.038  prioritize valet/flex ops at peak  \n",
       "2        0.305             6     0.031  prioritize valet/flex ops at peak  "
      ]
     },
     "execution_count": 15,
     "metadata": {},
     "output_type": "execute_result"
    }
   ],
   "source": [
    "# Flag \"capacity candidates\"\n",
    "crit = (\n",
    "    (hotspot_hourly_summary[\"peak_share\"] >= 0.12) |\n",
    "    ((hotspot_hourly_summary[\"top3_share\"] >= 0.30) & (hotspot_hourly_summary[\"span50_hours\"] <= 6))\n",
    ")\n",
    "candidates = hotspot_hourly_summary.loc[crit].copy()\n",
    "candidates[\"suggestion\"] = np.where(\n",
    "    candidates[\"peak_share\"] >= 0.12, \"consider docks nearby\", \"prioritize valet/flex ops at peak\"\n",
    ")\n",
    "candidates.sort_values([\"peak_share\",\"top3_share\",\"total_trips\"], ascending=False).head(25)"
   ]
  },
  {
   "cell_type": "markdown",
   "id": "91edc6c6-43dd-49f3-9d73-d90e5478057e",
   "metadata": {},
   "source": [
    " ***Our candidate rule*** is :  Flag if ***peak_share ≥ 12%*** ***OR*** (***top3_share ≥ 30%*** ***AND*** ***span50 ≤ 6***). Our reasoning for both top3 & span50 conditions is: A 2–3-hour wave is meaningful only if the whole day is also tight (half the day’s trips in ≤6 hours). Using AND prevents false positives like “busy-but-spread” stations that have 3 moderately high hours yet still operate across many hours—better handled with ops, not new hardware.\n",
    " \n",
    " ***Result (as above): 7 stations flagged as candidates.*** These are:\n",
    " 1. North Moore St & Greenwich St\n",
    " 2. Vesey Pl & River Terrace\n",
    " 3. West St & Chambers St\n",
    " 4. W 15 St & 10 Ave\n",
    " 5. 1 Ave & E 44 St\n",
    " 6. 5 Ave & E 87 St\n",
    " 7. 10 Ave & W 14 St"
   ]
  },
  {
   "cell_type": "markdown",
   "id": "fdd6ef47-ee01-497f-9019-0d577022bf9d",
   "metadata": {},
   "source": [
    "#### Conclusion\n",
    "\n",
    "With a ***300 m definition*** and station-count supply, ***no additional waterfront stations are needed system-wide*** (demand ≈ supply).\n",
    "\n",
    "- System balance: Endpoint share (14.2%) ≈ station share (14.8%) → no system-wide waterfront shortfall.\n",
    "\n",
    "- Hotspots: Peak-hour shares ~10–15% (vs ~5.9% for a 17-hour “active day” baseline) and span50 = 5–7 hours → ***peaks are real but not extreme***\n",
    "\n",
    "- Concentration: 40 stations = ~50% of waterfront endpoints → focus efforts, don’t blanket-expand.\n",
    "\n",
    "***Recommendation***: Start with targeted pilot of 3-7 stations near the identified most time-concentrated waterfront hotspots. "
   ]
  },
  {
   "cell_type": "markdown",
   "id": "ab180cd4-0ce2-4a7e-8d60-d20273e274b4",
   "metadata": {},
   "source": [
    "### Visualizations"
   ]
  },
  {
   "cell_type": "code",
   "execution_count": 16,
   "id": "55740afd-c285-4af9-a866-1978b99692ba",
   "metadata": {},
   "outputs": [
    {
     "data": {
      "application/vnd.plotly.v1+json": {
       "config": {
        "plotlyServerURL": "https://plot.ly"
       },
       "data": [
        {
         "hovertemplate": "Share: %{x:.1%}<extra></extra>",
         "insidetextanchor": "middle",
         "marker": {
          "color": "#8B0000"
         },
         "name": "Top 10 stations",
         "orientation": "h",
         "text": [
          "Top 10 stations"
         ],
         "textfont": {
          "color": "white"
         },
         "textposition": "inside",
         "type": "bar",
         "x": [
          0.18009844320692062
         ],
         "y": [
          ""
         ]
        },
        {
         "hovertemplate": "Next 17 stations<br>Added share: %{x:.1%}<extra></extra>",
         "insidetextanchor": "middle",
         "marker": {
          "color": "#B22222"
         },
         "name": "Top 10% stations",
         "orientation": "h",
         "text": [
          "Top 10% stations"
         ],
         "textfont": {
          "color": "white"
         },
         "textposition": "inside",
         "type": "bar",
         "x": [
          0.20822182860924807
         ],
         "y": [
          ""
         ]
        },
        {
         "hovertemplate": "Next 13 stations<br>Added share: %{x:.1%}<extra></extra>",
         "insidetextanchor": "middle",
         "marker": {
          "color": "#DC6E6E"
         },
         "name": "Top 40 stations",
         "orientation": "h",
         "text": [
          "Top 40 stations"
         ],
         "textfont": {
          "color": "white"
         },
         "textposition": "inside",
         "type": "bar",
         "x": [
          0.11167972818383132
         ],
         "y": [
          ""
         ]
        },
        {
         "hoverinfo": "skip",
         "insidetextanchor": "middle",
         "marker": {
          "color": "#F4CACA"
         },
         "name": "Remaining 233 stations",
         "orientation": "h",
         "text": [
          "Remaining 233 stations"
         ],
         "textposition": "inside",
         "type": "bar",
         "x": [
          0.5
         ],
         "y": [
          ""
         ]
        }
       ],
       "layout": {
        "barmode": "stack",
        "height": 220,
        "margin": {
         "b": 40,
         "l": 30,
         "r": 20,
         "t": 50
        },
        "showlegend": false,
        "template": {
         "data": {
          "bar": [
           {
            "error_x": {
             "color": "#2a3f5f"
            },
            "error_y": {
             "color": "#2a3f5f"
            },
            "marker": {
             "line": {
              "color": "#E5ECF6",
              "width": 0.5
             },
             "pattern": {
              "fillmode": "overlay",
              "size": 10,
              "solidity": 0.2
             }
            },
            "type": "bar"
           }
          ],
          "barpolar": [
           {
            "marker": {
             "line": {
              "color": "#E5ECF6",
              "width": 0.5
             },
             "pattern": {
              "fillmode": "overlay",
              "size": 10,
              "solidity": 0.2
             }
            },
            "type": "barpolar"
           }
          ],
          "carpet": [
           {
            "aaxis": {
             "endlinecolor": "#2a3f5f",
             "gridcolor": "white",
             "linecolor": "white",
             "minorgridcolor": "white",
             "startlinecolor": "#2a3f5f"
            },
            "baxis": {
             "endlinecolor": "#2a3f5f",
             "gridcolor": "white",
             "linecolor": "white",
             "minorgridcolor": "white",
             "startlinecolor": "#2a3f5f"
            },
            "type": "carpet"
           }
          ],
          "choropleth": [
           {
            "colorbar": {
             "outlinewidth": 0,
             "ticks": ""
            },
            "type": "choropleth"
           }
          ],
          "contour": [
           {
            "colorbar": {
             "outlinewidth": 0,
             "ticks": ""
            },
            "colorscale": [
             [
              0,
              "#0d0887"
             ],
             [
              0.1111111111111111,
              "#46039f"
             ],
             [
              0.2222222222222222,
              "#7201a8"
             ],
             [
              0.3333333333333333,
              "#9c179e"
             ],
             [
              0.4444444444444444,
              "#bd3786"
             ],
             [
              0.5555555555555556,
              "#d8576b"
             ],
             [
              0.6666666666666666,
              "#ed7953"
             ],
             [
              0.7777777777777778,
              "#fb9f3a"
             ],
             [
              0.8888888888888888,
              "#fdca26"
             ],
             [
              1,
              "#f0f921"
             ]
            ],
            "type": "contour"
           }
          ],
          "contourcarpet": [
           {
            "colorbar": {
             "outlinewidth": 0,
             "ticks": ""
            },
            "type": "contourcarpet"
           }
          ],
          "heatmap": [
           {
            "colorbar": {
             "outlinewidth": 0,
             "ticks": ""
            },
            "colorscale": [
             [
              0,
              "#0d0887"
             ],
             [
              0.1111111111111111,
              "#46039f"
             ],
             [
              0.2222222222222222,
              "#7201a8"
             ],
             [
              0.3333333333333333,
              "#9c179e"
             ],
             [
              0.4444444444444444,
              "#bd3786"
             ],
             [
              0.5555555555555556,
              "#d8576b"
             ],
             [
              0.6666666666666666,
              "#ed7953"
             ],
             [
              0.7777777777777778,
              "#fb9f3a"
             ],
             [
              0.8888888888888888,
              "#fdca26"
             ],
             [
              1,
              "#f0f921"
             ]
            ],
            "type": "heatmap"
           }
          ],
          "histogram": [
           {
            "marker": {
             "pattern": {
              "fillmode": "overlay",
              "size": 10,
              "solidity": 0.2
             }
            },
            "type": "histogram"
           }
          ],
          "histogram2d": [
           {
            "colorbar": {
             "outlinewidth": 0,
             "ticks": ""
            },
            "colorscale": [
             [
              0,
              "#0d0887"
             ],
             [
              0.1111111111111111,
              "#46039f"
             ],
             [
              0.2222222222222222,
              "#7201a8"
             ],
             [
              0.3333333333333333,
              "#9c179e"
             ],
             [
              0.4444444444444444,
              "#bd3786"
             ],
             [
              0.5555555555555556,
              "#d8576b"
             ],
             [
              0.6666666666666666,
              "#ed7953"
             ],
             [
              0.7777777777777778,
              "#fb9f3a"
             ],
             [
              0.8888888888888888,
              "#fdca26"
             ],
             [
              1,
              "#f0f921"
             ]
            ],
            "type": "histogram2d"
           }
          ],
          "histogram2dcontour": [
           {
            "colorbar": {
             "outlinewidth": 0,
             "ticks": ""
            },
            "colorscale": [
             [
              0,
              "#0d0887"
             ],
             [
              0.1111111111111111,
              "#46039f"
             ],
             [
              0.2222222222222222,
              "#7201a8"
             ],
             [
              0.3333333333333333,
              "#9c179e"
             ],
             [
              0.4444444444444444,
              "#bd3786"
             ],
             [
              0.5555555555555556,
              "#d8576b"
             ],
             [
              0.6666666666666666,
              "#ed7953"
             ],
             [
              0.7777777777777778,
              "#fb9f3a"
             ],
             [
              0.8888888888888888,
              "#fdca26"
             ],
             [
              1,
              "#f0f921"
             ]
            ],
            "type": "histogram2dcontour"
           }
          ],
          "mesh3d": [
           {
            "colorbar": {
             "outlinewidth": 0,
             "ticks": ""
            },
            "type": "mesh3d"
           }
          ],
          "parcoords": [
           {
            "line": {
             "colorbar": {
              "outlinewidth": 0,
              "ticks": ""
             }
            },
            "type": "parcoords"
           }
          ],
          "pie": [
           {
            "automargin": true,
            "type": "pie"
           }
          ],
          "scatter": [
           {
            "fillpattern": {
             "fillmode": "overlay",
             "size": 10,
             "solidity": 0.2
            },
            "type": "scatter"
           }
          ],
          "scatter3d": [
           {
            "line": {
             "colorbar": {
              "outlinewidth": 0,
              "ticks": ""
             }
            },
            "marker": {
             "colorbar": {
              "outlinewidth": 0,
              "ticks": ""
             }
            },
            "type": "scatter3d"
           }
          ],
          "scattercarpet": [
           {
            "marker": {
             "colorbar": {
              "outlinewidth": 0,
              "ticks": ""
             }
            },
            "type": "scattercarpet"
           }
          ],
          "scattergeo": [
           {
            "marker": {
             "colorbar": {
              "outlinewidth": 0,
              "ticks": ""
             }
            },
            "type": "scattergeo"
           }
          ],
          "scattergl": [
           {
            "marker": {
             "colorbar": {
              "outlinewidth": 0,
              "ticks": ""
             }
            },
            "type": "scattergl"
           }
          ],
          "scattermap": [
           {
            "marker": {
             "colorbar": {
              "outlinewidth": 0,
              "ticks": ""
             }
            },
            "type": "scattermap"
           }
          ],
          "scattermapbox": [
           {
            "marker": {
             "colorbar": {
              "outlinewidth": 0,
              "ticks": ""
             }
            },
            "type": "scattermapbox"
           }
          ],
          "scatterpolar": [
           {
            "marker": {
             "colorbar": {
              "outlinewidth": 0,
              "ticks": ""
             }
            },
            "type": "scatterpolar"
           }
          ],
          "scatterpolargl": [
           {
            "marker": {
             "colorbar": {
              "outlinewidth": 0,
              "ticks": ""
             }
            },
            "type": "scatterpolargl"
           }
          ],
          "scatterternary": [
           {
            "marker": {
             "colorbar": {
              "outlinewidth": 0,
              "ticks": ""
             }
            },
            "type": "scatterternary"
           }
          ],
          "surface": [
           {
            "colorbar": {
             "outlinewidth": 0,
             "ticks": ""
            },
            "colorscale": [
             [
              0,
              "#0d0887"
             ],
             [
              0.1111111111111111,
              "#46039f"
             ],
             [
              0.2222222222222222,
              "#7201a8"
             ],
             [
              0.3333333333333333,
              "#9c179e"
             ],
             [
              0.4444444444444444,
              "#bd3786"
             ],
             [
              0.5555555555555556,
              "#d8576b"
             ],
             [
              0.6666666666666666,
              "#ed7953"
             ],
             [
              0.7777777777777778,
              "#fb9f3a"
             ],
             [
              0.8888888888888888,
              "#fdca26"
             ],
             [
              1,
              "#f0f921"
             ]
            ],
            "type": "surface"
           }
          ],
          "table": [
           {
            "cells": {
             "fill": {
              "color": "#EBF0F8"
             },
             "line": {
              "color": "white"
             }
            },
            "header": {
             "fill": {
              "color": "#C8D4E3"
             },
             "line": {
              "color": "white"
             }
            },
            "type": "table"
           }
          ]
         },
         "layout": {
          "annotationdefaults": {
           "arrowcolor": "#2a3f5f",
           "arrowhead": 0,
           "arrowwidth": 1
          },
          "autotypenumbers": "strict",
          "coloraxis": {
           "colorbar": {
            "outlinewidth": 0,
            "ticks": ""
           }
          },
          "colorscale": {
           "diverging": [
            [
             0,
             "#8e0152"
            ],
            [
             0.1,
             "#c51b7d"
            ],
            [
             0.2,
             "#de77ae"
            ],
            [
             0.3,
             "#f1b6da"
            ],
            [
             0.4,
             "#fde0ef"
            ],
            [
             0.5,
             "#f7f7f7"
            ],
            [
             0.6,
             "#e6f5d0"
            ],
            [
             0.7,
             "#b8e186"
            ],
            [
             0.8,
             "#7fbc41"
            ],
            [
             0.9,
             "#4d9221"
            ],
            [
             1,
             "#276419"
            ]
           ],
           "sequential": [
            [
             0,
             "#0d0887"
            ],
            [
             0.1111111111111111,
             "#46039f"
            ],
            [
             0.2222222222222222,
             "#7201a8"
            ],
            [
             0.3333333333333333,
             "#9c179e"
            ],
            [
             0.4444444444444444,
             "#bd3786"
            ],
            [
             0.5555555555555556,
             "#d8576b"
            ],
            [
             0.6666666666666666,
             "#ed7953"
            ],
            [
             0.7777777777777778,
             "#fb9f3a"
            ],
            [
             0.8888888888888888,
             "#fdca26"
            ],
            [
             1,
             "#f0f921"
            ]
           ],
           "sequentialminus": [
            [
             0,
             "#0d0887"
            ],
            [
             0.1111111111111111,
             "#46039f"
            ],
            [
             0.2222222222222222,
             "#7201a8"
            ],
            [
             0.3333333333333333,
             "#9c179e"
            ],
            [
             0.4444444444444444,
             "#bd3786"
            ],
            [
             0.5555555555555556,
             "#d8576b"
            ],
            [
             0.6666666666666666,
             "#ed7953"
            ],
            [
             0.7777777777777778,
             "#fb9f3a"
            ],
            [
             0.8888888888888888,
             "#fdca26"
            ],
            [
             1,
             "#f0f921"
            ]
           ]
          },
          "colorway": [
           "#636efa",
           "#EF553B",
           "#00cc96",
           "#ab63fa",
           "#FFA15A",
           "#19d3f3",
           "#FF6692",
           "#B6E880",
           "#FF97FF",
           "#FECB52"
          ],
          "font": {
           "color": "#2a3f5f"
          },
          "geo": {
           "bgcolor": "white",
           "lakecolor": "white",
           "landcolor": "#E5ECF6",
           "showlakes": true,
           "showland": true,
           "subunitcolor": "white"
          },
          "hoverlabel": {
           "align": "left"
          },
          "hovermode": "closest",
          "mapbox": {
           "style": "light"
          },
          "paper_bgcolor": "white",
          "plot_bgcolor": "#E5ECF6",
          "polar": {
           "angularaxis": {
            "gridcolor": "white",
            "linecolor": "white",
            "ticks": ""
           },
           "bgcolor": "#E5ECF6",
           "radialaxis": {
            "gridcolor": "white",
            "linecolor": "white",
            "ticks": ""
           }
          },
          "scene": {
           "xaxis": {
            "backgroundcolor": "#E5ECF6",
            "gridcolor": "white",
            "gridwidth": 2,
            "linecolor": "white",
            "showbackground": true,
            "ticks": "",
            "zerolinecolor": "white"
           },
           "yaxis": {
            "backgroundcolor": "#E5ECF6",
            "gridcolor": "white",
            "gridwidth": 2,
            "linecolor": "white",
            "showbackground": true,
            "ticks": "",
            "zerolinecolor": "white"
           },
           "zaxis": {
            "backgroundcolor": "#E5ECF6",
            "gridcolor": "white",
            "gridwidth": 2,
            "linecolor": "white",
            "showbackground": true,
            "ticks": "",
            "zerolinecolor": "white"
           }
          },
          "shapedefaults": {
           "line": {
            "color": "#2a3f5f"
           }
          },
          "ternary": {
           "aaxis": {
            "gridcolor": "white",
            "linecolor": "white",
            "ticks": ""
           },
           "baxis": {
            "gridcolor": "white",
            "linecolor": "white",
            "ticks": ""
           },
           "bgcolor": "#E5ECF6",
           "caxis": {
            "gridcolor": "white",
            "linecolor": "white",
            "ticks": ""
           }
          },
          "title": {
           "x": 0.05
          },
          "xaxis": {
           "automargin": true,
           "gridcolor": "white",
           "linecolor": "white",
           "ticks": "",
           "title": {
            "standoff": 15
           },
           "zerolinecolor": "white",
           "zerolinewidth": 2
          },
          "yaxis": {
           "automargin": true,
           "gridcolor": "white",
           "linecolor": "white",
           "ticks": "",
           "title": {
            "standoff": 15
           },
           "zerolinecolor": "white",
           "zerolinewidth": 2
          }
         }
        },
        "title": {
         "text": "Distribution of Endpoints among Waterfront Stations"
        },
        "xaxis": {
         "range": [
          0,
          1
         ],
         "tickformat": ".0%",
         "tickmode": "array",
         "ticktext": [
          "0%",
          "50%",
          "100%"
         ],
         "tickvals": [
          0,
          0.5,
          1
         ],
         "title": {}
        },
        "yaxis": {
         "showticklabels": false,
         "title": {}
        }
       }
      },
      "image/png": "[encoded data removed]"
     },
     "metadata": {},
     "output_type": "display_data"
    }
   ],
   "source": [
    "import plotly.graph_objects as go\n",
    "\n",
    "# --- Build buckets from your dataframe ---\n",
    "wf = wf_counts.sort_values(\"endpoints\", ascending=False).reset_index(drop=True)\n",
    "wf[\"cum_share\"] = wf[\"share_of_water_endpoints\"].cumsum()\n",
    "\n",
    "total_stations   = len(wf)\n",
    "top10_share      = wf[\"share_of_water_endpoints\"].head(10).sum()\n",
    "top10pct_n       = max(1, int(round(0.10 * total_stations)))\n",
    "top10pct_share   = wf[\"share_of_water_endpoints\"].head(top10pct_n).sum()\n",
    "hotspots_n       = int((wf[\"cum_share\"] <= 0.50).sum())  # e.g., 40\n",
    "\n",
    "# Segment widths (sum to 1.0)\n",
    "seg1 = top10_share                                      # Top 10\n",
    "seg2 = max(0.0, top10pct_share - top10_share)           # to Top 10%\n",
    "seg3 = max(0.0, 0.50 - top10pct_share)                  # to 50%\n",
    "seg4 = 0.50                                             # remaining half\n",
    "\n",
    "counts = {\n",
    "    \"seg1\": 10,\n",
    "    \"seg2\": max(0, top10pct_n - 10),\n",
    "    \"seg3\": max(0, hotspots_n - top10pct_n),\n",
    "    \"seg4\": max(0, total_stations - hotspots_n),\n",
    "}\n",
    "\n",
    "fig = go.Figure()\n",
    "\n",
    "# Seg1 — label text on bar; hover shows only % share\n",
    "fig.add_bar(\n",
    "    name=\"Top 10 stations\",\n",
    "    x=[seg1], y=[\"\"],\n",
    "    orientation=\"h\",\n",
    "    marker_color=\"#8B0000\",\n",
    "    text=[\"Top 10 stations\"], textposition=\"inside\", insidetextanchor=\"middle\",\n",
    "    textfont_color=\"white\",\n",
    "    hovertemplate=\"Share: %{x:.1%}<extra></extra>\"\n",
    ")\n",
    "\n",
    "# Seg2 — label text; hover shows added share\n",
    "fig.add_bar(\n",
    "    name=\"Top 10% stations\",\n",
    "    x=[seg2], y=[\"\"],\n",
    "    orientation=\"h\",\n",
    "    marker_color=\"#B22222\",\n",
    "    text=[\"Top 10% stations\"], textposition=\"inside\", insidetextanchor=\"middle\",\n",
    "    textfont_color=\"white\",\n",
    "    hovertemplate=\"Next \" + str(counts['seg2']) + \" stations<br>Added share: %{x:.1%}<extra></extra>\"\n",
    ")\n",
    "\n",
    "# Seg3 — label text with concrete count (Top 40); hover shows added share\n",
    "fig.add_bar(\n",
    "    name=f\"Top {hotspots_n} stations\",\n",
    "    x=[seg3], y=[\"\"],\n",
    "    orientation=\"h\",\n",
    "    marker_color=\"#DC6E6E\",\n",
    "    text=[f\"Top {hotspots_n} stations\"], textposition=\"inside\", insidetextanchor=\"middle\",\n",
    "    textfont_color=\"white\",\n",
    "    hovertemplate=\"Next \" + str(counts['seg3']) + \" stations<br>Added share: %{x:.1%}<extra></extra>\"\n",
    ")\n",
    "\n",
    "# Seg4 — label text; no hover\n",
    "fig.add_bar(\n",
    "    name=f\"Remaining {counts['seg4']} stations\",\n",
    "    x=[seg4], y=[\"\"],\n",
    "    orientation=\"h\",\n",
    "    marker_color=\"#F4CACA\",\n",
    "    text=[f\"Remaining {counts['seg4']} stations\"], textposition=\"inside\", insidetextanchor=\"middle\",\n",
    "    hoverinfo=\"skip\"\n",
    ")\n",
    "\n",
    "fig.update_layout(\n",
    "    barmode=\"stack\",\n",
    "    height=220,\n",
    "    margin=dict(l=30, r=20, t=50, b=40),\n",
    "    title=\"Distribution of Endpoints among Waterfront Stations\",\n",
    "    showlegend=False,                     # no legend\n",
    "    xaxis=dict(\n",
    "        range=[0, 1],\n",
    "        tickformat=\".0%\",\n",
    "        tickmode=\"array\",                 # keep simple ticks + add 50%\n",
    "        tickvals=[0, 0.5, 1.0],\n",
    "        ticktext=[\"0%\", \"50%\", \"100%\"],\n",
    "        title=None\n",
    "    ),\n",
    "    yaxis=dict(showticklabels=False, title=None)\n",
    ")\n",
    "\n",
    "fig.write_html(r\"C:\\Users\\magia\\OneDrive\\Desktop\\NY_Citi_Bike\\4.Visualizations\\waterfront_concentration.html\")\n",
    "\n",
    "fig.show()"
   ]
  },
  {
   "cell_type": "code",
   "execution_count": 17,
   "id": "49b7ed1d-ae24-4fc8-b1f4-13e5c2e70078",
   "metadata": {},
   "outputs": [
    {
     "data": {
      "application/vnd.plotly.v1+json": {
       "config": {
        "plotlyServerURL": "https://plot.ly"
       },
       "data": [
        {
         "customdata": [
          [
           "North Moore St & Greenwich St",
           17,
           5,
           115933
          ],
          [
           "Vesey Pl & River Terrace",
           17,
           6,
           124450
          ],
          [
           "West St & Chambers St",
           18,
           6,
           242857
          ],
          [
           "W 15 St & 10 Ave",
           17,
           6,
           69650
          ],
          [
           "1 Ave & E 44 St",
           9,
           6,
           61150
          ],
          [
           "5 Ave & E 87 St",
           15,
           5,
           107822
          ],
          [
           "10 Ave & W 14 St",
           17,
           6,
           146098
          ]
         ],
         "hovertemplate": "<b>%{customdata[0]}</b><br>Peak hr: %{customdata[1]}:00<br>Peak share: %{y:.1%}<br>Top-3 share: %{x:.1%}<br>span50: %{customdata[2]} hrs<br>Trips: %{customdata[3]:,}<extra></extra>",
         "marker": {
          "color": "#B22222",
          "line": {
           "color": "#333",
           "width": {
            "bdata": "AAAAAAAABEAAAAAAAADwPwAAAAAAAARAAAAAAAAA8D8AAAAAAADwPwAAAAAAAPA/AAAAAAAABEA=",
            "dtype": "f8"
           }
          },
          "opacity": 0.95,
          "size": {
           "bdata": "k8za4pi7KkC9gkhsXLIsQAAAAAAAADxAqdyennsPIEAAAAAAAAAgQLz1ksHM3ChAKicSwyDYMEA=",
           "dtype": "f8"
          }
         },
         "mode": "markers",
         "name": "Candidate",
         "type": "scatter",
         "x": {
          "bdata": "tvP91Hjp1j99PzVeuknUP3sUrkfhetQ/LbKd76fG0z8rhxbZzvfTP9NNYhBYOdQ/hetRuB6F0z8=",
          "dtype": "f8"
         },
         "y": {
          "bdata": "i2zn+6nxwj9g5dAi2/m+P7gehetRuL4/IbByaJHtvD+BlUOLbOe7P9nO91Pjpbs/4XoUrkfhuj8=",
          "dtype": "f8"
         }
        },
        {
         "customdata": [
          [
           "E 25 St & 1 Ave",
           8,
           7,
           74600
          ],
          [
           "West St & Liberty St",
           17,
           6,
           172193
          ],
          [
           "11 Ave & W 27 St",
           17,
           7,
           114843
          ],
          [
           "Riverside Blvd & W 67 St",
           18,
           6,
           100467
          ],
          [
           "Milton St & Franklin St",
           18,
           7,
           81200
          ],
          [
           "5 Ave & E 93 St",
           15,
           6,
           72222
          ],
          [
           "Vernon Blvd & 50 Ave",
           18,
           7,
           62648
          ],
          [
           "Kent Ave & N 7 St",
           18,
           7,
           119708
          ],
          [
           "W 34 St & 11 Ave",
           17,
           7,
           103000
          ],
          [
           "Wythe Ave & Metropolitan Ave",
           18,
           7,
           131949
          ],
          [
           "W 64 St & Thelonious Monk Circle",
           17,
           7,
           86696
          ],
          [
           "E 20 St & FDR Dr",
           18,
           7,
           93193
          ],
          [
           "West Thames St",
           17,
           7,
           84428
          ],
          [
           "Riverside Dr & W 72 St",
           18,
           6,
           80689
          ],
          [
           "Atlantic Ave & Furman St",
           17,
           7,
           67011
          ],
          [
           "E 54 St & 1 Ave",
           18,
           7,
           63864
          ],
          [
           "Franklin St & Dupont St",
           18,
           7,
           66937
          ],
          [
           "Central Park West & W 85 St",
           17,
           6,
           102006
          ],
          [
           "E 51 St & 1 Ave",
           18,
           8,
           62289
          ],
          [
           "W 16 St & The High Line",
           18,
           7,
           114502
          ],
          [
           "S 4 St & Wythe Ave",
           18,
           7,
           114400
          ],
          [
           "Bank St & Washington St",
           17,
           7,
           66220
          ],
          [
           "W 44 St & 11 Ave",
           18,
           7,
           124751
          ],
          [
           "E 72 St & York Ave",
           8,
           7,
           110581
          ],
          [
           "1 Ave & E 39 St",
           18,
           7,
           103937
          ],
          [
           "Greenwich St & W Houston St",
           17,
           7,
           96916
          ],
          [
           "Little West St & 1 Pl",
           17,
           7,
           92591
          ],
          [
           "Pier 40 - Hudson River Park",
           18,
           7,
           127209
          ],
          [
           "Central Park W & W 91 St",
           17,
           7,
           97079
          ],
          [
           "Washington St & Gansevoort St",
           17,
           7,
           129189
          ],
          [
           "W 46 St & 11 Ave",
           17,
           7,
           62362
          ],
          [
           "1 Ave & E 30 St",
           8,
           7,
           90841
          ],
          [
           "E 33 St & 1 Ave",
           17,
           8,
           180053
          ]
         ],
         "hovertemplate": "<b>%{customdata[0]}</b><br>Peak hr: %{customdata[1]}:00<br>Peak share: %{y:.1%}<br>Top-3 share: %{x:.1%}<br>span50: %{customdata[2]} hrs<br>Trips: %{customdata[3]:,}<extra></extra>",
         "marker": {
          "color": "#CFCFCF",
          "line": {
           "color": "#333",
           "width": {
            "bdata": "AAAAAAAA8D8AAAAAAADwPwAAAAAAAPA/AAAAAAAA8D8AAAAAAADwPwAAAAAAAPA/AAAAAAAA8D8AAAAAAAAEQAAAAAAAAPA/AAAAAAAABEAAAAAAAAAEQAAAAAAAAPA/AAAAAAAA8D8AAAAAAADwPwAAAAAAAARAAAAAAAAA8D8AAAAAAAAEQAAAAAAAAPA/AAAAAAAABEAAAAAAAADwPwAAAAAAAPA/AAAAAAAABEAAAAAAAADwPwAAAAAAAPA/AAAAAAAABEAAAAAAAADwPwAAAAAAAPA/AAAAAAAA8D8AAAAAAADwPwAAAAAAAPA/AAAAAAAA8D8AAAAAAAAEQAAAAAAAAPA/",
            "dtype": "f8"
           }
          },
          "opacity": 0.75,
          "size": {
           "bdata": "5eXRBLozJ0AVqGHnFsc6QM2sQBD12zFArgNUdkg/L0CYTEepOUEpQPEGNk1jdiZA1LMtsBh8I0Bu9iSnop0yQHL+NkV7BDBAqJGEqPSENECTPX5/0vYqQM8lo7Ee/CxAIu196D1CKkDjuN/1iRgpQL4175x71yRAWyodY+rcI0CisNVFl9EkQLIVy9zRuS9A8A4kM4NfI0C1XBzEYc4xQA16+TtSyjFAAiDNrYCYJEBsnsNTZmYzQO1x/fBIMjFARtXWscgpMECox5WDjCQuQHLBayQwzCxA6Hs+AUHIM0Afq2nwhjEuQIJ+tiYUFzRA5toyKFNlI0DDFB7v2UAsQAAAAAAAADxA",
           "dtype": "f8"
          }
         },
         "mode": "markers",
         "name": "Not candidate",
         "type": "scatter",
         "x": {
          "bdata": "BFYOLbKdzz8730+Nl27SP5MYBFYOLdI/5/up8dJN0j/wp8ZLN4nRPzeJQWDl0NI/QmDl0CLb0T/ufD81XrrRP5ZDi2zn+9E/7nw/NV660T+e76fGSzfRP57vp8ZLN9E/okW28/3U0D9CYOXQItvRP/LSTWIQWNE/SgwCK4cW0T9MN4lBYOXQP+58PzVeutE/pHA9Ctej0D/6fmq8dJPQP6rx0k1iENA/UI2XbhKD0D/8qfHSTWLQP6jGSzeJQdA/qMZLN4lB0D8AAAAAAADQP/p+arx0k9A/UI2XbhKD0D9QjZduEoPQP1K4HoXrUdA/vHSTGARWzj9t5/up8dLNP3E9CtejcM0/",
          "dtype": "f8"
         },
         "y": {
          "bdata": "MQisHFpkuz/hehSuR+G6P5HtfD81Xro/ke18PzVeuj+R7Xw/NV66P5HtfD81Xro/ke18PzVeuj/pJjEIrBy6P0Jg5dAi27k/mpmZmZmZuT/y0k1iEFi5P0oMAiuHFrk/SgwCK4cWuT+iRbbz/dS4P6JFtvP91Lg/okW28/3UuD/6fmq8dJO4P1K4HoXrUbg/qvHSTWIQuD8CK4cW2c63PwIrhxbZzrc/AiuHFtnOtz9aZDvfT423P1pkO99Pjbc/sp3vp8ZLtz8K16NwPQq3PwrXo3A9Crc/YhBYObTItj9iEFg5tMi2P7pJDAIrh7Y/Gy/dJAaBtT9zaJHtfD+1P3sUrkfherQ/",
          "dtype": "f8"
         }
        }
       ],
       "layout": {
        "annotations": [
         {
          "align": "left",
          "font": {
           "color": "#555",
           "size": 11
          },
          "showarrow": false,
          "text": "Flag if peak share ≥ 12% OR (top-3 share ≥ 30% and span50 ≤ 6)",
          "x": 0.88,
          "xref": "paper",
          "y": 0.63,
          "yref": "paper"
         },
         {
          "align": "left",
          "font": {
           "color": "#333",
           "size": 11
          },
          "showarrow": false,
          "text": "<b>Legend</b><br><b>Peak hour</b> — single busiest hour of the day for a station<br><b>Peak share</b> — that peak hour's share of the station's daily trips<br><b>Top-3 share</b> — combined share of the three busiest hours<br><i>(if demand were even across ~17 \"active\" hours, three ≈ 17.6%)</i><br><b>span50</b> — fewest hours (starting from busiest) to reach 50% of trips",
          "x": 0.465,
          "xanchor": "left",
          "xref": "paper",
          "y": 0.255,
          "yanchor": "top",
          "yref": "paper"
         }
        ],
        "height": 560,
        "hoverlabel": {
         "bgcolor": "white"
        },
        "legend": {
         "orientation": "h",
         "x": 0,
         "y": 1.02,
         "yanchor": "bottom"
        },
        "margin": {
         "b": 60,
         "l": 60,
         "r": 20,
         "t": 70
        },
        "shapes": [
         {
          "line": {
           "color": "#888",
           "dash": "dash"
          },
          "type": "line",
          "x0": 0,
          "x1": 1,
          "xref": "x domain",
          "y0": 0.12,
          "y1": 0.12,
          "yref": "y"
         },
         {
          "line": {
           "color": "#888",
           "dash": "dash"
          },
          "type": "line",
          "x0": 0.3,
          "x1": 0.3,
          "xref": "x",
          "y0": 0,
          "y1": 1,
          "yref": "y domain"
         },
         {
          "fillcolor": "rgba(245,245,245,0.92)",
          "layer": "below",
          "line": {
           "color": "rgba(50,50,50,0.30)"
          },
          "type": "rect",
          "x0": 0.46,
          "x1": 0.995,
          "xref": "paper",
          "y0": 0.04,
          "y1": 0.26,
          "yref": "paper"
         }
        ],
        "template": {
         "data": {
          "bar": [
           {
            "error_x": {
             "color": "#2a3f5f"
            },
            "error_y": {
             "color": "#2a3f5f"
            },
            "marker": {
             "line": {
              "color": "#E5ECF6",
              "width": 0.5
             },
             "pattern": {
              "fillmode": "overlay",
              "size": 10,
              "solidity": 0.2
             }
            },
            "type": "bar"
           }
          ],
          "barpolar": [
           {
            "marker": {
             "line": {
              "color": "#E5ECF6",
              "width": 0.5
             },
             "pattern": {
              "fillmode": "overlay",
              "size": 10,
              "solidity": 0.2
             }
            },
            "type": "barpolar"
           }
          ],
          "carpet": [
           {
            "aaxis": {
             "endlinecolor": "#2a3f5f",
             "gridcolor": "white",
             "linecolor": "white",
             "minorgridcolor": "white",
             "startlinecolor": "#2a3f5f"
            },
            "baxis": {
             "endlinecolor": "#2a3f5f",
             "gridcolor": "white",
             "linecolor": "white",
             "minorgridcolor": "white",
             "startlinecolor": "#2a3f5f"
            },
            "type": "carpet"
           }
          ],
          "choropleth": [
           {
            "colorbar": {
             "outlinewidth": 0,
             "ticks": ""
            },
            "type": "choropleth"
           }
          ],
          "contour": [
           {
            "colorbar": {
             "outlinewidth": 0,
             "ticks": ""
            },
            "colorscale": [
             [
              0,
              "#0d0887"
             ],
             [
              0.1111111111111111,
              "#46039f"
             ],
             [
              0.2222222222222222,
              "#7201a8"
             ],
             [
              0.3333333333333333,
              "#9c179e"
             ],
             [
              0.4444444444444444,
              "#bd3786"
             ],
             [
              0.5555555555555556,
              "#d8576b"
             ],
             [
              0.6666666666666666,
              "#ed7953"
             ],
             [
              0.7777777777777778,
              "#fb9f3a"
             ],
             [
              0.8888888888888888,
              "#fdca26"
             ],
             [
              1,
              "#f0f921"
             ]
            ],
            "type": "contour"
           }
          ],
          "contourcarpet": [
           {
            "colorbar": {
             "outlinewidth": 0,
             "ticks": ""
            },
            "type": "contourcarpet"
           }
          ],
          "heatmap": [
           {
            "colorbar": {
             "outlinewidth": 0,
             "ticks": ""
            },
            "colorscale": [
             [
              0,
              "#0d0887"
             ],
             [
              0.1111111111111111,
              "#46039f"
             ],
             [
              0.2222222222222222,
              "#7201a8"
             ],
             [
              0.3333333333333333,
              "#9c179e"
             ],
             [
              0.4444444444444444,
              "#bd3786"
             ],
             [
              0.5555555555555556,
              "#d8576b"
             ],
             [
              0.6666666666666666,
              "#ed7953"
             ],
             [
              0.7777777777777778,
              "#fb9f3a"
             ],
             [
              0.8888888888888888,
              "#fdca26"
             ],
             [
              1,
              "#f0f921"
             ]
            ],
            "type": "heatmap"
           }
          ],
          "histogram": [
           {
            "marker": {
             "pattern": {
              "fillmode": "overlay",
              "size": 10,
              "solidity": 0.2
             }
            },
            "type": "histogram"
           }
          ],
          "histogram2d": [
           {
            "colorbar": {
             "outlinewidth": 0,
             "ticks": ""
            },
            "colorscale": [
             [
              0,
              "#0d0887"
             ],
             [
              0.1111111111111111,
              "#46039f"
             ],
             [
              0.2222222222222222,
              "#7201a8"
             ],
             [
              0.3333333333333333,
              "#9c179e"
             ],
             [
              0.4444444444444444,
              "#bd3786"
             ],
             [
              0.5555555555555556,
              "#d8576b"
             ],
             [
              0.6666666666666666,
              "#ed7953"
             ],
             [
              0.7777777777777778,
              "#fb9f3a"
             ],
             [
              0.8888888888888888,
              "#fdca26"
             ],
             [
              1,
              "#f0f921"
             ]
            ],
            "type": "histogram2d"
           }
          ],
          "histogram2dcontour": [
           {
            "colorbar": {
             "outlinewidth": 0,
             "ticks": ""
            },
            "colorscale": [
             [
              0,
              "#0d0887"
             ],
             [
              0.1111111111111111,
              "#46039f"
             ],
             [
              0.2222222222222222,
              "#7201a8"
             ],
             [
              0.3333333333333333,
              "#9c179e"
             ],
             [
              0.4444444444444444,
              "#bd3786"
             ],
             [
              0.5555555555555556,
              "#d8576b"
             ],
             [
              0.6666666666666666,
              "#ed7953"
             ],
             [
              0.7777777777777778,
              "#fb9f3a"
             ],
             [
              0.8888888888888888,
              "#fdca26"
             ],
             [
              1,
              "#f0f921"
             ]
            ],
            "type": "histogram2dcontour"
           }
          ],
          "mesh3d": [
           {
            "colorbar": {
             "outlinewidth": 0,
             "ticks": ""
            },
            "type": "mesh3d"
           }
          ],
          "parcoords": [
           {
            "line": {
             "colorbar": {
              "outlinewidth": 0,
              "ticks": ""
             }
            },
            "type": "parcoords"
           }
          ],
          "pie": [
           {
            "automargin": true,
            "type": "pie"
           }
          ],
          "scatter": [
           {
            "fillpattern": {
             "fillmode": "overlay",
             "size": 10,
             "solidity": 0.2
            },
            "type": "scatter"
           }
          ],
          "scatter3d": [
           {
            "line": {
             "colorbar": {
              "outlinewidth": 0,
              "ticks": ""
             }
            },
            "marker": {
             "colorbar": {
              "outlinewidth": 0,
              "ticks": ""
             }
            },
            "type": "scatter3d"
           }
          ],
          "scattercarpet": [
           {
            "marker": {
             "colorbar": {
              "outlinewidth": 0,
              "ticks": ""
             }
            },
            "type": "scattercarpet"
           }
          ],
          "scattergeo": [
           {
            "marker": {
             "colorbar": {
              "outlinewidth": 0,
              "ticks": ""
             }
            },
            "type": "scattergeo"
           }
          ],
          "scattergl": [
           {
            "marker": {
             "colorbar": {
              "outlinewidth": 0,
              "ticks": ""
             }
            },
            "type": "scattergl"
           }
          ],
          "scattermap": [
           {
            "marker": {
             "colorbar": {
              "outlinewidth": 0,
              "ticks": ""
             }
            },
            "type": "scattermap"
           }
          ],
          "scattermapbox": [
           {
            "marker": {
             "colorbar": {
              "outlinewidth": 0,
              "ticks": ""
             }
            },
            "type": "scattermapbox"
           }
          ],
          "scatterpolar": [
           {
            "marker": {
             "colorbar": {
              "outlinewidth": 0,
              "ticks": ""
             }
            },
            "type": "scatterpolar"
           }
          ],
          "scatterpolargl": [
           {
            "marker": {
             "colorbar": {
              "outlinewidth": 0,
              "ticks": ""
             }
            },
            "type": "scatterpolargl"
           }
          ],
          "scatterternary": [
           {
            "marker": {
             "colorbar": {
              "outlinewidth": 0,
              "ticks": ""
             }
            },
            "type": "scatterternary"
           }
          ],
          "surface": [
           {
            "colorbar": {
             "outlinewidth": 0,
             "ticks": ""
            },
            "colorscale": [
             [
              0,
              "#0d0887"
             ],
             [
              0.1111111111111111,
              "#46039f"
             ],
             [
              0.2222222222222222,
              "#7201a8"
             ],
             [
              0.3333333333333333,
              "#9c179e"
             ],
             [
              0.4444444444444444,
              "#bd3786"
             ],
             [
              0.5555555555555556,
              "#d8576b"
             ],
             [
              0.6666666666666666,
              "#ed7953"
             ],
             [
              0.7777777777777778,
              "#fb9f3a"
             ],
             [
              0.8888888888888888,
              "#fdca26"
             ],
             [
              1,
              "#f0f921"
             ]
            ],
            "type": "surface"
           }
          ],
          "table": [
           {
            "cells": {
             "fill": {
              "color": "#EBF0F8"
             },
             "line": {
              "color": "white"
             }
            },
            "header": {
             "fill": {
              "color": "#C8D4E3"
             },
             "line": {
              "color": "white"
             }
            },
            "type": "table"
           }
          ]
         },
         "layout": {
          "annotationdefaults": {
           "arrowcolor": "#2a3f5f",
           "arrowhead": 0,
           "arrowwidth": 1
          },
          "autotypenumbers": "strict",
          "coloraxis": {
           "colorbar": {
            "outlinewidth": 0,
            "ticks": ""
           }
          },
          "colorscale": {
           "diverging": [
            [
             0,
             "#8e0152"
            ],
            [
             0.1,
             "#c51b7d"
            ],
            [
             0.2,
             "#de77ae"
            ],
            [
             0.3,
             "#f1b6da"
            ],
            [
             0.4,
             "#fde0ef"
            ],
            [
             0.5,
             "#f7f7f7"
            ],
            [
             0.6,
             "#e6f5d0"
            ],
            [
             0.7,
             "#b8e186"
            ],
            [
             0.8,
             "#7fbc41"
            ],
            [
             0.9,
             "#4d9221"
            ],
            [
             1,
             "#276419"
            ]
           ],
           "sequential": [
            [
             0,
             "#0d0887"
            ],
            [
             0.1111111111111111,
             "#46039f"
            ],
            [
             0.2222222222222222,
             "#7201a8"
            ],
            [
             0.3333333333333333,
             "#9c179e"
            ],
            [
             0.4444444444444444,
             "#bd3786"
            ],
            [
             0.5555555555555556,
             "#d8576b"
            ],
            [
             0.6666666666666666,
             "#ed7953"
            ],
            [
             0.7777777777777778,
             "#fb9f3a"
            ],
            [
             0.8888888888888888,
             "#fdca26"
            ],
            [
             1,
             "#f0f921"
            ]
           ],
           "sequentialminus": [
            [
             0,
             "#0d0887"
            ],
            [
             0.1111111111111111,
             "#46039f"
            ],
            [
             0.2222222222222222,
             "#7201a8"
            ],
            [
             0.3333333333333333,
             "#9c179e"
            ],
            [
             0.4444444444444444,
             "#bd3786"
            ],
            [
             0.5555555555555556,
             "#d8576b"
            ],
            [
             0.6666666666666666,
             "#ed7953"
            ],
            [
             0.7777777777777778,
             "#fb9f3a"
            ],
            [
             0.8888888888888888,
             "#fdca26"
            ],
            [
             1,
             "#f0f921"
            ]
           ]
          },
          "colorway": [
           "#636efa",
           "#EF553B",
           "#00cc96",
           "#ab63fa",
           "#FFA15A",
           "#19d3f3",
           "#FF6692",
           "#B6E880",
           "#FF97FF",
           "#FECB52"
          ],
          "font": {
           "color": "#2a3f5f"
          },
          "geo": {
           "bgcolor": "white",
           "lakecolor": "white",
           "landcolor": "#E5ECF6",
           "showlakes": true,
           "showland": true,
           "subunitcolor": "white"
          },
          "hoverlabel": {
           "align": "left"
          },
          "hovermode": "closest",
          "mapbox": {
           "style": "light"
          },
          "paper_bgcolor": "white",
          "plot_bgcolor": "#E5ECF6",
          "polar": {
           "angularaxis": {
            "gridcolor": "white",
            "linecolor": "white",
            "ticks": ""
           },
           "bgcolor": "#E5ECF6",
           "radialaxis": {
            "gridcolor": "white",
            "linecolor": "white",
            "ticks": ""
           }
          },
          "scene": {
           "xaxis": {
            "backgroundcolor": "#E5ECF6",
            "gridcolor": "white",
            "gridwidth": 2,
            "linecolor": "white",
            "showbackground": true,
            "ticks": "",
            "zerolinecolor": "white"
           },
           "yaxis": {
            "backgroundcolor": "#E5ECF6",
            "gridcolor": "white",
            "gridwidth": 2,
            "linecolor": "white",
            "showbackground": true,
            "ticks": "",
            "zerolinecolor": "white"
           },
           "zaxis": {
            "backgroundcolor": "#E5ECF6",
            "gridcolor": "white",
            "gridwidth": 2,
            "linecolor": "white",
            "showbackground": true,
            "ticks": "",
            "zerolinecolor": "white"
           }
          },
          "shapedefaults": {
           "line": {
            "color": "#2a3f5f"
           }
          },
          "ternary": {
           "aaxis": {
            "gridcolor": "white",
            "linecolor": "white",
            "ticks": ""
           },
           "baxis": {
            "gridcolor": "white",
            "linecolor": "white",
            "ticks": ""
           },
           "bgcolor": "#E5ECF6",
           "caxis": {
            "gridcolor": "white",
            "linecolor": "white",
            "ticks": ""
           }
          },
          "title": {
           "x": 0.05
          },
          "xaxis": {
           "automargin": true,
           "gridcolor": "white",
           "linecolor": "white",
           "ticks": "",
           "title": {
            "standoff": 15
           },
           "zerolinecolor": "white",
           "zerolinewidth": 2
          },
          "yaxis": {
           "automargin": true,
           "gridcolor": "white",
           "linecolor": "white",
           "ticks": "",
           "title": {
            "standoff": 15
           },
           "zerolinecolor": "white",
           "zerolinewidth": 2
          }
         }
        },
        "title": {
         "text": "Waterfront Hotspots: Trip Timing and Expansion Candidates"
        },
        "xaxis": {
         "range": [
          0.22,
          0.5
         ],
         "tickformat": ".0%",
         "title": {
          "text": "Top-3 hours share"
         }
        },
        "yaxis": {
         "range": [
          0,
          0.2
         ],
         "tickformat": ".0%",
         "title": {
          "text": "Peak hour share"
         }
        }
       }
      },
      "image/png": "[encoded data removed]"
     },
     "metadata": {},
     "output_type": "display_data"
    }
   ],
   "source": [
    "import numpy as np, pandas as pd, plotly.graph_objects as go\n",
    "\n",
    "# --- Source data ---\n",
    "df = hotspot_hourly_summary.copy()\n",
    "\n",
    "# --- Candidate rule ---\n",
    "cand_mask = (df[\"peak_share\"] >= 0.12) | ((df[\"top3_share\"] >= 0.30) & (df[\"span50_hours\"] <= 6))\n",
    "df[\"is_candidate\"] = np.where(cand_mask, \"Candidate\", \"Not candidate\")\n",
    "line_w = np.where(df[\"span50_hours\"] <= 6, 2.5, 1.0)\n",
    "\n",
    "# --- Figure ---\n",
    "fig = go.Figure()\n",
    "for group, color in [(\"Candidate\", \"#B22222\"), (\"Not candidate\", \"#CFCFCF\")]:\n",
    "    sub = df[df[\"is_candidate\"] == group]\n",
    "    size = np.clip(sub[\"total_trips\"] / sub[\"total_trips\"].max() * 28, 8, 28)\n",
    "    fig.add_scatter(\n",
    "        x=sub[\"top3_share\"], y=sub[\"peak_share\"], mode=\"markers\",\n",
    "        marker=dict(size=size, color=color, line=dict(color=\"#333\", width=line_w[sub.index]),\n",
    "                    opacity=0.95 if group==\"Candidate\" else 0.75),\n",
    "        name=group,\n",
    "        hovertemplate=(\n",
    "            \"<b>%{customdata[0]}</b><br>\"\n",
    "            \"Peak hr: %{customdata[1]}:00<br>\"\n",
    "            \"Peak share: %{y:.1%}<br>\"\n",
    "            \"Top-3 share: %{x:.1%}<br>\"\n",
    "            \"span50: %{customdata[2]} hrs<br>\"\n",
    "            \"Trips: %{customdata[3]:,}<extra></extra>\"\n",
    "        ),\n",
    "        customdata=np.stack([sub[\"station_name\"], sub[\"peak_hour\"],\n",
    "                             sub[\"span50_hours\"], sub[\"total_trips\"]], axis=1)\n",
    "    )\n",
    "\n",
    "# Threshold rules\n",
    "fig.add_hline(y=0.12, line_dash=\"dash\", line_color=\"#888\")\n",
    "fig.add_vline(x=0.30, line_dash=\"dash\", line_color=\"#888\")\n",
    "\n",
    "# --- Stable axes so the \"center\" never jumps ---\n",
    "fig.update_layout(\n",
    "    title=\"Waterfront Hotspots: Trip Timing and Expansion Candidates\",\n",
    "    xaxis=dict(title=\"Top-3 hours share\", tickformat=\".0%\", range=[0.22, 0.50]),\n",
    "    yaxis=dict(title=\"Peak hour share\", tickformat=\".0%\", range=[0.00, 0.20]),\n",
    "    legend=dict(orientation=\"h\", yanchor=\"bottom\", y=1.02, x=0),\n",
    "    height=560, margin=dict(l=60, r=20, t=70, b=60),\n",
    "    hoverlabel=dict(bgcolor=\"white\")\n",
    ")\n",
    "\n",
    "# --- Rule note: positioned just above the 12% line and moved further right ---\n",
    "fig.add_annotation(\n",
    "    xref=\"paper\", yref=\"paper\", x=0.88, y=0.63, showarrow=False,\n",
    "    text=\"Flag if peak share ≥ 12% OR (top-3 share ≥ 30% and span50 ≤ 6)\",\n",
    "    font=dict(size=11, color=\"#555\"), align=\"left\"\n",
    ")\n",
    "\n",
    "# --- Legend box (even wider and more to the left) + text fully inside ---\n",
    "# box (bottom-right, expanded further)\n",
    "fig.add_shape(\n",
    "    type=\"rect\", xref=\"paper\", yref=\"paper\",\n",
    "    x0=0.46, x1=0.995, y0=0.04, y1=0.26,\n",
    "    line=dict(color=\"rgba(50,50,50,0.30)\"),\n",
    "    fillcolor=\"rgba(245,245,245,0.92)\",\n",
    "    layer=\"below\"\n",
    ")\n",
    "\n",
    "# text inside the box (top-left corner of the expanded box)\n",
    "fig.add_annotation(\n",
    "    xref=\"paper\", yref=\"paper\", x=0.465, y=0.255,\n",
    "    xanchor=\"left\", yanchor=\"top\", showarrow=False, align=\"left\",\n",
    "   text=(\n",
    "       \"<b>Legend</b><br>\" +\n",
    "       \"<b>Peak hour</b> — single busiest hour of the day for a station<br>\" +\n",
    "       \"<b>Peak share</b> — that peak hour's share of the station's daily trips<br>\" +\n",
    "       \"<b>Top-3 share</b> — combined share of the three busiest hours<br>\" +\n",
    "       \"<i>(if demand were even across ~17 \\\"active\\\" hours, three ≈ 17.6%)</i><br>\" +\n",
    "       \"<b>span50</b> — fewest hours (starting from busiest) to reach 50% of trips\"\n",
    "),\n",
    "    font=dict(size=11, color=\"#333\")\n",
    ")\n",
    "\n",
    "fig.write_html(r\"C:\\Users\\magia\\OneDrive\\Desktop\\NY_Citi_Bike\\4.Visualizations\\waterfront_expansion.html\")\n",
    "\n",
    "fig.show()"
   ]
  },
  {
   "cell_type": "code",
   "execution_count": 18,
   "id": "c03a74d9-3398-45ac-bc26-1269eb466b31",
   "metadata": {},
   "outputs": [
    {
     "name": "stdout",
     "output_type": "stream",
     "text": [
      "Total unique stations: 1842\n",
      "Waterfront stations: 273\n"
     ]
    }
   ],
   "source": [
    "print(f\"Total unique stations: {len(stations_u)}\")\n",
    "print(f\"Waterfront stations: {stations_flagged['near_water'].sum()}\")"
   ]
  },
  {
   "cell_type": "code",
   "execution_count": 19,
   "id": "8c1dbebd-7457-4618-aa35-d009ee0d032d",
   "metadata": {},
   "outputs": [],
   "source": [
    "wf.to_csv(r'C:\\Users\\magia\\OneDrive\\Desktop\\NY_Citi_Bike\\2.Data\\Prepared Data\\waterfront_stations.csv', index = False)\n",
    "hotspot_hourly_summary.to_csv(r'C:\\Users\\magia\\OneDrive\\Desktop\\NY_Citi_Bike\\2.Data\\Prepared Data\\waterfront_hotspot_hourly_summary.csv', index = False)"
   ]
  }
 ],
 "metadata": {
  "kernelspec": {
   "display_name": "Python (CB22)",
   "language": "python",
   "name": "cb22"
  },
  "language_info": {
   "codemirror_mode": {
    "name": "ipython",
    "version": 3
   },
   "file_extension": ".py",
   "mimetype": "text/x-python",
   "name": "python",
   "nbconvert_exporter": "python",
   "pygments_lexer": "ipython3",
   "version": "3.10.18"
  }
 },
 "nbformat": 4,
 "nbformat_minor": 5
}
