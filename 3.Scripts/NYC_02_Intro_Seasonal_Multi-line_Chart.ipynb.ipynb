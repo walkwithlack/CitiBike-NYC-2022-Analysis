{
 "cells": [
  {
   "cell_type": "code",
   "execution_count": 1,
   "id": "47602a70-3515-4a08-a881-3f4b9dc54a12",
   "metadata": {},
   "outputs": [],
   "source": [
    "import pandas as pd\n",
    "import numpy as np"
   ]
  },
  {
   "cell_type": "code",
   "execution_count": 5,
   "id": "ff6f0a2b-58ea-4be6-8b41-5a93820931d4",
   "metadata": {},
   "outputs": [],
   "source": [
    "df = pd.read_csv(r\"C:\\Users\\magia\\OneDrive\\Desktop\\NY_Citi_Bike\\2.Data\\Prepared Data\\nyc_2022_essential_data.csv\", index_col=False)"
   ]
  },
  {
   "cell_type": "code",
   "execution_count": 6,
   "id": "5721ab9d-5906-4d8a-b87f-30d11a515a41",
   "metadata": {},
   "outputs": [
    {
     "data": {
      "text/html": [
       "<div>\n",
       "<style scoped>\n",
       "    .dataframe tbody tr th:only-of-type {\n",
       "        vertical-align: middle;\n",
       "    }\n",
       "\n",
       "    .dataframe tbody tr th {\n",
       "        vertical-align: top;\n",
       "    }\n",
       "\n",
       "    .dataframe thead th {\n",
       "        text-align: right;\n",
       "    }\n",
       "</style>\n",
       "<table border=\"1\" class=\"dataframe\">\n",
       "  <thead>\n",
       "    <tr style=\"text-align: right;\">\n",
       "      <th></th>\n",
       "      <th>Unnamed: 0</th>\n",
       "      <th>start_station_name</th>\n",
       "      <th>end_station_name</th>\n",
       "      <th>start_lat</th>\n",
       "      <th>start_lng</th>\n",
       "      <th>end_lat</th>\n",
       "      <th>end_lng</th>\n",
       "      <th>started_at</th>\n",
       "      <th>ended_at</th>\n",
       "      <th>date</th>\n",
       "      <th>avgTemp</th>\n",
       "    </tr>\n",
       "  </thead>\n",
       "  <tbody>\n",
       "    <tr>\n",
       "      <th>0</th>\n",
       "      <td>0</td>\n",
       "      <td>West End Ave &amp; W 107 St</td>\n",
       "      <td>Mt Morris Park W &amp; W 120 St</td>\n",
       "      <td>40.802116</td>\n",
       "      <td>-73.96818</td>\n",
       "      <td>40.804040</td>\n",
       "      <td>-73.94592</td>\n",
       "      <td>2022-01-21 13:13:43.392</td>\n",
       "      <td>2022-01-21 13:22:31.463</td>\n",
       "      <td>2022-01-21</td>\n",
       "      <td>-6.0</td>\n",
       "    </tr>\n",
       "    <tr>\n",
       "      <th>1</th>\n",
       "      <td>1</td>\n",
       "      <td>4 Ave &amp; 3 St</td>\n",
       "      <td>Boerum Pl\\t&amp; Pacific St</td>\n",
       "      <td>40.673744</td>\n",
       "      <td>-73.98565</td>\n",
       "      <td>40.688488</td>\n",
       "      <td>-73.99116</td>\n",
       "      <td>2022-01-10 11:30:54.162</td>\n",
       "      <td>2022-01-10 11:41:43.422</td>\n",
       "      <td>2022-01-10</td>\n",
       "      <td>1.6</td>\n",
       "    </tr>\n",
       "    <tr>\n",
       "      <th>2</th>\n",
       "      <td>2</td>\n",
       "      <td>1 Ave &amp; E 62 St</td>\n",
       "      <td>5 Ave &amp; E 29 St</td>\n",
       "      <td>40.761227</td>\n",
       "      <td>-73.96094</td>\n",
       "      <td>40.745167</td>\n",
       "      <td>-73.98683</td>\n",
       "      <td>2022-01-26 10:52:43.096</td>\n",
       "      <td>2022-01-26 11:06:35.227</td>\n",
       "      <td>2022-01-26</td>\n",
       "      <td>-2.3</td>\n",
       "    </tr>\n",
       "    <tr>\n",
       "      <th>3</th>\n",
       "      <td>3</td>\n",
       "      <td>2 Ave &amp; E 96 St</td>\n",
       "      <td>5 Ave &amp; E 29 St</td>\n",
       "      <td>40.783962</td>\n",
       "      <td>-73.94717</td>\n",
       "      <td>40.745167</td>\n",
       "      <td>-73.98683</td>\n",
       "      <td>2022-01-03 08:35:48.247</td>\n",
       "      <td>2022-01-03 09:10:50.475</td>\n",
       "      <td>2022-01-03</td>\n",
       "      <td>1.4</td>\n",
       "    </tr>\n",
       "    <tr>\n",
       "      <th>4</th>\n",
       "      <td>4</td>\n",
       "      <td>6 Ave &amp; W 34 St</td>\n",
       "      <td>5 Ave &amp; E 29 St</td>\n",
       "      <td>40.749640</td>\n",
       "      <td>-73.98805</td>\n",
       "      <td>40.745167</td>\n",
       "      <td>-73.98683</td>\n",
       "      <td>2022-01-22 14:14:23.043</td>\n",
       "      <td>2022-01-22 14:34:57.474</td>\n",
       "      <td>2022-01-22</td>\n",
       "      <td>-5.9</td>\n",
       "    </tr>\n",
       "  </tbody>\n",
       "</table>\n",
       "</div>"
      ],
      "text/plain": [
       "   Unnamed: 0       start_station_name             end_station_name  \\\n",
       "0           0  West End Ave & W 107 St  Mt Morris Park W & W 120 St   \n",
       "1           1             4 Ave & 3 St      Boerum Pl\\t& Pacific St   \n",
       "2           2          1 Ave & E 62 St              5 Ave & E 29 St   \n",
       "3           3          2 Ave & E 96 St              5 Ave & E 29 St   \n",
       "4           4          6 Ave & W 34 St              5 Ave & E 29 St   \n",
       "\n",
       "   start_lat  start_lng    end_lat   end_lng               started_at  \\\n",
       "0  40.802116  -73.96818  40.804040 -73.94592  2022-01-21 13:13:43.392   \n",
       "1  40.673744  -73.98565  40.688488 -73.99116  2022-01-10 11:30:54.162   \n",
       "2  40.761227  -73.96094  40.745167 -73.98683  2022-01-26 10:52:43.096   \n",
       "3  40.783962  -73.94717  40.745167 -73.98683  2022-01-03 08:35:48.247   \n",
       "4  40.749640  -73.98805  40.745167 -73.98683  2022-01-22 14:14:23.043   \n",
       "\n",
       "                  ended_at        date  avgTemp  \n",
       "0  2022-01-21 13:22:31.463  2022-01-21     -6.0  \n",
       "1  2022-01-10 11:41:43.422  2022-01-10      1.6  \n",
       "2  2022-01-26 11:06:35.227  2022-01-26     -2.3  \n",
       "3  2022-01-03 09:10:50.475  2022-01-03      1.4  \n",
       "4  2022-01-22 14:34:57.474  2022-01-22     -5.9  "
      ]
     },
     "execution_count": 6,
     "metadata": {},
     "output_type": "execute_result"
    }
   ],
   "source": [
    "df.head()"
   ]
  },
  {
   "cell_type": "code",
   "execution_count": 7,
   "id": "7d1c28fb-eef2-4716-962a-9298ffdc566e",
   "metadata": {},
   "outputs": [
    {
     "data": {
      "text/plain": [
       "Unnamed: 0              int64\n",
       "start_station_name     object\n",
       "end_station_name       object\n",
       "start_lat             float64\n",
       "start_lng             float64\n",
       "end_lat               float64\n",
       "end_lng               float64\n",
       "started_at             object\n",
       "ended_at               object\n",
       "date                   object\n",
       "avgTemp               float64\n",
       "dtype: object"
      ]
     },
     "execution_count": 7,
     "metadata": {},
     "output_type": "execute_result"
    }
   ],
   "source": [
    "df.dtypes"
   ]
  },
  {
   "cell_type": "markdown",
   "id": "86f02fe7-59c6-4c0c-9e00-9c6100ed0957",
   "metadata": {},
   "source": [
    "### Creating hourly flows dataset to check imbalances"
   ]
  },
  {
   "cell_type": "code",
   "execution_count": 11,
   "id": "253f3256-9e72-44d4-a536-bc26cf399f9b",
   "metadata": {},
   "outputs": [
    {
     "data": {
      "text/html": [
       "<div>\n",
       "<style scoped>\n",
       "    .dataframe tbody tr th:only-of-type {\n",
       "        vertical-align: middle;\n",
       "    }\n",
       "\n",
       "    .dataframe tbody tr th {\n",
       "        vertical-align: top;\n",
       "    }\n",
       "\n",
       "    .dataframe thead th {\n",
       "        text-align: right;\n",
       "    }\n",
       "</style>\n",
       "<table border=\"1\" class=\"dataframe\">\n",
       "  <thead>\n",
       "    <tr style=\"text-align: right;\">\n",
       "      <th></th>\n",
       "      <th>station_name</th>\n",
       "      <th>lat</th>\n",
       "      <th>lng</th>\n",
       "      <th>hour</th>\n",
       "      <th>starts</th>\n",
       "      <th>ends</th>\n",
       "      <th>total_trips</th>\n",
       "      <th>imbalance_ratio</th>\n",
       "    </tr>\n",
       "  </thead>\n",
       "  <tbody>\n",
       "    <tr>\n",
       "      <th>1697</th>\n",
       "      <td>1 Ave &amp; E 110 St</td>\n",
       "      <td>40.792328</td>\n",
       "      <td>-73.9383</td>\n",
       "      <td>2022-01-01 00:00:00</td>\n",
       "      <td>1</td>\n",
       "      <td>0</td>\n",
       "      <td>1</td>\n",
       "      <td>1.0</td>\n",
       "    </tr>\n",
       "    <tr>\n",
       "      <th>10355626</th>\n",
       "      <td>1 Ave &amp; E 110 St</td>\n",
       "      <td>40.792328</td>\n",
       "      <td>-73.9383</td>\n",
       "      <td>2022-01-01 02:00:00</td>\n",
       "      <td>0</td>\n",
       "      <td>2</td>\n",
       "      <td>2</td>\n",
       "      <td>-1.0</td>\n",
       "    </tr>\n",
       "    <tr>\n",
       "      <th>1698</th>\n",
       "      <td>1 Ave &amp; E 110 St</td>\n",
       "      <td>40.792328</td>\n",
       "      <td>-73.9383</td>\n",
       "      <td>2022-01-01 03:00:00</td>\n",
       "      <td>2</td>\n",
       "      <td>0</td>\n",
       "      <td>2</td>\n",
       "      <td>1.0</td>\n",
       "    </tr>\n",
       "    <tr>\n",
       "      <th>10355627</th>\n",
       "      <td>1 Ave &amp; E 110 St</td>\n",
       "      <td>40.792328</td>\n",
       "      <td>-73.9383</td>\n",
       "      <td>2022-01-01 04:00:00</td>\n",
       "      <td>0</td>\n",
       "      <td>1</td>\n",
       "      <td>1</td>\n",
       "      <td>-1.0</td>\n",
       "    </tr>\n",
       "    <tr>\n",
       "      <th>1699</th>\n",
       "      <td>1 Ave &amp; E 110 St</td>\n",
       "      <td>40.792328</td>\n",
       "      <td>-73.9383</td>\n",
       "      <td>2022-01-01 07:00:00</td>\n",
       "      <td>1</td>\n",
       "      <td>1</td>\n",
       "      <td>2</td>\n",
       "      <td>0.0</td>\n",
       "    </tr>\n",
       "  </tbody>\n",
       "</table>\n",
       "</div>"
      ],
      "text/plain": [
       "              station_name        lat      lng                hour  starts  \\\n",
       "1697      1 Ave & E 110 St  40.792328 -73.9383 2022-01-01 00:00:00       1   \n",
       "10355626  1 Ave & E 110 St  40.792328 -73.9383 2022-01-01 02:00:00       0   \n",
       "1698      1 Ave & E 110 St  40.792328 -73.9383 2022-01-01 03:00:00       2   \n",
       "10355627  1 Ave & E 110 St  40.792328 -73.9383 2022-01-01 04:00:00       0   \n",
       "1699      1 Ave & E 110 St  40.792328 -73.9383 2022-01-01 07:00:00       1   \n",
       "\n",
       "          ends  total_trips  imbalance_ratio  \n",
       "1697         0            1              1.0  \n",
       "10355626     2            2             -1.0  \n",
       "1698         0            2              1.0  \n",
       "10355627     1            1             -1.0  \n",
       "1699         1            2              0.0  "
      ]
     },
     "execution_count": 11,
     "metadata": {},
     "output_type": "execute_result"
    }
   ],
   "source": [
    "# 1) Change timestamps to datetime\n",
    "df['started_at'] = pd.to_datetime(df['started_at'], errors='coerce')\n",
    "df['ended_at']   = pd.to_datetime(df['ended_at'], errors='coerce')\n",
    "\n",
    "# 2) Hour buckets\n",
    "df['started_hour'] = df['started_at'].dt.floor('H')\n",
    "df['ended_hour']   = df['ended_at'].dt.floor('H')\n",
    "\n",
    "# 3) Count starts by station-hour\n",
    "starts = (\n",
    "    df.groupby(['start_station_name','start_lat','start_lng','started_hour'])\n",
    "      .size()\n",
    "      .rename('starts')\n",
    "      .reset_index()\n",
    "      .rename(columns={\n",
    "          'start_station_name':'station_name',\n",
    "          'start_lat':'lat',\n",
    "          'start_lng':'lng',\n",
    "          'started_hour':'hour'\n",
    "      })\n",
    ")\n",
    "\n",
    "# 4) Count ends by station-hour\n",
    "ends = (\n",
    "    df.groupby(['end_station_name','end_lat','end_lng','ended_hour'])\n",
    "      .size()\n",
    "      .rename('ends')\n",
    "      .reset_index()\n",
    "      .rename(columns={\n",
    "          'end_station_name':'station_name',\n",
    "          'end_lat':'lat',\n",
    "          'end_lng':'lng',\n",
    "          'ended_hour':'hour'\n",
    "      })\n",
    ")\n",
    "\n",
    "# 5) Outer-merge on station_name + hour (no station_id in your data)\n",
    "hourly = starts.merge(ends, on=['station_name','hour'], how='outer', suffixes=('_start','_end'))\n",
    "\n",
    "# 6) Coalesce metadata (prefer starts’ metadata when both exist)\n",
    "hourly['lat'] = hourly['lat_start'].combine_first(hourly['lat_end'])\n",
    "hourly['lng'] = hourly['lng_start'].combine_first(hourly['lng_end'])\n",
    "\n",
    "hourly['starts'] = hourly['starts'].fillna(0).astype('int32')\n",
    "hourly['ends']   = hourly['ends'].fillna(0).astype('int32')\n",
    "\n",
    "hourly = hourly[['station_name','lat','lng','hour','starts','ends']].sort_values(['station_name','hour'])\n",
    "\n",
    "# 7) Useful helpers for later steps\n",
    "hourly['total_trips'] = hourly['starts'] + hourly['ends']\n",
    "hourly['imbalance_ratio'] = np.where(\n",
    "    hourly['total_trips'] > 0,\n",
    "    (hourly['starts'] - hourly['ends']) / hourly['total_trips'],\n",
    "    0.0\n",
    ").astype('float32')\n",
    "\n",
    "hourly.head()"
   ]
  },
  {
   "cell_type": "code",
   "execution_count": 16,
   "id": "6569204d-6966-457c-b505-e71ae90c55c3",
   "metadata": {},
   "outputs": [
    {
     "data": {
      "text/plain": [
       "count    1.177966e+07\n",
       "mean    -2.051709e-01\n",
       "std      6.440764e-01\n",
       "min     -1.000000e+00\n",
       "25%     -7.777778e-01\n",
       "50%     -3.333333e-01\n",
       "75%      1.333333e-01\n",
       "max      1.000000e+00\n",
       "Name: imbalance_ratio, dtype: float64"
      ]
     },
     "execution_count": 16,
     "metadata": {},
     "output_type": "execute_result"
    }
   ],
   "source": [
    "# Quick stats of imbalance column\n",
    "hourly['imbalance_ratio'].describe()"
   ]
  },
  {
   "cell_type": "markdown",
   "id": "2f60eca8-28ba-44ed-83aa-efc6eb96ca02",
   "metadata": {},
   "source": [
    "- average/mean = –0.205 → overall, ***stations tend to have more trips ending than starting*** (system-wide inflow bias).\n",
    "- std = 0.644 → ratios vary a lot between hours/stations.\n",
    "- 25% = –0.78 → 25% of station-hours are very negative, with almost 80% more ends than starts.\n",
    "- 50% (median) = –0.33 → the “typical” station-hour still has a deficit of bikes (more ends).\n",
    "- 75% = 0.13 → 25% of cases have slight surpluses (more starts than ends).\n",
    "- In short: Most of the time, stations lean toward receiving bikes (negative ratios), but there are plenty of hours where stations swing the other way. The extreme ±1 values are the most unbalanced (all-in or all-out)."
   ]
  },
  {
   "cell_type": "code",
   "execution_count": 17,
   "id": "b70f972d-c20b-4985-8852-9b460e198d14",
   "metadata": {},
   "outputs": [
    {
     "data": {
      "text/plain": [
       "-1.0    1480636\n",
       "-0.9     890127\n",
       "-0.8     973556\n",
       "-0.7     571714\n",
       "-0.6     441027\n",
       "-0.5     589910\n",
       "-0.4     160562\n",
       "-0.3     964096\n",
       "-0.2     437515\n",
       "-0.1     399808\n",
       " 0.0    1705150\n",
       " 0.1     318613\n",
       " 0.2     324933\n",
       " 0.3     451989\n",
       " 0.4      99433\n",
       " 0.5     185037\n",
       " 0.6      98806\n",
       " 0.7      57734\n",
       " 0.8      26400\n",
       " 0.9       5561\n",
       " 1.0    1597049\n",
       "Name: imbalance_ratio, dtype: int64"
      ]
     },
     "execution_count": 17,
     "metadata": {},
     "output_type": "execute_result"
    }
   ],
   "source": [
    "# Value counts binned\n",
    "hourly['imbalance_ratio'].round(1).value_counts().sort_index()"
   ]
  },
  {
   "cell_type": "markdown",
   "id": "9e6dc71d-d5be-41f6-b306-4eb5220723c5",
   "metadata": {},
   "source": [
    "- Most stations lean toward being receivers (negative imbalance).\n",
    "- But there are plenty of one-sided extremes (all-in or all-out hours), which are the riskiest for disruption.\n",
    "- Balanced hours (0.0) are common, but that can also include “low demand” cases where just 1 start & 1 end cancel each other out."
   ]
  },
  {
   "cell_type": "code",
   "execution_count": 27,
   "id": "34cd544f-22c2-4ad2-be22-27e4b6de034d",
   "metadata": {},
   "outputs": [
    {
     "data": {
      "text/plain": [
       "-1.0     59202\n",
       "-0.9    890127\n",
       "-0.8    568916\n",
       "-0.7     23043\n",
       "-0.6     49827\n",
       "-0.5     73445\n",
       "-0.4    104606\n",
       "-0.3    147090\n",
       "-0.2    233437\n",
       "-0.1    261457\n",
       " 0.0    259172\n",
       " 0.1    200192\n",
       " 0.2    154230\n",
       " 0.3     87924\n",
       " 0.4     59885\n",
       " 0.5     40828\n",
       " 0.6     26950\n",
       " 0.7     12101\n",
       " 0.8     12298\n",
       " 0.9      5561\n",
       " 1.0      2266\n",
       "Name: imbalance_ratio, dtype: int64"
      ]
     },
     "execution_count": 27,
     "metadata": {},
     "output_type": "execute_result"
    }
   ],
   "source": [
    "# Filter out low-demand station-hours\n",
    "demand_threshold = 10\n",
    "hourly_filtered = hourly[hourly['total_trips'] >= demand_threshold].copy()\n",
    "\n",
    "# Recheck distribution\n",
    "hourly_filtered['imbalance_ratio'].round(1).value_counts().sort_index()"
   ]
  },
  {
   "cell_type": "markdown",
   "id": "204e4fb3-4519-4394-bf9f-be936123b0d9",
   "metadata": {},
   "source": [
    "- Strong negative imbalance is common: –0.9 (~ 890K) and –0.8 (~ 569K) dominate → many station-hours see heavy inflows (stations acting as sinks).\n",
    "\n",
    "- Mild negatives still sizeable: –0.3 to –0.1 range (~640K combined) shows more balanced but still inflow-leaning hours.\n",
    "\n",
    "- Balanced hours: 0.0 (~259K), a noticeable cluster of roughly balanced trips.\n",
    "\n",
    "- Positive imbalance is much smaller: Only ~200K–150K hours in the 0.1–0.3 range.\n",
    "\n",
    "- Very few strong positives: e.g. 0.8 (~ 12K);  0.9 (~ 5.5K);  1.0 (~ 2.3K).\n",
    "\n",
    "***Negative imbalances outnumber positives by a wide margin, confirming that bike accumulation is far more common than depletion once low-demand noise is filtered out***."
   ]
  },
  {
   "cell_type": "code",
   "execution_count": 25,
   "id": "397a7a70-6994-4ceb-a070-accbb39c987a",
   "metadata": {},
   "outputs": [
    {
     "data": {
      "image/png": "[encoded data removed]",
      "text/plain": [
       "<Figure size 800x500 with 1 Axes>"
      ]
     },
     "metadata": {},
     "output_type": "display_data"
    }
   ],
   "source": [
    "# histogram for the imbalance ratio distribution (after filtering)\n",
    "\n",
    "import matplotlib.pyplot as plt\n",
    "\n",
    "plt.figure(figsize=(8,5))\n",
    "hourly_filtered['imbalance_ratio'].hist(bins=40)\n",
    "plt.xlabel(\"Imbalance ratio ( (starts - ends) / total )\")\n",
    "plt.ylabel(\"Number of station-hours\")\n",
    "plt.title(\"Distribution of Station-Hour Imbalance Ratios\")\n",
    "plt.grid(False)\n",
    "plt.show()\n"
   ]
  },
  {
   "cell_type": "markdown",
   "id": "5d2ef0bf-f4ca-46d7-aa90-705d50e7bf99",
   "metadata": {},
   "source": [
    "- A huge spike around –0.9 to –0.8, confirming that many station-hours are strongly sink behavior (far more ends than starts).\n",
    "\n",
    "- A smaller bump around 0 → balanced hours.\n",
    "\n",
    "- A long, thin right tail → some stations act as strong sources, but far less common.\n",
    "\n",
    "***Operationally, this says: Bike accumulation is the dominant risk. Redistribution trucks will mostly be busy removing bikes from overloaded stations rather than refilling empty ones***."
   ]
  },
  {
   "cell_type": "markdown",
   "id": "2e06928c-5e37-45d4-b7d3-a897cb3888dc",
   "metadata": {},
   "source": [
    "### Building dataset for Kepler map"
   ]
  },
  {
   "cell_type": "code",
   "execution_count": 28,
   "id": "2b731d50-c688-4c6d-b45c-52b98d5d1828",
   "metadata": {},
   "outputs": [
    {
     "data": {
      "text/plain": [
       "'kepler_station_hourly.csv'"
      ]
     },
     "execution_count": 28,
     "metadata": {},
     "output_type": "execute_result"
    }
   ],
   "source": [
    "# Columns Kepler needs: lat, lng, time, plus metrics for color/size\n",
    "kepler_df = hourly_filtered.loc[:, [\n",
    "    'station_name','lat','lng','hour','starts','ends','total_trips','imbalance_ratio'\n",
    "]].rename(columns={\n",
    "    'hour':'timestamp'\n",
    "})\n",
    "\n",
    "# Save for Kepler\n",
    "out_path = \"kepler_station_hourly.csv\"\n",
    "kepler_df.to_csv(out_path, index=False)\n",
    "out_path"
   ]
  },
  {
   "cell_type": "markdown",
   "id": "fccbffe5-22e0-441f-bd3d-ba7c75ee515a",
   "metadata": {},
   "source": [
    "### Building line chart"
   ]
  },
  {
   "cell_type": "code",
   "execution_count": 32,
   "id": "9d8589fb-dfd6-4d29-ae85-5fe319619163",
   "metadata": {},
   "outputs": [
    {
     "data": {
      "text/html": [
       "<div>\n",
       "<style scoped>\n",
       "    .dataframe tbody tr th:only-of-type {\n",
       "        vertical-align: middle;\n",
       "    }\n",
       "\n",
       "    .dataframe tbody tr th {\n",
       "        vertical-align: top;\n",
       "    }\n",
       "\n",
       "    .dataframe thead th {\n",
       "        text-align: right;\n",
       "    }\n",
       "</style>\n",
       "<table border=\"1\" class=\"dataframe\">\n",
       "  <thead>\n",
       "    <tr style=\"text-align: right;\">\n",
       "      <th></th>\n",
       "      <th>station_name</th>\n",
       "      <th>lat</th>\n",
       "      <th>lng</th>\n",
       "      <th>nta_code</th>\n",
       "      <th>nta_name</th>\n",
       "      <th>borough</th>\n",
       "    </tr>\n",
       "  </thead>\n",
       "  <tbody>\n",
       "    <tr>\n",
       "      <th>0</th>\n",
       "      <td>1 Ave &amp; E 110 St</td>\n",
       "      <td>40.792328</td>\n",
       "      <td>-73.938300</td>\n",
       "      <td>MN1102</td>\n",
       "      <td>East Harlem (North)</td>\n",
       "      <td>Manhattan</td>\n",
       "    </tr>\n",
       "    <tr>\n",
       "      <th>1</th>\n",
       "      <td>1 Ave &amp; E 110 St</td>\n",
       "      <td>40.792480</td>\n",
       "      <td>-73.938190</td>\n",
       "      <td>MN1102</td>\n",
       "      <td>East Harlem (North)</td>\n",
       "      <td>Manhattan</td>\n",
       "    </tr>\n",
       "    <tr>\n",
       "      <th>2</th>\n",
       "      <td>1 Ave &amp; E 110 St</td>\n",
       "      <td>40.792427</td>\n",
       "      <td>-73.938390</td>\n",
       "      <td>MN1102</td>\n",
       "      <td>East Harlem (North)</td>\n",
       "      <td>Manhattan</td>\n",
       "    </tr>\n",
       "    <tr>\n",
       "      <th>3</th>\n",
       "      <td>1 Ave &amp; E 110 St</td>\n",
       "      <td>40.792152</td>\n",
       "      <td>-73.937744</td>\n",
       "      <td>MN1101</td>\n",
       "      <td>East Harlem (South)</td>\n",
       "      <td>Manhattan</td>\n",
       "    </tr>\n",
       "    <tr>\n",
       "      <th>4</th>\n",
       "      <td>1 Ave &amp; E 110 St</td>\n",
       "      <td>40.792347</td>\n",
       "      <td>-73.937870</td>\n",
       "      <td>MN1101</td>\n",
       "      <td>East Harlem (South)</td>\n",
       "      <td>Manhattan</td>\n",
       "    </tr>\n",
       "  </tbody>\n",
       "</table>\n",
       "</div>"
      ],
      "text/plain": [
       "       station_name        lat        lng nta_code             nta_name  \\\n",
       "0  1 Ave & E 110 St  40.792328 -73.938300   MN1102  East Harlem (North)   \n",
       "1  1 Ave & E 110 St  40.792480 -73.938190   MN1102  East Harlem (North)   \n",
       "2  1 Ave & E 110 St  40.792427 -73.938390   MN1102  East Harlem (North)   \n",
       "3  1 Ave & E 110 St  40.792152 -73.937744   MN1101  East Harlem (South)   \n",
       "4  1 Ave & E 110 St  40.792347 -73.937870   MN1101  East Harlem (South)   \n",
       "\n",
       "     borough  \n",
       "0  Manhattan  \n",
       "1  Manhattan  \n",
       "2  Manhattan  \n",
       "3  Manhattan  \n",
       "4  Manhattan  "
      ]
     },
     "execution_count": 32,
     "metadata": {},
     "output_type": "execute_result"
    }
   ],
   "source": [
    "import geopandas as gpd\n",
    "from shapely.geometry import Point\n",
    "\n",
    "# 1) Unique stations\n",
    "stations = (\n",
    "    hourly[['station_name','lat','lng']]\n",
    "    .dropna()\n",
    "    .drop_duplicates()\n",
    "    .reset_index(drop=True)\n",
    ")\n",
    "\n",
    "# 2) Stations as GeoDataFrame\n",
    "gdf_stations = gpd.GeoDataFrame(\n",
    "    stations,\n",
    "    geometry=[Point(xy) for xy in zip(stations['lng'], stations['lat'])],\n",
    "    crs=\"EPSG:4326\"\n",
    ")\n",
    "\n",
    "# 3) Load NTA GeoJSON (update path)\n",
    "nta = gpd.read_file(r\"C:/Users/magia/OneDrive/Desktop/NY_Citi_Bike/2.Data/Prepared Data/nyc_nta_2020.geojson\").to_crs(\"EPSG:4326\")\n",
    "\n",
    "# 4) Spatial join: stations -> NTA (using NTA2020 + NTAName)\n",
    "stations_nta = gpd.sjoin(\n",
    "    gdf_stations, \n",
    "    nta[['NTA2020','NTAName','BoroName','geometry']], \n",
    "    how='left', \n",
    "    predicate='within'\n",
    ")\n",
    "# 5) Lookup table\n",
    "station_to_nta = stations_nta[['station_name','lat','lng','NTA2020','NTAName','BoroName']].rename(\n",
    "    columns={'NTA2020':'nta_code','NTAName':'nta_name','BoroName':'borough'}\n",
    ")\n",
    "station_to_nta.head()"
   ]
  },
  {
   "cell_type": "code",
   "execution_count": 33,
   "id": "0bee97d5-0074-45ae-9edb-4e9d0d9bca38",
   "metadata": {
    "scrolled": true
   },
   "outputs": [
    {
     "data": {
      "text/plain": [
       "(            nta_name borough                hour  starts  ends  total_trips  \\\n",
       " 0  Astoria (Central)  Queens 2022-01-01 00:00:00       3     0            3   \n",
       " 1  Astoria (Central)  Queens 2022-01-01 01:00:00      11    11           22   \n",
       " 2  Astoria (Central)  Queens 2022-01-01 02:00:00       9    17           26   \n",
       " 3  Astoria (Central)  Queens 2022-01-01 03:00:00       5     8           13   \n",
       " 4  Astoria (Central)  Queens 2022-01-01 04:00:00       4     5            9   \n",
       " \n",
       "    hour_of_day  \n",
       " 0            0  \n",
       " 1            1  \n",
       " 2            2  \n",
       " 3            3  \n",
       " 4            4  ,\n",
       "             nta_name borough  hour_of_day  avg_starts   avg_ends  \\\n",
       " 0  Astoria (Central)  Queens            0   11.021978  13.969780   \n",
       " 1  Astoria (Central)  Queens            1    6.296399   7.606648   \n",
       " 2  Astoria (Central)  Queens            2    3.988201   4.734513   \n",
       " 3  Astoria (Central)  Queens            3    2.549206   2.717460   \n",
       " 4  Astoria (Central)  Queens            4    2.694704   3.003115   \n",
       " \n",
       "    avg_total_trips  \n",
       " 0        24.991758  \n",
       " 1        13.903047  \n",
       " 2         8.722714  \n",
       " 3         5.266667  \n",
       " 4         5.697819  )"
      ]
     },
     "execution_count": 33,
     "metadata": {},
     "output_type": "execute_result"
    }
   ],
   "source": [
    "# Build horly demand by NTA table\n",
    "\n",
    "# 1) Attach NTA to each station-hour\n",
    "hourly_nta = (\n",
    "    hourly.merge(\n",
    "        station_to_nta, \n",
    "        on=['station_name','lat','lng'], \n",
    "        how='left'\n",
    "    )\n",
    "    .dropna(subset=['nta_name'])   # drop stations outside NYC polygons, if any\n",
    ")\n",
    "\n",
    "# 2) Aggregate trips by NTA + hour (timestamp hour)\n",
    "nta_hourly = (\n",
    "    hourly_nta\n",
    "    .groupby(['nta_name','borough','hour'], as_index=False)[['starts','ends','total_trips']]\n",
    "    .sum()\n",
    "    .sort_values(['nta_name','hour'])\n",
    ")\n",
    "\n",
    "# 3) (Optional) “typical day” profile → average by hour-of-day across the year\n",
    "nta_hourly['hour_of_day'] = nta_hourly['hour'].dt.hour\n",
    "nta_daily_profile = (\n",
    "    nta_hourly\n",
    "    .groupby(['nta_name','borough','hour_of_day'], as_index=False)[['starts','ends','total_trips']]\n",
    "    .mean()\n",
    "    .rename(columns={'total_trips':'avg_total_trips','starts':'avg_starts','ends':'avg_ends'})\n",
    ")\n",
    "\n",
    "nta_hourly.head(), nta_daily_profile.head()"
   ]
  },
  {
   "cell_type": "markdown",
   "id": "1d96cb95-bb37-4a47-b684-df6082eab7cc",
   "metadata": {},
   "source": [
    "### Multi-line chart for the top N busiest NTAs in NYC"
   ]
  },
  {
   "cell_type": "code",
   "execution_count": null,
   "id": "440b13b3-7cac-4173-bfd8-90f079a035d0",
   "metadata": {},
   "outputs": [],
   "source": [
    "import matplotlib.pyplot as plt\n",
    "\n",
    "# 1) Pick top N NTAs by avg_total_trips\n",
    "N = 12\n",
    "top_nta = (\n",
    "    nta_daily_profile.groupby('nta_name', as_index=False)['avg_total_trips']\n",
    "    .mean()\n",
    "    .sort_values('avg_total_trips', ascending=False)\n",
    "    .head(N)['nta_name']\n",
    ")\n",
    "\n",
    "# 2) Pivot to wide (rows: hour_of_day, columns: nta_name)\n",
    "plot_df = (\n",
    "    nta_daily_profile[nta_daily_profile['nta_name'].isin(top_nta)]\n",
    "    .pivot_table(index='hour_of_day', columns='nta_name', values='avg_total_trips')\n",
    "    .sort_index()\n",
    ")\n",
    "\n",
    "# 3) Plot\n",
    "plt.figure(figsize=(10,6))\n",
    "plot_df.plot(ax=plt.gca())\n",
    "plt.title('CitiBike — Avg Trips by Hour (Top NTAs)')\n",
    "plt.xlabel('Hour of Day')\n",
    "plt.ylabel('Avg Total Trips per Hour')\n",
    "plt.legend(title='NTA', ncol=2, fontsize=8)\n",
    "plt.tight_layout()\n",
    "plt.show()\n"
   ]
  },
  {
   "cell_type": "code",
   "execution_count": 36,
   "id": "e79d5db9-84de-4a2d-b987-13cbc277881f",
   "metadata": {},
   "outputs": [
    {
     "data": {
      "text/plain": [
       "262"
      ]
     },
     "execution_count": 36,
     "metadata": {},
     "output_type": "execute_result"
    }
   ],
   "source": [
    "# number of unique NTA names\n",
    "nta['NTAName'].nunique()"
   ]
  },
  {
   "cell_type": "code",
   "execution_count": 37,
   "id": "78366e32-9c01-4f00-b748-acb936fa000f",
   "metadata": {
    "scrolled": true
   },
   "outputs": [
    {
     "name": "stdout",
     "output_type": "stream",
     "text": [
      "Total NTAs with stations: 113\n"
     ]
    },
    {
     "data": {
      "text/html": [
       "<div>\n",
       "<style scoped>\n",
       "    .dataframe tbody tr th:only-of-type {\n",
       "        vertical-align: middle;\n",
       "    }\n",
       "\n",
       "    .dataframe tbody tr th {\n",
       "        vertical-align: top;\n",
       "    }\n",
       "\n",
       "    .dataframe thead th {\n",
       "        text-align: right;\n",
       "    }\n",
       "</style>\n",
       "<table border=\"1\" class=\"dataframe\">\n",
       "  <thead>\n",
       "    <tr style=\"text-align: right;\">\n",
       "      <th></th>\n",
       "      <th>nta_code</th>\n",
       "      <th>nta_name</th>\n",
       "      <th>borough</th>\n",
       "      <th>num_stations</th>\n",
       "    </tr>\n",
       "  </thead>\n",
       "  <tbody>\n",
       "    <tr>\n",
       "      <th>70</th>\n",
       "      <td>MN0502</td>\n",
       "      <td>Midtown-Times Square</td>\n",
       "      <td>Manhattan</td>\n",
       "      <td>214088</td>\n",
       "    </tr>\n",
       "    <tr>\n",
       "      <th>67</th>\n",
       "      <td>MN0401</td>\n",
       "      <td>Chelsea-Hudson Yards</td>\n",
       "      <td>Manhattan</td>\n",
       "      <td>116696</td>\n",
       "    </tr>\n",
       "    <tr>\n",
       "      <th>69</th>\n",
       "      <td>MN0501</td>\n",
       "      <td>Midtown South-Flatiron-Union Square</td>\n",
       "      <td>Manhattan</td>\n",
       "      <td>100249</td>\n",
       "    </tr>\n",
       "    <tr>\n",
       "      <th>66</th>\n",
       "      <td>MN0303</td>\n",
       "      <td>East Village</td>\n",
       "      <td>Manhattan</td>\n",
       "      <td>92419</td>\n",
       "    </tr>\n",
       "    <tr>\n",
       "      <th>58</th>\n",
       "      <td>MN0101</td>\n",
       "      <td>Financial District-Battery Park City</td>\n",
       "      <td>Manhattan</td>\n",
       "      <td>72827</td>\n",
       "    </tr>\n",
       "    <tr>\n",
       "      <th>73</th>\n",
       "      <td>MN0603</td>\n",
       "      <td>Murray Hill-Kips Bay</td>\n",
       "      <td>Manhattan</td>\n",
       "      <td>69305</td>\n",
       "    </tr>\n",
       "    <tr>\n",
       "      <th>62</th>\n",
       "      <td>MN0202</td>\n",
       "      <td>Greenwich Village</td>\n",
       "      <td>Manhattan</td>\n",
       "      <td>68603</td>\n",
       "    </tr>\n",
       "    <tr>\n",
       "      <th>74</th>\n",
       "      <td>MN0604</td>\n",
       "      <td>East Midtown-Turtle Bay</td>\n",
       "      <td>Manhattan</td>\n",
       "      <td>66201</td>\n",
       "    </tr>\n",
       "    <tr>\n",
       "      <th>68</th>\n",
       "      <td>MN0402</td>\n",
       "      <td>Hell's Kitchen</td>\n",
       "      <td>Manhattan</td>\n",
       "      <td>65914</td>\n",
       "    </tr>\n",
       "    <tr>\n",
       "      <th>77</th>\n",
       "      <td>MN0702</td>\n",
       "      <td>Upper West Side (Central)</td>\n",
       "      <td>Manhattan</td>\n",
       "      <td>60104</td>\n",
       "    </tr>\n",
       "    <tr>\n",
       "      <th>76</th>\n",
       "      <td>MN0701</td>\n",
       "      <td>Upper West Side-Lincoln Square</td>\n",
       "      <td>Manhattan</td>\n",
       "      <td>58877</td>\n",
       "    </tr>\n",
       "    <tr>\n",
       "      <th>61</th>\n",
       "      <td>MN0201</td>\n",
       "      <td>SoHo-Little Italy-Hudson Square</td>\n",
       "      <td>Manhattan</td>\n",
       "      <td>56474</td>\n",
       "    </tr>\n",
       "    <tr>\n",
       "      <th>59</th>\n",
       "      <td>MN0102</td>\n",
       "      <td>Tribeca-Civic Center</td>\n",
       "      <td>Manhattan</td>\n",
       "      <td>51984</td>\n",
       "    </tr>\n",
       "    <tr>\n",
       "      <th>5</th>\n",
       "      <td>BK0202</td>\n",
       "      <td>Downtown Brooklyn-DUMBO-Boerum Hill</td>\n",
       "      <td>Brooklyn</td>\n",
       "      <td>51404</td>\n",
       "    </tr>\n",
       "    <tr>\n",
       "      <th>63</th>\n",
       "      <td>MN0203</td>\n",
       "      <td>West Village</td>\n",
       "      <td>Manhattan</td>\n",
       "      <td>48857</td>\n",
       "    </tr>\n",
       "  </tbody>\n",
       "</table>\n",
       "</div>"
      ],
      "text/plain": [
       "   nta_code                              nta_name    borough  num_stations\n",
       "70   MN0502                  Midtown-Times Square  Manhattan        214088\n",
       "67   MN0401                  Chelsea-Hudson Yards  Manhattan        116696\n",
       "69   MN0501   Midtown South-Flatiron-Union Square  Manhattan        100249\n",
       "66   MN0303                          East Village  Manhattan         92419\n",
       "58   MN0101  Financial District-Battery Park City  Manhattan         72827\n",
       "73   MN0603                  Murray Hill-Kips Bay  Manhattan         69305\n",
       "62   MN0202                     Greenwich Village  Manhattan         68603\n",
       "74   MN0604               East Midtown-Turtle Bay  Manhattan         66201\n",
       "68   MN0402                        Hell's Kitchen  Manhattan         65914\n",
       "77   MN0702             Upper West Side (Central)  Manhattan         60104\n",
       "76   MN0701        Upper West Side-Lincoln Square  Manhattan         58877\n",
       "61   MN0201       SoHo-Little Italy-Hudson Square  Manhattan         56474\n",
       "59   MN0102                  Tribeca-Civic Center  Manhattan         51984\n",
       "5    BK0202   Downtown Brooklyn-DUMBO-Boerum Hill   Brooklyn         51404\n",
       "63   MN0203                          West Village  Manhattan         48857"
      ]
     },
     "execution_count": 37,
     "metadata": {},
     "output_type": "execute_result"
    }
   ],
   "source": [
    "# list NTAs that have CitiBike stations\n",
    "\n",
    "nta_with_stations = (\n",
    "    station_to_nta\n",
    "    .dropna(subset=['nta_name'])\n",
    "    .groupby(['nta_code','nta_name','borough'])\n",
    "    .size()\n",
    "    .reset_index(name='num_stations')\n",
    "    .sort_values('num_stations', ascending=False)\n",
    ")\n",
    "\n",
    "print(\"Total NTAs with stations:\", nta_with_stations.shape[0])\n",
    "nta_with_stations.head(15)"
   ]
  },
  {
   "cell_type": "code",
   "execution_count": 39,
   "id": "55a905b6-11e8-4509-91f6-c379579aa940",
   "metadata": {},
   "outputs": [
    {
     "data": {
      "text/plain": [
       "113"
      ]
     },
     "execution_count": 39,
     "metadata": {},
     "output_type": "execute_result"
    }
   ],
   "source": [
    "nta_with_stations['nta_name'].nunique()"
   ]
  },
  {
   "cell_type": "code",
   "execution_count": 43,
   "id": "7ee6b116-3404-434b-9a0e-8a3775df240b",
   "metadata": {},
   "outputs": [],
   "source": [
    "# save nta_daily_profile dataset for line chart\n",
    "nta_daily_profile.to_pickle(\"nta_daily_profile.pkl\")"
   ]
  },
  {
   "cell_type": "markdown",
   "id": "cb2492f1-4ed1-4c5c-86eb-c4fec7c84226",
   "metadata": {},
   "source": [
    "### Adding seasons"
   ]
  },
  {
   "cell_type": "code",
   "execution_count": 44,
   "id": "adb19975-69f0-4df5-98fe-1e10622de085",
   "metadata": {},
   "outputs": [],
   "source": [
    "# starting from `hourly_nta` (has columns: nta_name, borough, hour, total_trips, starts, ends)\n",
    "hourly_nta['hour_of_day'] = hourly_nta['hour'].dt.hour\n",
    "m = hourly_nta['hour'].dt.month\n",
    "\n",
    "# Season rules:\n",
    "# winter: Dec + Jan–Apr; spring: May; summer: Jun–Sep; fall: Oct–Nov\n",
    "season = np.select(\n",
    "    [\n",
    "        (m==12) | ((m>=1) & (m<=4)),\n",
    "        (m==5),\n",
    "        (m>=6) & (m<=9),\n",
    "        (m>=10) & (m<=11)\n",
    "    ],\n",
    "    ['winter','spring','summer','fall'],\n",
    "    default='unknown'\n",
    ")\n",
    "hourly_nta['season'] = season\n",
    "\n",
    "# Average \"typical day\" by NTA × season × hour_of_day\n",
    "nta_seasonal_profile = (\n",
    "    hourly_nta\n",
    "    .groupby(['nta_name','borough','season','hour_of_day'], as_index=False)[['starts','ends','total_trips']]\n",
    "    .mean()\n",
    "    .rename(columns={'total_trips':'avg_total_trips','starts':'avg_starts','ends':'avg_ends'})\n",
    ")\n",
    "\n",
    "# save for Streamlit\n",
    "nta_seasonal_profile.to_pickle(\"nta_seasonal_profile.pkl\")"
   ]
  },
  {
   "cell_type": "code",
   "execution_count": 47,
   "id": "6fb695fd-6cd9-4d29-86c3-01f1f771a830",
   "metadata": {},
   "outputs": [
    {
     "data": {
      "text/plain": [
       "station_name               object\n",
       "lat                       float64\n",
       "lng                       float64\n",
       "hour               datetime64[ns]\n",
       "starts                      int32\n",
       "ends                        int32\n",
       "total_trips                 int32\n",
       "imbalance_ratio           float32\n",
       "nta_code                   object\n",
       "nta_name                   object\n",
       "borough                    object\n",
       "hour_of_day                 int64\n",
       "season                     object\n",
       "dtype: object"
      ]
     },
     "execution_count": 47,
     "metadata": {},
     "output_type": "execute_result"
    }
   ],
   "source": [
    "hourly_nta.dtypes"
   ]
  },
  {
   "cell_type": "code",
   "execution_count": 49,
   "id": "edce06b8-2c0d-40c7-965f-e8ba8b723219",
   "metadata": {},
   "outputs": [],
   "source": [
    "# Create daily and seasonal imbalance profiles\n",
    "\n",
    "#Daily (average day)\n",
    "daily = (hourly_nta\n",
    "         .groupby(['nta_name','borough','hour_of_day'], as_index=False)[['starts','ends']]\n",
    "         .sum())\n",
    "den = (daily['starts'] + daily['ends']).replace(0, np.nan)\n",
    "daily['imbalance_ratio'] = ((daily['starts'] - daily['ends']) / den).fillna(0.0).clip(-1,1)\n",
    "nta_daily_imbalance = daily[['nta_name','borough','hour_of_day','imbalance_ratio']]\n",
    "\n",
    "# Seasonal\n",
    "seasonal = (hourly_nta\n",
    "            .groupby(['nta_name','borough','season','hour_of_day'], as_index=False)[['starts','ends']]\n",
    "            .sum())\n",
    "den = (seasonal['starts'] + seasonal['ends']).replace(0, np.nan)\n",
    "seasonal['imbalance_ratio'] = ((seasonal['starts'] - seasonal['ends']) / den).fillna(0.0).clip(-1,1)\n",
    "nta_seasonal_imbalance = seasonal[['nta_name','borough','season','hour_of_day','imbalance_ratio']]\n",
    "\n",
    "# Save\n",
    "nta_daily_imbalance.to_pickle(\"nta_daily_imbalance.pkl\")\n",
    "nta_seasonal_imbalance.to_pickle(\"nta_seasonal_imbalance.pkl\")"
   ]
  },
  {
   "cell_type": "code",
   "execution_count": 51,
   "id": "12e45c0f-8405-4cad-800b-ded99e4bd664",
   "metadata": {},
   "outputs": [],
   "source": [
    "station_to_nta.to_csv(\"station_to_nta.csv\")"
   ]
  },
  {
   "cell_type": "code",
   "execution_count": null,
   "id": "482c866e-9ee3-4a5b-ad3e-79c3b54015eb",
   "metadata": {},
   "outputs": [],
   "source": []
  }
 ],
 "metadata": {
  "kernelspec": {
   "display_name": "Python (CB22)",
   "language": "python",
   "name": "cb22"
  },
  "language_info": {
   "codemirror_mode": {
    "name": "ipython",
    "version": 3
   },
   "file_extension": ".py",
   "mimetype": "text/x-python",
   "name": "python",
   "nbconvert_exporter": "python",
   "pygments_lexer": "ipython3",
   "version": "3.10.18"
  }
 },
 "nbformat": 4,
 "nbformat_minor": 5
}
